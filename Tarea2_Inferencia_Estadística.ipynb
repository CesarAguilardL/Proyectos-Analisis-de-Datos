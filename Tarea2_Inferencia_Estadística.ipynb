{
  "nbformat": 4,
  "nbformat_minor": 0,
  "metadata": {
    "colab": {
      "provenance": []
    },
    "kernelspec": {
      "name": "python3",
      "display_name": "Python 3"
    },
    "language_info": {
      "name": "python"
    }
  },
  "cells": [
    {
      "cell_type": "code",
      "source": [
        "from google.colab import drive\n",
        "drive.mount('/content/drive')"
      ],
      "metadata": {
        "colab": {
          "base_uri": "https://localhost:8080/"
        },
        "id": "XyrrercPjjAY",
        "outputId": "b2cb2ec0-b3be-4c07-d1f4-e102116b63ac"
      },
      "execution_count": null,
      "outputs": [
        {
          "output_type": "stream",
          "name": "stdout",
          "text": [
            "Mounted at /content/drive\n"
          ]
        }
      ]
    },
    {
      "cell_type": "code",
      "source": [
        "import numpy as np\n",
        "import pandas as pd\n",
        "import seaborn as sns\n",
        "import scipy.stats as stats\n",
        "import matplotlib.pyplot as plt\n",
        "from scipy.optimize import minimize_scalar\n",
        "from scipy.optimize import minimize\n",
        "from scipy.stats import f_oneway\n",
        "from scipy.stats import shapiro\n",
        "from scipy.stats import cosine\n",
        "from scipy.stats import t"
      ],
      "metadata": {
        "id": "ttyzvVMRht-6"
      },
      "execution_count": 1,
      "outputs": []
    },
    {
      "cell_type": "markdown",
      "source": [
        "# Problema 1:\n",
        "\n",
        "Los siguientes datos"
      ],
      "metadata": {
        "id": "LQ1H9DG5gv-j"
      }
    },
    {
      "cell_type": "code",
      "source": [
        "x = np.array([ 3.8058516 ,  4.19437519,  1.37709166,  0.77009889,  5.20968912,\n",
        "        0.65358179,  3.9701773 ,  2.07495512,  3.02571317,  3.1321825 ,\n",
        "        3.10005197,  4.94755324,  2.26160675,  0.59817735,  1.19183984,\n",
        "        1.37467926, -0.61701765,  5.01024433,  3.13300185,  5.2957513 ,\n",
        "        5.49070323, -1.13532482, -0.34934039,  5.72120588,  1.23276086,\n",
        "        4.33202401,  4.00250539, -0.40665993,  1.05709082,  3.68821387,\n",
        "        1.12295318,  2.10739471,  0.53197551, -0.27389039,  1.48139076,\n",
        "        0.70014346,  2.31649553,  2.44322569,  3.86141784,  2.04558533,\n",
        "        2.98230541,  3.69456416,  2.35192256,  0.11488102,  1.24948211,\n",
        "        2.34006925,  1.45962495, -0.09042347, -0.05130358,  1.15963357,\n",
        "        0.56871108,  2.70715761,  2.47673624,  1.70400014,  1.60709535,\n",
        "       -0.40534576,  3.07910114,  0.80967033,  5.04007949,  0.11755631,\n",
        "        1.427098  , -0.07170736,  5.11381387,  3.54324208,  4.39654794,\n",
        "        0.10687046,  2.89288521,  4.23476606,  1.54499074,  2.68598353,\n",
        "       -1.02087514,  1.9960533 ,  5.24364406,  3.2185187 , -0.38242978,\n",
        "        3.49462381,  1.06077727, -0.02623431,  3.92295454,  1.48746264,\n",
        "        2.74412523, -0.29060423,  3.915251  ,  3.13072888,  3.78471126,\n",
        "       -0.26904523,  0.66725871,  2.75931047,  2.09460576,  1.15288733,\n",
        "        3.08004069,  2.51581013,  1.88470954,  3.18040196,  0.85962888,\n",
        "       -0.2126045 ,  3.2505909 ,  2.7800464 ,  1.41144019,  2.71715232])\n"
      ],
      "metadata": {
        "id": "Ky3t7QKqhTT0"
      },
      "execution_count": 2,
      "outputs": []
    },
    {
      "cell_type": "markdown",
      "source": [
        "es una muestra de una distribución coseno:\n",
        "$$f(x)=C\\frac{1}{2\\pi}(1+\\cos(x/a-b))$$\n",
        "para $$-\\pi < x/a-b <\\pi$$ y donde C es una constante de normalización.\n",
        "\n",
        "\"a\" se conoce como la escala y \"b\" como la localización.\n",
        "\n",
        "Estima los parámetros \"a\" y \"b\" a partir de los datos y da un intervalo de confianza para ellos del 95%."
      ],
      "metadata": {
        "id": "oWcdfjuShXia"
      }
    },
    {
      "cell_type": "code",
      "source": [
        "# Definimos la función de densidad de probabilidad de la distribución coseno\n",
        "\n",
        "def cos_pdf(x, a, b):\n",
        "    c = 1 / (2 * np.pi * cosine.cdf(np.pi - b, loc=0, scale=a) - 2 * np.pi * cosine.cdf(-np.pi - b, loc=0, scale=a))\n",
        "    return c * (1 + np.cos((x - b) / a))\n",
        "\n",
        "# Encontrar los valores de \"a\" y \"b\" que maximizan la función de verosimilitud\n",
        "\n",
        "def neg_log_likelihood(params, data):\n",
        "    a, b = params\n",
        "    pdf_vals = cos_pdf(data, a, b)\n",
        "    log_likelihood = np.sum(np.log(pdf_vals))\n",
        "    return -log_likelihood\n",
        "\n",
        "result = minimize(neg_log_likelihood, [1, 0], args=(x,))\n",
        "a_est, b_est = result.x\n",
        "\n",
        "#obtener el intervalo de confianza del 95%\n",
        "\n",
        "n = len(x)\n",
        "dof = n - 2\n",
        "alpha = 0.05\n",
        "se_a = np.sqrt(result.hess_inv[0, 0])\n",
        "se_b = np.sqrt(result.hess_inv[1, 1])\n",
        "t_crit = t.ppf(1 - alpha / 2, dof)\n",
        "\n",
        "a_lower, a_upper = a_est - t_crit * se_a, a_est + t_crit * se_a\n",
        "b_lower, b_upper = b_est - t_crit * se_b, b_est + t_crit * se_b\n",
        "\n",
        "print(\"a_est:\", a_est)\n",
        "print(\"b_est:\", b_est)\n",
        "print(\"a_conf_int:\", (a_lower, a_upper))\n",
        "print(\"b_conf_int:\", (b_lower, b_upper))"
      ],
      "metadata": {
        "colab": {
          "base_uri": "https://localhost:8080/"
        },
        "id": "81Ai5htRTtdX",
        "outputId": "b9206f6e-fbe5-44d5-8490-882e10f0183f"
      },
      "execution_count": null,
      "outputs": [
        {
          "output_type": "stream",
          "name": "stdout",
          "text": [
            "a_est: -1938.7274254874642\n",
            "b_est: 5986.690632880846\n",
            "a_conf_int: (-1939.3568202882075, -1938.098030686721)\n",
            "b_conf_int: (5984.80811127913, 5988.573154482563)\n"
          ]
        },
        {
          "output_type": "stream",
          "name": "stderr",
          "text": [
            "<ipython-input-7-201b92a5e2f5>:7: RuntimeWarning: divide by zero encountered in double_scalars\n",
            "  c = 1 / (2 * np.pi * cosine.cdf(np.pi - b, loc=0, scale=a) - 2 * np.pi * cosine.cdf(-np.pi - b, loc=0, scale=a))\n",
            "/usr/local/lib/python3.9/dist-packages/scipy/optimize/_numdiff.py:576: RuntimeWarning: invalid value encountered in subtract\n",
            "  df = fun(x) - f0\n",
            "<ipython-input-7-201b92a5e2f5>:7: RuntimeWarning: divide by zero encountered in double_scalars\n",
            "  c = 1 / (2 * np.pi * cosine.cdf(np.pi - b, loc=0, scale=a) - 2 * np.pi * cosine.cdf(-np.pi - b, loc=0, scale=a))\n",
            "/usr/local/lib/python3.9/dist-packages/scipy/optimize/_numdiff.py:576: RuntimeWarning: invalid value encountered in subtract\n",
            "  df = fun(x) - f0\n"
          ]
        }
      ]
    },
    {
      "cell_type": "markdown",
      "source": [
        "# Problema 2:\n",
        "\n",
        "Con la misma secuencia de datos del problema anterior x. I**magína que no conoces la distribución de donde proviene la muestra**. Estima el primer momento de la distribución $\\mu=\\bar{x}$ (promedio) y enstima el intervalo de confianza del 95%. "
      ],
      "metadata": {
        "id": "8Xl12azVkKOF"
      }
    },
    {
      "cell_type": "code",
      "source": [
        "x_mean = np.mean(x)\n",
        "\n",
        "alpha = 0.05\n",
        "n = len(x)\n",
        "se = stats.sem(x)\n",
        "ci = stats.t.interval(1-alpha, df=n-1, loc=x_mean, scale=se)\n",
        "\n",
        "print(\"Media muestral: \", x_mean)\n",
        "print(\"Intervalo de confianza del 95%: \", ci)"
      ],
      "metadata": {
        "colab": {
          "base_uri": "https://localhost:8080/"
        },
        "id": "GWeAy1TIdKUZ",
        "outputId": "de8ad817-b048-4bdc-b3d6-26979edd9890"
      },
      "execution_count": 3,
      "outputs": [
        {
          "output_type": "stream",
          "name": "stdout",
          "text": [
            "Media muestral:  2.1342042433999997\n",
            "Intervalo de confianza del 95%:  (1.795202751766069, 2.4732057350339307)\n"
          ]
        }
      ]
    },
    {
      "cell_type": "markdown",
      "source": [
        "# Problema 3:\n",
        "\n",
        "Supongamos que deseas analizar la diferencia en las calificaciones obtenidas por tres grupos de estudiantes en un examen de matemáticas. Los grupos son: \"Grupo A\", \"Grupo B\" y \"Grupo C\". Tienes los datos de las calificaciones obtenidas por cada estudiante en un archivo CSV llamado \"calificaciones.csv\". \n",
        "\n",
        "Haz una prueba Anova para ver si hay diferencia en calificaciones de los tres grupos."
      ],
      "metadata": {
        "id": "UMPpsFF7maAF"
      }
    },
    {
      "cell_type": "code",
      "source": [
        "file_name = '/content/drive/MyDrive/Datos Mod/calificaciones.csv'\n",
        "data  = pd.read_csv(file_name)\n",
        "data"
      ],
      "metadata": {
        "colab": {
          "base_uri": "https://localhost:8080/",
          "height": 613
        },
        "id": "CK1HQg_qkYIg",
        "outputId": "2e75ab6f-e812-49ea-ad28-7abe59d3288c"
      },
      "execution_count": null,
      "outputs": [
        {
          "output_type": "execute_result",
          "data": {
            "text/plain": [
              "      Grupo     Estudiante  Calificación\n",
              "0   Grupo A   Estudiante 1           8.6\n",
              "1   Grupo A   Estudiante 2           7.9\n",
              "2   Grupo A   Estudiante 3           6.5\n",
              "3   Grupo A   Estudiante 4           9.1\n",
              "4   Grupo A   Estudiante 5           8.0\n",
              "5   Grupo A   Estudiante 6           7.2\n",
              "6   Grupo B   Estudiante 7           6.9\n",
              "7   Grupo B   Estudiante 8           7.4\n",
              "8   Grupo B   Estudiante 9           8.2\n",
              "9   Grupo B  Estudiante 10           7.8\n",
              "10  Grupo B  Estudiante 11           6.7\n",
              "11  Grupo B  Estudiante 12           8.3\n",
              "12  Grupo C  Estudiante 13           9.2\n",
              "13  Grupo C  Estudiante 14           8.6\n",
              "14  Grupo C  Estudiante 15           7.7\n",
              "15  Grupo C  Estudiante 16           8.9\n",
              "16  Grupo C  Estudiante 17           9.0\n",
              "17  Grupo C  Estudiante 18           9.5"
            ],
            "text/html": [
              "\n",
              "  <div id=\"df-48602c12-525a-4461-966e-c0753c52a7ed\">\n",
              "    <div class=\"colab-df-container\">\n",
              "      <div>\n",
              "<style scoped>\n",
              "    .dataframe tbody tr th:only-of-type {\n",
              "        vertical-align: middle;\n",
              "    }\n",
              "\n",
              "    .dataframe tbody tr th {\n",
              "        vertical-align: top;\n",
              "    }\n",
              "\n",
              "    .dataframe thead th {\n",
              "        text-align: right;\n",
              "    }\n",
              "</style>\n",
              "<table border=\"1\" class=\"dataframe\">\n",
              "  <thead>\n",
              "    <tr style=\"text-align: right;\">\n",
              "      <th></th>\n",
              "      <th>Grupo</th>\n",
              "      <th>Estudiante</th>\n",
              "      <th>Calificación</th>\n",
              "    </tr>\n",
              "  </thead>\n",
              "  <tbody>\n",
              "    <tr>\n",
              "      <th>0</th>\n",
              "      <td>Grupo A</td>\n",
              "      <td>Estudiante 1</td>\n",
              "      <td>8.6</td>\n",
              "    </tr>\n",
              "    <tr>\n",
              "      <th>1</th>\n",
              "      <td>Grupo A</td>\n",
              "      <td>Estudiante 2</td>\n",
              "      <td>7.9</td>\n",
              "    </tr>\n",
              "    <tr>\n",
              "      <th>2</th>\n",
              "      <td>Grupo A</td>\n",
              "      <td>Estudiante 3</td>\n",
              "      <td>6.5</td>\n",
              "    </tr>\n",
              "    <tr>\n",
              "      <th>3</th>\n",
              "      <td>Grupo A</td>\n",
              "      <td>Estudiante 4</td>\n",
              "      <td>9.1</td>\n",
              "    </tr>\n",
              "    <tr>\n",
              "      <th>4</th>\n",
              "      <td>Grupo A</td>\n",
              "      <td>Estudiante 5</td>\n",
              "      <td>8.0</td>\n",
              "    </tr>\n",
              "    <tr>\n",
              "      <th>5</th>\n",
              "      <td>Grupo A</td>\n",
              "      <td>Estudiante 6</td>\n",
              "      <td>7.2</td>\n",
              "    </tr>\n",
              "    <tr>\n",
              "      <th>6</th>\n",
              "      <td>Grupo B</td>\n",
              "      <td>Estudiante 7</td>\n",
              "      <td>6.9</td>\n",
              "    </tr>\n",
              "    <tr>\n",
              "      <th>7</th>\n",
              "      <td>Grupo B</td>\n",
              "      <td>Estudiante 8</td>\n",
              "      <td>7.4</td>\n",
              "    </tr>\n",
              "    <tr>\n",
              "      <th>8</th>\n",
              "      <td>Grupo B</td>\n",
              "      <td>Estudiante 9</td>\n",
              "      <td>8.2</td>\n",
              "    </tr>\n",
              "    <tr>\n",
              "      <th>9</th>\n",
              "      <td>Grupo B</td>\n",
              "      <td>Estudiante 10</td>\n",
              "      <td>7.8</td>\n",
              "    </tr>\n",
              "    <tr>\n",
              "      <th>10</th>\n",
              "      <td>Grupo B</td>\n",
              "      <td>Estudiante 11</td>\n",
              "      <td>6.7</td>\n",
              "    </tr>\n",
              "    <tr>\n",
              "      <th>11</th>\n",
              "      <td>Grupo B</td>\n",
              "      <td>Estudiante 12</td>\n",
              "      <td>8.3</td>\n",
              "    </tr>\n",
              "    <tr>\n",
              "      <th>12</th>\n",
              "      <td>Grupo C</td>\n",
              "      <td>Estudiante 13</td>\n",
              "      <td>9.2</td>\n",
              "    </tr>\n",
              "    <tr>\n",
              "      <th>13</th>\n",
              "      <td>Grupo C</td>\n",
              "      <td>Estudiante 14</td>\n",
              "      <td>8.6</td>\n",
              "    </tr>\n",
              "    <tr>\n",
              "      <th>14</th>\n",
              "      <td>Grupo C</td>\n",
              "      <td>Estudiante 15</td>\n",
              "      <td>7.7</td>\n",
              "    </tr>\n",
              "    <tr>\n",
              "      <th>15</th>\n",
              "      <td>Grupo C</td>\n",
              "      <td>Estudiante 16</td>\n",
              "      <td>8.9</td>\n",
              "    </tr>\n",
              "    <tr>\n",
              "      <th>16</th>\n",
              "      <td>Grupo C</td>\n",
              "      <td>Estudiante 17</td>\n",
              "      <td>9.0</td>\n",
              "    </tr>\n",
              "    <tr>\n",
              "      <th>17</th>\n",
              "      <td>Grupo C</td>\n",
              "      <td>Estudiante 18</td>\n",
              "      <td>9.5</td>\n",
              "    </tr>\n",
              "  </tbody>\n",
              "</table>\n",
              "</div>\n",
              "      <button class=\"colab-df-convert\" onclick=\"convertToInteractive('df-48602c12-525a-4461-966e-c0753c52a7ed')\"\n",
              "              title=\"Convert this dataframe to an interactive table.\"\n",
              "              style=\"display:none;\">\n",
              "        \n",
              "  <svg xmlns=\"http://www.w3.org/2000/svg\" height=\"24px\"viewBox=\"0 0 24 24\"\n",
              "       width=\"24px\">\n",
              "    <path d=\"M0 0h24v24H0V0z\" fill=\"none\"/>\n",
              "    <path d=\"M18.56 5.44l.94 2.06.94-2.06 2.06-.94-2.06-.94-.94-2.06-.94 2.06-2.06.94zm-11 1L8.5 8.5l.94-2.06 2.06-.94-2.06-.94L8.5 2.5l-.94 2.06-2.06.94zm10 10l.94 2.06.94-2.06 2.06-.94-2.06-.94-.94-2.06-.94 2.06-2.06.94z\"/><path d=\"M17.41 7.96l-1.37-1.37c-.4-.4-.92-.59-1.43-.59-.52 0-1.04.2-1.43.59L10.3 9.45l-7.72 7.72c-.78.78-.78 2.05 0 2.83L4 21.41c.39.39.9.59 1.41.59.51 0 1.02-.2 1.41-.59l7.78-7.78 2.81-2.81c.8-.78.8-2.07 0-2.86zM5.41 20L4 18.59l7.72-7.72 1.47 1.35L5.41 20z\"/>\n",
              "  </svg>\n",
              "      </button>\n",
              "      \n",
              "  <style>\n",
              "    .colab-df-container {\n",
              "      display:flex;\n",
              "      flex-wrap:wrap;\n",
              "      gap: 12px;\n",
              "    }\n",
              "\n",
              "    .colab-df-convert {\n",
              "      background-color: #E8F0FE;\n",
              "      border: none;\n",
              "      border-radius: 50%;\n",
              "      cursor: pointer;\n",
              "      display: none;\n",
              "      fill: #1967D2;\n",
              "      height: 32px;\n",
              "      padding: 0 0 0 0;\n",
              "      width: 32px;\n",
              "    }\n",
              "\n",
              "    .colab-df-convert:hover {\n",
              "      background-color: #E2EBFA;\n",
              "      box-shadow: 0px 1px 2px rgba(60, 64, 67, 0.3), 0px 1px 3px 1px rgba(60, 64, 67, 0.15);\n",
              "      fill: #174EA6;\n",
              "    }\n",
              "\n",
              "    [theme=dark] .colab-df-convert {\n",
              "      background-color: #3B4455;\n",
              "      fill: #D2E3FC;\n",
              "    }\n",
              "\n",
              "    [theme=dark] .colab-df-convert:hover {\n",
              "      background-color: #434B5C;\n",
              "      box-shadow: 0px 1px 3px 1px rgba(0, 0, 0, 0.15);\n",
              "      filter: drop-shadow(0px 1px 2px rgba(0, 0, 0, 0.3));\n",
              "      fill: #FFFFFF;\n",
              "    }\n",
              "  </style>\n",
              "\n",
              "      <script>\n",
              "        const buttonEl =\n",
              "          document.querySelector('#df-48602c12-525a-4461-966e-c0753c52a7ed button.colab-df-convert');\n",
              "        buttonEl.style.display =\n",
              "          google.colab.kernel.accessAllowed ? 'block' : 'none';\n",
              "\n",
              "        async function convertToInteractive(key) {\n",
              "          const element = document.querySelector('#df-48602c12-525a-4461-966e-c0753c52a7ed');\n",
              "          const dataTable =\n",
              "            await google.colab.kernel.invokeFunction('convertToInteractive',\n",
              "                                                     [key], {});\n",
              "          if (!dataTable) return;\n",
              "\n",
              "          const docLinkHtml = 'Like what you see? Visit the ' +\n",
              "            '<a target=\"_blank\" href=https://colab.research.google.com/notebooks/data_table.ipynb>data table notebook</a>'\n",
              "            + ' to learn more about interactive tables.';\n",
              "          element.innerHTML = '';\n",
              "          dataTable['output_type'] = 'display_data';\n",
              "          await google.colab.output.renderOutput(dataTable, element);\n",
              "          const docLink = document.createElement('div');\n",
              "          docLink.innerHTML = docLinkHtml;\n",
              "          element.appendChild(docLink);\n",
              "        }\n",
              "      </script>\n",
              "    </div>\n",
              "  </div>\n",
              "  "
            ]
          },
          "metadata": {},
          "execution_count": 54
        }
      ]
    },
    {
      "cell_type": "code",
      "source": [
        "print(data.head())\n",
        "f_statistic, p_value = stats.f_oneway(data[\"Calificación\"][data[\"Grupo\"] == \"Grupo A\"],\n",
        "                                      data[\"Calificación\"][data[\"Grupo\"] == \"Grupo B\"],\n",
        "                                      data[\"Calificación\"][data[\"Grupo\"] == \"Grupo C\"])\n",
        "\n",
        "print(\"F-statistic:\", f_statistic)\n",
        "print(\"p-value:\", p_value)\n",
        "\n",
        "if f_statistic > p_value:\n",
        "    print(\"podemos concluir que hay diferencias significativas en las calificaciones de los tres grupos\")\n",
        "else:\n",
        "    print(\"no podemos concluir que hay diferencias significativas\")"
      ],
      "metadata": {
        "id": "X_z7CHI7is3s",
        "colab": {
          "base_uri": "https://localhost:8080/"
        },
        "outputId": "94096f27-0037-4ff0-e101-ba1705507720"
      },
      "execution_count": null,
      "outputs": [
        {
          "output_type": "stream",
          "name": "stdout",
          "text": [
            "     Grupo    Estudiante  Calificación\n",
            "0  Grupo A  Estudiante 1           8.6\n",
            "1  Grupo A  Estudiante 2           7.9\n",
            "2  Grupo A  Estudiante 3           6.5\n",
            "3  Grupo A  Estudiante 4           9.1\n",
            "4  Grupo A  Estudiante 5           8.0\n",
            "F-statistic: 4.537127265640226\n",
            "p-value: 0.02877650747111931\n",
            "podemos concluir que hay diferencias significativas en las calificaciones de los tres grupos\n"
          ]
        }
      ]
    },
    {
      "cell_type": "markdown",
      "source": [
        "# Problema 4:\n",
        "\n",
        "Supongamos que tienes dos grupos de datos: \"Grupo A\" y \"Grupo B\", y deseas determinar si hay una diferencia significativa entre las medianas de ambos grupos. No sabes si los datos provienene de distribución normal.\n",
        "\n",
        "Los datos están en el archivo datos.csv\n",
        "\n",
        "a) Has una prueba gráfica y una prueba de hipótsis para saber si los datos tienen una distribución normal para ambos grupos.\n",
        "\n"
      ],
      "metadata": {
        "id": "6Kzl2eSnnQQK"
      }
    },
    {
      "cell_type": "code",
      "source": [
        "# Importar los datos\n",
        "file_name = '/content/drive/MyDrive/Datos Mod/datos.csv'\n",
        "data  = pd.read_csv(file_name)\n",
        "data=data.replace('Grupo A','A')\n",
        "data=data.replace('Grupo B','B')\n",
        "data"
      ],
      "metadata": {
        "colab": {
          "base_uri": "https://localhost:8080/",
          "height": 425
        },
        "id": "b2G2y9JhW2Zf",
        "outputId": "7b380d94-6ff0-434a-9ce8-5ea6f706d37d"
      },
      "execution_count": null,
      "outputs": [
        {
          "output_type": "execute_result",
          "data": {
            "text/plain": [
              "   Grupo  Datos\n",
              "0      A    5.8\n",
              "1      A    3.1\n",
              "2      A    7.2\n",
              "3      A    2.6\n",
              "4      A    6.7\n",
              "5      A    4.5\n",
              "6      B    1.9\n",
              "7      B    8.5\n",
              "8      B    4.3\n",
              "9      B    6.8\n",
              "10     B    2.1\n",
              "11     B    7.4"
            ],
            "text/html": [
              "\n",
              "  <div id=\"df-6055d3cf-d814-49e1-8797-63777f1e63e6\">\n",
              "    <div class=\"colab-df-container\">\n",
              "      <div>\n",
              "<style scoped>\n",
              "    .dataframe tbody tr th:only-of-type {\n",
              "        vertical-align: middle;\n",
              "    }\n",
              "\n",
              "    .dataframe tbody tr th {\n",
              "        vertical-align: top;\n",
              "    }\n",
              "\n",
              "    .dataframe thead th {\n",
              "        text-align: right;\n",
              "    }\n",
              "</style>\n",
              "<table border=\"1\" class=\"dataframe\">\n",
              "  <thead>\n",
              "    <tr style=\"text-align: right;\">\n",
              "      <th></th>\n",
              "      <th>Grupo</th>\n",
              "      <th>Datos</th>\n",
              "    </tr>\n",
              "  </thead>\n",
              "  <tbody>\n",
              "    <tr>\n",
              "      <th>0</th>\n",
              "      <td>A</td>\n",
              "      <td>5.8</td>\n",
              "    </tr>\n",
              "    <tr>\n",
              "      <th>1</th>\n",
              "      <td>A</td>\n",
              "      <td>3.1</td>\n",
              "    </tr>\n",
              "    <tr>\n",
              "      <th>2</th>\n",
              "      <td>A</td>\n",
              "      <td>7.2</td>\n",
              "    </tr>\n",
              "    <tr>\n",
              "      <th>3</th>\n",
              "      <td>A</td>\n",
              "      <td>2.6</td>\n",
              "    </tr>\n",
              "    <tr>\n",
              "      <th>4</th>\n",
              "      <td>A</td>\n",
              "      <td>6.7</td>\n",
              "    </tr>\n",
              "    <tr>\n",
              "      <th>5</th>\n",
              "      <td>A</td>\n",
              "      <td>4.5</td>\n",
              "    </tr>\n",
              "    <tr>\n",
              "      <th>6</th>\n",
              "      <td>B</td>\n",
              "      <td>1.9</td>\n",
              "    </tr>\n",
              "    <tr>\n",
              "      <th>7</th>\n",
              "      <td>B</td>\n",
              "      <td>8.5</td>\n",
              "    </tr>\n",
              "    <tr>\n",
              "      <th>8</th>\n",
              "      <td>B</td>\n",
              "      <td>4.3</td>\n",
              "    </tr>\n",
              "    <tr>\n",
              "      <th>9</th>\n",
              "      <td>B</td>\n",
              "      <td>6.8</td>\n",
              "    </tr>\n",
              "    <tr>\n",
              "      <th>10</th>\n",
              "      <td>B</td>\n",
              "      <td>2.1</td>\n",
              "    </tr>\n",
              "    <tr>\n",
              "      <th>11</th>\n",
              "      <td>B</td>\n",
              "      <td>7.4</td>\n",
              "    </tr>\n",
              "  </tbody>\n",
              "</table>\n",
              "</div>\n",
              "      <button class=\"colab-df-convert\" onclick=\"convertToInteractive('df-6055d3cf-d814-49e1-8797-63777f1e63e6')\"\n",
              "              title=\"Convert this dataframe to an interactive table.\"\n",
              "              style=\"display:none;\">\n",
              "        \n",
              "  <svg xmlns=\"http://www.w3.org/2000/svg\" height=\"24px\"viewBox=\"0 0 24 24\"\n",
              "       width=\"24px\">\n",
              "    <path d=\"M0 0h24v24H0V0z\" fill=\"none\"/>\n",
              "    <path d=\"M18.56 5.44l.94 2.06.94-2.06 2.06-.94-2.06-.94-.94-2.06-.94 2.06-2.06.94zm-11 1L8.5 8.5l.94-2.06 2.06-.94-2.06-.94L8.5 2.5l-.94 2.06-2.06.94zm10 10l.94 2.06.94-2.06 2.06-.94-2.06-.94-.94-2.06-.94 2.06-2.06.94z\"/><path d=\"M17.41 7.96l-1.37-1.37c-.4-.4-.92-.59-1.43-.59-.52 0-1.04.2-1.43.59L10.3 9.45l-7.72 7.72c-.78.78-.78 2.05 0 2.83L4 21.41c.39.39.9.59 1.41.59.51 0 1.02-.2 1.41-.59l7.78-7.78 2.81-2.81c.8-.78.8-2.07 0-2.86zM5.41 20L4 18.59l7.72-7.72 1.47 1.35L5.41 20z\"/>\n",
              "  </svg>\n",
              "      </button>\n",
              "      \n",
              "  <style>\n",
              "    .colab-df-container {\n",
              "      display:flex;\n",
              "      flex-wrap:wrap;\n",
              "      gap: 12px;\n",
              "    }\n",
              "\n",
              "    .colab-df-convert {\n",
              "      background-color: #E8F0FE;\n",
              "      border: none;\n",
              "      border-radius: 50%;\n",
              "      cursor: pointer;\n",
              "      display: none;\n",
              "      fill: #1967D2;\n",
              "      height: 32px;\n",
              "      padding: 0 0 0 0;\n",
              "      width: 32px;\n",
              "    }\n",
              "\n",
              "    .colab-df-convert:hover {\n",
              "      background-color: #E2EBFA;\n",
              "      box-shadow: 0px 1px 2px rgba(60, 64, 67, 0.3), 0px 1px 3px 1px rgba(60, 64, 67, 0.15);\n",
              "      fill: #174EA6;\n",
              "    }\n",
              "\n",
              "    [theme=dark] .colab-df-convert {\n",
              "      background-color: #3B4455;\n",
              "      fill: #D2E3FC;\n",
              "    }\n",
              "\n",
              "    [theme=dark] .colab-df-convert:hover {\n",
              "      background-color: #434B5C;\n",
              "      box-shadow: 0px 1px 3px 1px rgba(0, 0, 0, 0.15);\n",
              "      filter: drop-shadow(0px 1px 2px rgba(0, 0, 0, 0.3));\n",
              "      fill: #FFFFFF;\n",
              "    }\n",
              "  </style>\n",
              "\n",
              "      <script>\n",
              "        const buttonEl =\n",
              "          document.querySelector('#df-6055d3cf-d814-49e1-8797-63777f1e63e6 button.colab-df-convert');\n",
              "        buttonEl.style.display =\n",
              "          google.colab.kernel.accessAllowed ? 'block' : 'none';\n",
              "\n",
              "        async function convertToInteractive(key) {\n",
              "          const element = document.querySelector('#df-6055d3cf-d814-49e1-8797-63777f1e63e6');\n",
              "          const dataTable =\n",
              "            await google.colab.kernel.invokeFunction('convertToInteractive',\n",
              "                                                     [key], {});\n",
              "          if (!dataTable) return;\n",
              "\n",
              "          const docLinkHtml = 'Like what you see? Visit the ' +\n",
              "            '<a target=\"_blank\" href=https://colab.research.google.com/notebooks/data_table.ipynb>data table notebook</a>'\n",
              "            + ' to learn more about interactive tables.';\n",
              "          element.innerHTML = '';\n",
              "          dataTable['output_type'] = 'display_data';\n",
              "          await google.colab.output.renderOutput(dataTable, element);\n",
              "          const docLink = document.createElement('div');\n",
              "          docLink.innerHTML = docLinkHtml;\n",
              "          element.appendChild(docLink);\n",
              "        }\n",
              "      </script>\n",
              "    </div>\n",
              "  </div>\n",
              "  "
            ]
          },
          "metadata": {},
          "execution_count": 60
        }
      ]
    },
    {
      "cell_type": "code",
      "source": [
        "grupo_a = data[data[\"Grupo\"] == \"A\"][\"Datos\"]\n",
        "grupo_b = data[data[\"Grupo\"] == \"B\"][\"Datos\"]\n",
        "\n",
        "# Prueba gráfica de normalidad\n",
        "plt.hist(grupo_a, bins=20)\n",
        "plt.show()\n",
        "\n",
        "from statsmodels.graphics.gofplots import qqplot\n",
        "qqplot(grupo_a, line='s')\n",
        "plt.show()\n",
        "\n",
        "# Prueba estadística de normalidad\n",
        "stat, p = shapiro(grupo_a)\n",
        "print('Grupo A - Estadística de prueba Shapiro-Wilk: ', stat)\n",
        "print('Grupo A - Valor-p: ', p)\n",
        "\n",
        "alpha = 0.05\n",
        "if p > alpha:\n",
        "    print('No hay una diferencia significativa en las medianas (no se rechaza H0)')\n",
        "else:\n",
        "    print('Hay una diferencia significativa en las medianas (se rechaza H0)')\n",
        "# Prueba gráfica de normalidad\n",
        "plt.hist(grupo_b, bins=20)\n",
        "plt.show()\n",
        "\n",
        "qqplot(grupo_b, line='s')\n",
        "plt.show()\n",
        "\n",
        "# Prueba estadística de normalidad\n",
        "stat, p = shapiro(grupo_b)\n",
        "print('Grupo B - Estadística de prueba Shapiro-Wilk: ', stat)\n",
        "print('Grupo B - Valor-p: ', p)\n",
        "\n",
        "alpha = 0.05\n",
        "if p > alpha:\n",
        "    print('No hay una diferencia significativa en las medianas (no se rechaza H0)')\n",
        "else:\n",
        "    print('Hay una diferencia significativa en las medianas (se rechaza H0)')"
      ],
      "metadata": {
        "colab": {
          "base_uri": "https://localhost:8080/",
          "height": 1000
        },
        "id": "NLfXyiEcXvpK",
        "outputId": "f0801949-fb75-447d-b99c-b25ae9da4c16"
      },
      "execution_count": null,
      "outputs": [
        {
          "output_type": "display_data",
          "data": {
            "text/plain": [
              "<Figure size 432x288 with 1 Axes>"
            ],
            "image/png": "[encoded data removed]"
          },
          "metadata": {
            "needs_background": "light"
          }
        },
        {
          "output_type": "display_data",
          "data": {
            "text/plain": [
              "<Figure size 432x288 with 1 Axes>"
            ],
            "image/png": "[encoded data removed]"
          },
          "metadata": {
            "needs_background": "light"
          }
        },
        {
          "output_type": "stream",
          "name": "stdout",
          "text": [
            "Grupo A - Estadística de prueba Shapiro-Wilk:  0.9267435669898987\n",
            "Grupo A - Valor-p:  0.555199146270752\n",
            "No hay una diferencia significativa en las medianas (no se rechaza H0)\n"
          ]
        },
        {
          "output_type": "display_data",
          "data": {
            "text/plain": [
              "<Figure size 432x288 with 1 Axes>"
            ],
            "image/png": "[encoded data removed]"
          },
          "metadata": {
            "needs_background": "light"
          }
        },
        {
          "output_type": "display_data",
          "data": {
            "text/plain": [
              "<Figure size 432x288 with 1 Axes>"
            ],
            "image/png": "[encoded data removed]"
          },
          "metadata": {
            "needs_background": "light"
          }
        },
        {
          "output_type": "stream",
          "name": "stdout",
          "text": [
            "Grupo B - Estadística de prueba Shapiro-Wilk:  0.8947597146034241\n",
            "Grupo B - Valor-p:  0.34388166666030884\n",
            "No hay una diferencia significativa en las medianas (no se rechaza H0)\n"
          ]
        }
      ]
    },
    {
      "cell_type": "markdown",
      "source": [
        "\n",
        "b) Emplea estadística no paramétrica para probar si hay diferencia significativa en la mediana entre ambos grupos."
      ],
      "metadata": {
        "id": "-PybYXzTgm_x"
      }
    },
    {
      "cell_type": "code",
      "source": [
        "# Realizar la prueba de normalidad Mann-Whitney\n",
        "stat, p = stats.mannwhitneyu(grupo_a, grupo_b)\n",
        "print('Prueba de Mann-Whitney U:')\n",
        "print('Estadístico de prueba =', stat)\n",
        "print('valor p =', p)\n",
        "alpha = 0.05\n",
        "if p > alpha:\n",
        "    print('No hay una diferencia significativa en las medianas (no se rechaza H0)')\n",
        "else:\n",
        "    print('Hay una diferencia significativa en las medianas (se rechaza H0)')\n",
        "\n",
        "#La hipótesis nula de la prueba es que no hay diferencia significativa entre las medianas de ambos grupos.\n"
      ],
      "metadata": {
        "colab": {
          "base_uri": "https://localhost:8080/"
        },
        "id": "Xh7_ciEod_ov",
        "outputId": "09dfc312-d482-4cfc-e6e0-01266b752c74"
      },
      "execution_count": null,
      "outputs": [
        {
          "output_type": "stream",
          "name": "stdout",
          "text": [
            "Prueba de Mann-Whitney U:\n",
            "Estadístico de prueba = 17.0\n",
            "valor p = 0.9372294372294373\n",
            "No hay una diferencia significativa en las medianas (no se rechaza H0)\n"
          ]
        }
      ]
    }
  ]
}