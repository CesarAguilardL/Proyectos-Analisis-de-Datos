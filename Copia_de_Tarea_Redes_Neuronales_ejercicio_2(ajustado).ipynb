{
  "cells": [
    {
      "cell_type": "markdown",
      "metadata": {
        "id": "view-in-github",
        "colab_type": "text"
      },
      "source": [
        "<a href=\"https://colab.research.google.com/github/CesarAguilardL/Proyectos-Analisis-de-Datos/blob/proyecto-3/Copia_de_Tarea_Redes_Neuronales_ejercicio_2(ajustado).ipynb\" target=\"_parent\"><img src=\"https://colab.research.google.com/assets/colab-badge.svg\" alt=\"Open In Colab\"/></a>"
      ]
    },
    {
      "cell_type": "code",
      "execution_count": null,
      "metadata": {
        "id": "s0XabKahC1ZX"
      },
      "outputs": [],
      "source": [
        "import pandas as pd\n",
        "import numpy as np\n",
        "import matplotlib.pyplot as plt\n",
        "import seaborn as sns\n",
        "from sklearn.model_selection import train_test_split\n",
        "from sklearn.preprocessing import StandardScaler\n",
        "from keras.models import Sequential\n",
        "from keras.layers import Dense\n",
        "from keras.optimizers import Adam"
      ]
    },
    {
      "cell_type": "code",
      "source": [
        "# Cargar el conjunto de datos\n",
        "data = pd.read_csv('creditcard.csv')\n",
        "\n",
        "# Explorar los datos\n",
        "print(data.head())"
      ],
      "metadata": {
        "colab": {
          "base_uri": "https://localhost:8080/"
        },
        "id": "StcL0RBJtG7A",
        "outputId": "4075a79f-2b9f-4975-db97-68d7f9d978ed"
      },
      "execution_count": null,
      "outputs": [
        {
          "output_type": "stream",
          "name": "stdout",
          "text": [
            "   Time        V1        V2        V3        V4        V5        V6        V7  \\\n",
            "0   0.0 -1.359807 -0.072781  2.536347  1.378155 -0.338321  0.462388  0.239599   \n",
            "1   0.0  1.191857  0.266151  0.166480  0.448154  0.060018 -0.082361 -0.078803   \n",
            "2   1.0 -1.358354 -1.340163  1.773209  0.379780 -0.503198  1.800499  0.791461   \n",
            "3   1.0 -0.966272 -0.185226  1.792993 -0.863291 -0.010309  1.247203  0.237609   \n",
            "4   2.0 -1.158233  0.877737  1.548718  0.403034 -0.407193  0.095921  0.592941   \n",
            "\n",
            "         V8        V9  ...       V21       V22       V23       V24       V25  \\\n",
            "0  0.098698  0.363787  ... -0.018307  0.277838 -0.110474  0.066928  0.128539   \n",
            "1  0.085102 -0.255425  ... -0.225775 -0.638672  0.101288 -0.339846  0.167170   \n",
            "2  0.247676 -1.514654  ...  0.247998  0.771679  0.909412 -0.689281 -0.327642   \n",
            "3  0.377436 -1.387024  ... -0.108300  0.005274 -0.190321 -1.175575  0.647376   \n",
            "4 -0.270533  0.817739  ... -0.009431  0.798278 -0.137458  0.141267 -0.206010   \n",
            "\n",
            "        V26       V27       V28  Amount  Class  \n",
            "0 -0.189115  0.133558 -0.021053  149.62      0  \n",
            "1  0.125895 -0.008983  0.014724    2.69      0  \n",
            "2 -0.139097 -0.055353 -0.059752  378.66      0  \n",
            "3 -0.221929  0.062723  0.061458  123.50      0  \n",
            "4  0.502292  0.219422  0.215153   69.99      0  \n",
            "\n",
            "[5 rows x 31 columns]\n"
          ]
        }
      ]
    },
    {
      "cell_type": "code",
      "source": [
        "# Verificar la distribución de las clases\n",
        "print(data['Class'].value_counts())\n",
        "\n",
        "# Graficar la distribución de las clases\n",
        "sns.countplot(data=data, x='Class')\n",
        "plt.title('Distribución de las clases')\n",
        "plt.legend('1 en caso de fraude y 0 en caso contrario')\n",
        "plt.show()\n",
        "\n",
        "#Por el desbalance de los datos creamos un nuevo data frame para que el entrenamiento se mas efectivo"
      ],
      "metadata": {
        "colab": {
          "base_uri": "https://localhost:8080/",
          "height": 524
        },
        "id": "8uwfxyhOtxt0",
        "outputId": "485a013e-eda4-435d-8c05-1b82f3b1da09"
      },
      "execution_count": null,
      "outputs": [
        {
          "output_type": "stream",
          "name": "stdout",
          "text": [
            "0    284315\n",
            "1       492\n",
            "Name: Class, dtype: int64\n"
          ]
        },
        {
          "output_type": "display_data",
          "data": {
            "text/plain": [
              "<Figure size 640x480 with 1 Axes>"
            ],
            "image/png": "[encoded data removed]"
          },
          "metadata": {}
        }
      ]
    },
    {
      "cell_type": "code",
      "source": [
        "count_ones = data[data['Class'] == 1].shape[0]\n",
        "print(\"Cantidad de filas con valor 1 en la columna 'class':\", count_ones)\n",
        "count_ceros = data[data['Class'] == 0].shape[0]\n",
        "print(\"Cantidad de filas con valor 0 en la columna 'class':\", count_ceros)"
      ],
      "metadata": {
        "colab": {
          "base_uri": "https://localhost:8080/"
        },
        "id": "nk_12HxF1dPu",
        "outputId": "7166e757-eb6c-47fb-9956-6045d7c9fe27"
      },
      "execution_count": null,
      "outputs": [
        {
          "output_type": "stream",
          "name": "stdout",
          "text": [
            "Cantidad de filas con valor 1 en la columna 'class': 492\n",
            "Cantidad de filas con valor 0 en la columna 'class': 284315\n"
          ]
        }
      ]
    },
    {
      "cell_type": "code",
      "source": [
        "import pandas as pd\n",
        "\n",
        "# Contar la cantidad de filas para cada clase\n",
        "count_class_0 = data[data['Class'] == 0].shape[0]\n",
        "count_class_1 = data[data['Class'] == 1].shape[0]\n",
        "\n",
        "# Obtener el mínimo entre las dos cantidades\n",
        "min_count = min(count_class_0, count_class_1)\n",
        "\n",
        "# Muestrear filas aleatorias para cada clase hasta alcanzar el mínimo\n",
        "data_class_0 = data[data['Class'] == 0].sample(n=min_count, random_state=42)\n",
        "data_class_1 = data[data['Class'] == 1].sample(n=min_count, random_state=42)\n",
        "\n",
        "# Concatenar los dos DataFrames resultantes\n",
        "balanced_data = pd.concat([data_class_0, data_class_1])\n",
        "\n",
        "# Opcional: reordenar las filas de forma aleatoria\n",
        "balanced_data = balanced_data.sample(frac=1, random_state=42)"
      ],
      "metadata": {
        "id": "eGiFxo9szs-F"
      },
      "execution_count": null,
      "outputs": []
    },
    {
      "cell_type": "code",
      "source": [
        "balanced_data"
      ],
      "metadata": {
        "colab": {
          "base_uri": "https://localhost:8080/",
          "height": 505
        },
        "id": "XrESxMGd1FXC",
        "outputId": "e60bdfce-5939-446f-e91d-319816d6337f"
      },
      "execution_count": null,
      "outputs": [
        {
          "output_type": "execute_result",
          "data": {
            "text/plain": [
              "            Time         V1        V2         V3         V4         V5  \\\n",
              "10891    18675.0 -12.339603  4.488267 -16.587073  10.107274 -10.420199   \n",
              "1686      1308.0  -1.379848  0.536720   2.647870   1.408111   0.126442   \n",
              "251881  155542.0   1.868226  1.363077  -1.994934   4.173516   1.239751   \n",
              "128360   78685.0  -0.671155  1.183971   0.793623  -0.218410   0.357282   \n",
              "20746    31244.0   1.087002  0.065459   0.485043   1.343874  -0.283361   \n",
              "...          ...        ...       ...        ...        ...        ...   \n",
              "35123    37976.0  -2.045484 -0.603428  -0.386028  -3.278179   0.840525   \n",
              "84735    60439.0  -0.377304  0.572787   1.333869  -0.000070   0.304511   \n",
              "149577   91502.0   0.007379  2.365183  -2.600287   1.111602   3.276441   \n",
              "175852  122517.0   1.554783 -1.059409  -0.658570   0.112271  -0.724124   \n",
              "135603   81324.0  -2.373043  2.563438   0.225781   2.274042  -1.008791   \n",
              "\n",
              "              V6         V7        V8        V9  ...       V21       V22  \\\n",
              "10891   0.130670 -15.600323 -1.157696 -5.304631  ... -2.089610  1.745315   \n",
              "1686    0.986525   0.960251 -0.629717  1.729173  ... -0.666874 -0.343574   \n",
              "251881 -0.746186   0.572731 -0.131235 -1.551839  ... -0.301001 -0.818972   \n",
              "128360 -0.023707   0.363563  0.463983 -0.704518  ... -0.083474 -0.352537   \n",
              "20746   0.002520  -0.076665  0.165384  0.151865  ... -0.040723  0.016005   \n",
              "...          ...        ...       ...       ...  ...       ...       ...   \n",
              "35123   3.868593   0.785816  1.183953  1.009150  ...  0.147327  0.243740   \n",
              "84735  -0.084981   0.497673  0.022442  0.100338  ... -0.023137  0.118389   \n",
              "149577 -1.776141   2.114531 -0.830084  0.900490  ... -0.563944 -0.902100   \n",
              "175852 -0.288185  -0.241162 -0.044019  0.879991  ...  0.021068 -0.344273   \n",
              "135603 -0.378413  -0.474627  1.555529 -2.365868  ... -0.098723 -1.084756   \n",
              "\n",
              "             V23       V24       V25       V26       V27       V28  Amount  \\\n",
              "10891   1.376816 -0.554271 -1.610741  0.153725  1.212477 -1.869290  188.78   \n",
              "1686    0.022138  0.093532  0.011293 -0.503395 -0.438189 -0.346731   43.80   \n",
              "251881  0.206812 -0.263683 -0.114958 -0.240672 -0.006629  0.017258    3.14   \n",
              "128360 -0.092199 -0.764804 -0.292712  0.185362 -0.028254  0.055953    1.30   \n",
              "20746  -0.048042  0.208209  0.571482 -0.340377  0.028643  0.007649   18.56   \n",
              "...          ...       ...       ...       ...       ...       ...     ...   \n",
              "35123  -0.357663  1.052686  1.112681 -0.749815 -0.005714 -0.173156  350.00   \n",
              "84735  -0.270359 -0.393864 -0.062653  0.510585  0.094780  0.126249   12.95   \n",
              "149577 -0.404382 -0.012944  0.589836 -0.734449 -0.447529 -0.362375    1.00   \n",
              "175852  0.131801 -0.336523 -0.569150 -0.302588 -0.035571 -0.008578  229.88   \n",
              "135603  0.388042  0.463112 -0.517477 -0.517094 -0.907652 -0.148523   24.18   \n",
              "\n",
              "        Class  \n",
              "10891       1  \n",
              "1686        0  \n",
              "251881      1  \n",
              "128360      0  \n",
              "20746       0  \n",
              "...       ...  \n",
              "35123       0  \n",
              "84735       0  \n",
              "149577      1  \n",
              "175852      0  \n",
              "135603      0  \n",
              "\n",
              "[984 rows x 31 columns]"
            ],
            "text/html": [
              "\n",
              "  <div id=\"df-5bef5496-2a95-4a2d-91f0-c3cdc02fd21d\">\n",
              "    <div class=\"colab-df-container\">\n",
              "      <div>\n",
              "<style scoped>\n",
              "    .dataframe tbody tr th:only-of-type {\n",
              "        vertical-align: middle;\n",
              "    }\n",
              "\n",
              "    .dataframe tbody tr th {\n",
              "        vertical-align: top;\n",
              "    }\n",
              "\n",
              "    .dataframe thead th {\n",
              "        text-align: right;\n",
              "    }\n",
              "</style>\n",
              "<table border=\"1\" class=\"dataframe\">\n",
              "  <thead>\n",
              "    <tr style=\"text-align: right;\">\n",
              "      <th></th>\n",
              "      <th>Time</th>\n",
              "      <th>V1</th>\n",
              "      <th>V2</th>\n",
              "      <th>V3</th>\n",
              "      <th>V4</th>\n",
              "      <th>V5</th>\n",
              "      <th>V6</th>\n",
              "      <th>V7</th>\n",
              "      <th>V8</th>\n",
              "      <th>V9</th>\n",
              "      <th>...</th>\n",
              "      <th>V21</th>\n",
              "      <th>V22</th>\n",
              "      <th>V23</th>\n",
              "      <th>V24</th>\n",
              "      <th>V25</th>\n",
              "      <th>V26</th>\n",
              "      <th>V27</th>\n",
              "      <th>V28</th>\n",
              "      <th>Amount</th>\n",
              "      <th>Class</th>\n",
              "    </tr>\n",
              "  </thead>\n",
              "  <tbody>\n",
              "    <tr>\n",
              "      <th>10891</th>\n",
              "      <td>18675.0</td>\n",
              "      <td>-12.339603</td>\n",
              "      <td>4.488267</td>\n",
              "      <td>-16.587073</td>\n",
              "      <td>10.107274</td>\n",
              "      <td>-10.420199</td>\n",
              "      <td>0.130670</td>\n",
              "      <td>-15.600323</td>\n",
              "      <td>-1.157696</td>\n",
              "      <td>-5.304631</td>\n",
              "      <td>...</td>\n",
              "      <td>-2.089610</td>\n",
              "      <td>1.745315</td>\n",
              "      <td>1.376816</td>\n",
              "      <td>-0.554271</td>\n",
              "      <td>-1.610741</td>\n",
              "      <td>0.153725</td>\n",
              "      <td>1.212477</td>\n",
              "      <td>-1.869290</td>\n",
              "      <td>188.78</td>\n",
              "      <td>1</td>\n",
              "    </tr>\n",
              "    <tr>\n",
              "      <th>1686</th>\n",
              "      <td>1308.0</td>\n",
              "      <td>-1.379848</td>\n",
              "      <td>0.536720</td>\n",
              "      <td>2.647870</td>\n",
              "      <td>1.408111</td>\n",
              "      <td>0.126442</td>\n",
              "      <td>0.986525</td>\n",
              "      <td>0.960251</td>\n",
              "      <td>-0.629717</td>\n",
              "      <td>1.729173</td>\n",
              "      <td>...</td>\n",
              "      <td>-0.666874</td>\n",
              "      <td>-0.343574</td>\n",
              "      <td>0.022138</td>\n",
              "      <td>0.093532</td>\n",
              "      <td>0.011293</td>\n",
              "      <td>-0.503395</td>\n",
              "      <td>-0.438189</td>\n",
              "      <td>-0.346731</td>\n",
              "      <td>43.80</td>\n",
              "      <td>0</td>\n",
              "    </tr>\n",
              "    <tr>\n",
              "      <th>251881</th>\n",
              "      <td>155542.0</td>\n",
              "      <td>1.868226</td>\n",
              "      <td>1.363077</td>\n",
              "      <td>-1.994934</td>\n",
              "      <td>4.173516</td>\n",
              "      <td>1.239751</td>\n",
              "      <td>-0.746186</td>\n",
              "      <td>0.572731</td>\n",
              "      <td>-0.131235</td>\n",
              "      <td>-1.551839</td>\n",
              "      <td>...</td>\n",
              "      <td>-0.301001</td>\n",
              "      <td>-0.818972</td>\n",
              "      <td>0.206812</td>\n",
              "      <td>-0.263683</td>\n",
              "      <td>-0.114958</td>\n",
              "      <td>-0.240672</td>\n",
              "      <td>-0.006629</td>\n",
              "      <td>0.017258</td>\n",
              "      <td>3.14</td>\n",
              "      <td>1</td>\n",
              "    </tr>\n",
              "    <tr>\n",
              "      <th>128360</th>\n",
              "      <td>78685.0</td>\n",
              "      <td>-0.671155</td>\n",
              "      <td>1.183971</td>\n",
              "      <td>0.793623</td>\n",
              "      <td>-0.218410</td>\n",
              "      <td>0.357282</td>\n",
              "      <td>-0.023707</td>\n",
              "      <td>0.363563</td>\n",
              "      <td>0.463983</td>\n",
              "      <td>-0.704518</td>\n",
              "      <td>...</td>\n",
              "      <td>-0.083474</td>\n",
              "      <td>-0.352537</td>\n",
              "      <td>-0.092199</td>\n",
              "      <td>-0.764804</td>\n",
              "      <td>-0.292712</td>\n",
              "      <td>0.185362</td>\n",
              "      <td>-0.028254</td>\n",
              "      <td>0.055953</td>\n",
              "      <td>1.30</td>\n",
              "      <td>0</td>\n",
              "    </tr>\n",
              "    <tr>\n",
              "      <th>20746</th>\n",
              "      <td>31244.0</td>\n",
              "      <td>1.087002</td>\n",
              "      <td>0.065459</td>\n",
              "      <td>0.485043</td>\n",
              "      <td>1.343874</td>\n",
              "      <td>-0.283361</td>\n",
              "      <td>0.002520</td>\n",
              "      <td>-0.076665</td>\n",
              "      <td>0.165384</td>\n",
              "      <td>0.151865</td>\n",
              "      <td>...</td>\n",
              "      <td>-0.040723</td>\n",
              "      <td>0.016005</td>\n",
              "      <td>-0.048042</td>\n",
              "      <td>0.208209</td>\n",
              "      <td>0.571482</td>\n",
              "      <td>-0.340377</td>\n",
              "      <td>0.028643</td>\n",
              "      <td>0.007649</td>\n",
              "      <td>18.56</td>\n",
              "      <td>0</td>\n",
              "    </tr>\n",
              "    <tr>\n",
              "      <th>...</th>\n",
              "      <td>...</td>\n",
              "      <td>...</td>\n",
              "      <td>...</td>\n",
              "      <td>...</td>\n",
              "      <td>...</td>\n",
              "      <td>...</td>\n",
              "      <td>...</td>\n",
              "      <td>...</td>\n",
              "      <td>...</td>\n",
              "      <td>...</td>\n",
              "      <td>...</td>\n",
              "      <td>...</td>\n",
              "      <td>...</td>\n",
              "      <td>...</td>\n",
              "      <td>...</td>\n",
              "      <td>...</td>\n",
              "      <td>...</td>\n",
              "      <td>...</td>\n",
              "      <td>...</td>\n",
              "      <td>...</td>\n",
              "      <td>...</td>\n",
              "    </tr>\n",
              "    <tr>\n",
              "      <th>35123</th>\n",
              "      <td>37976.0</td>\n",
              "      <td>-2.045484</td>\n",
              "      <td>-0.603428</td>\n",
              "      <td>-0.386028</td>\n",
              "      <td>-3.278179</td>\n",
              "      <td>0.840525</td>\n",
              "      <td>3.868593</td>\n",
              "      <td>0.785816</td>\n",
              "      <td>1.183953</td>\n",
              "      <td>1.009150</td>\n",
              "      <td>...</td>\n",
              "      <td>0.147327</td>\n",
              "      <td>0.243740</td>\n",
              "      <td>-0.357663</td>\n",
              "      <td>1.052686</td>\n",
              "      <td>1.112681</td>\n",
              "      <td>-0.749815</td>\n",
              "      <td>-0.005714</td>\n",
              "      <td>-0.173156</td>\n",
              "      <td>350.00</td>\n",
              "      <td>0</td>\n",
              "    </tr>\n",
              "    <tr>\n",
              "      <th>84735</th>\n",
              "      <td>60439.0</td>\n",
              "      <td>-0.377304</td>\n",
              "      <td>0.572787</td>\n",
              "      <td>1.333869</td>\n",
              "      <td>-0.000070</td>\n",
              "      <td>0.304511</td>\n",
              "      <td>-0.084981</td>\n",
              "      <td>0.497673</td>\n",
              "      <td>0.022442</td>\n",
              "      <td>0.100338</td>\n",
              "      <td>...</td>\n",
              "      <td>-0.023137</td>\n",
              "      <td>0.118389</td>\n",
              "      <td>-0.270359</td>\n",
              "      <td>-0.393864</td>\n",
              "      <td>-0.062653</td>\n",
              "      <td>0.510585</td>\n",
              "      <td>0.094780</td>\n",
              "      <td>0.126249</td>\n",
              "      <td>12.95</td>\n",
              "      <td>0</td>\n",
              "    </tr>\n",
              "    <tr>\n",
              "      <th>149577</th>\n",
              "      <td>91502.0</td>\n",
              "      <td>0.007379</td>\n",
              "      <td>2.365183</td>\n",
              "      <td>-2.600287</td>\n",
              "      <td>1.111602</td>\n",
              "      <td>3.276441</td>\n",
              "      <td>-1.776141</td>\n",
              "      <td>2.114531</td>\n",
              "      <td>-0.830084</td>\n",
              "      <td>0.900490</td>\n",
              "      <td>...</td>\n",
              "      <td>-0.563944</td>\n",
              "      <td>-0.902100</td>\n",
              "      <td>-0.404382</td>\n",
              "      <td>-0.012944</td>\n",
              "      <td>0.589836</td>\n",
              "      <td>-0.734449</td>\n",
              "      <td>-0.447529</td>\n",
              "      <td>-0.362375</td>\n",
              "      <td>1.00</td>\n",
              "      <td>1</td>\n",
              "    </tr>\n",
              "    <tr>\n",
              "      <th>175852</th>\n",
              "      <td>122517.0</td>\n",
              "      <td>1.554783</td>\n",
              "      <td>-1.059409</td>\n",
              "      <td>-0.658570</td>\n",
              "      <td>0.112271</td>\n",
              "      <td>-0.724124</td>\n",
              "      <td>-0.288185</td>\n",
              "      <td>-0.241162</td>\n",
              "      <td>-0.044019</td>\n",
              "      <td>0.879991</td>\n",
              "      <td>...</td>\n",
              "      <td>0.021068</td>\n",
              "      <td>-0.344273</td>\n",
              "      <td>0.131801</td>\n",
              "      <td>-0.336523</td>\n",
              "      <td>-0.569150</td>\n",
              "      <td>-0.302588</td>\n",
              "      <td>-0.035571</td>\n",
              "      <td>-0.008578</td>\n",
              "      <td>229.88</td>\n",
              "      <td>0</td>\n",
              "    </tr>\n",
              "    <tr>\n",
              "      <th>135603</th>\n",
              "      <td>81324.0</td>\n",
              "      <td>-2.373043</td>\n",
              "      <td>2.563438</td>\n",
              "      <td>0.225781</td>\n",
              "      <td>2.274042</td>\n",
              "      <td>-1.008791</td>\n",
              "      <td>-0.378413</td>\n",
              "      <td>-0.474627</td>\n",
              "      <td>1.555529</td>\n",
              "      <td>-2.365868</td>\n",
              "      <td>...</td>\n",
              "      <td>-0.098723</td>\n",
              "      <td>-1.084756</td>\n",
              "      <td>0.388042</td>\n",
              "      <td>0.463112</td>\n",
              "      <td>-0.517477</td>\n",
              "      <td>-0.517094</td>\n",
              "      <td>-0.907652</td>\n",
              "      <td>-0.148523</td>\n",
              "      <td>24.18</td>\n",
              "      <td>0</td>\n",
              "    </tr>\n",
              "  </tbody>\n",
              "</table>\n",
              "<p>984 rows × 31 columns</p>\n",
              "</div>\n",
              "      <button class=\"colab-df-convert\" onclick=\"convertToInteractive('df-5bef5496-2a95-4a2d-91f0-c3cdc02fd21d')\"\n",
              "              title=\"Convert this dataframe to an interactive table.\"\n",
              "              style=\"display:none;\">\n",
              "        \n",
              "  <svg xmlns=\"http://www.w3.org/2000/svg\" height=\"24px\"viewBox=\"0 0 24 24\"\n",
              "       width=\"24px\">\n",
              "    <path d=\"M0 0h24v24H0V0z\" fill=\"none\"/>\n",
              "    <path d=\"M18.56 5.44l.94 2.06.94-2.06 2.06-.94-2.06-.94-.94-2.06-.94 2.06-2.06.94zm-11 1L8.5 8.5l.94-2.06 2.06-.94-2.06-.94L8.5 2.5l-.94 2.06-2.06.94zm10 10l.94 2.06.94-2.06 2.06-.94-2.06-.94-.94-2.06-.94 2.06-2.06.94z\"/><path d=\"M17.41 7.96l-1.37-1.37c-.4-.4-.92-.59-1.43-.59-.52 0-1.04.2-1.43.59L10.3 9.45l-7.72 7.72c-.78.78-.78 2.05 0 2.83L4 21.41c.39.39.9.59 1.41.59.51 0 1.02-.2 1.41-.59l7.78-7.78 2.81-2.81c.8-.78.8-2.07 0-2.86zM5.41 20L4 18.59l7.72-7.72 1.47 1.35L5.41 20z\"/>\n",
              "  </svg>\n",
              "      </button>\n",
              "      \n",
              "  <style>\n",
              "    .colab-df-container {\n",
              "      display:flex;\n",
              "      flex-wrap:wrap;\n",
              "      gap: 12px;\n",
              "    }\n",
              "\n",
              "    .colab-df-convert {\n",
              "      background-color: #E8F0FE;\n",
              "      border: none;\n",
              "      border-radius: 50%;\n",
              "      cursor: pointer;\n",
              "      display: none;\n",
              "      fill: #1967D2;\n",
              "      height: 32px;\n",
              "      padding: 0 0 0 0;\n",
              "      width: 32px;\n",
              "    }\n",
              "\n",
              "    .colab-df-convert:hover {\n",
              "      background-color: #E2EBFA;\n",
              "      box-shadow: 0px 1px 2px rgba(60, 64, 67, 0.3), 0px 1px 3px 1px rgba(60, 64, 67, 0.15);\n",
              "      fill: #174EA6;\n",
              "    }\n",
              "\n",
              "    [theme=dark] .colab-df-convert {\n",
              "      background-color: #3B4455;\n",
              "      fill: #D2E3FC;\n",
              "    }\n",
              "\n",
              "    [theme=dark] .colab-df-convert:hover {\n",
              "      background-color: #434B5C;\n",
              "      box-shadow: 0px 1px 3px 1px rgba(0, 0, 0, 0.15);\n",
              "      filter: drop-shadow(0px 1px 2px rgba(0, 0, 0, 0.3));\n",
              "      fill: #FFFFFF;\n",
              "    }\n",
              "  </style>\n",
              "\n",
              "      <script>\n",
              "        const buttonEl =\n",
              "          document.querySelector('#df-5bef5496-2a95-4a2d-91f0-c3cdc02fd21d button.colab-df-convert');\n",
              "        buttonEl.style.display =\n",
              "          google.colab.kernel.accessAllowed ? 'block' : 'none';\n",
              "\n",
              "        async function convertToInteractive(key) {\n",
              "          const element = document.querySelector('#df-5bef5496-2a95-4a2d-91f0-c3cdc02fd21d');\n",
              "          const dataTable =\n",
              "            await google.colab.kernel.invokeFunction('convertToInteractive',\n",
              "                                                     [key], {});\n",
              "          if (!dataTable) return;\n",
              "\n",
              "          const docLinkHtml = 'Like what you see? Visit the ' +\n",
              "            '<a target=\"_blank\" href=https://colab.research.google.com/notebooks/data_table.ipynb>data table notebook</a>'\n",
              "            + ' to learn more about interactive tables.';\n",
              "          element.innerHTML = '';\n",
              "          dataTable['output_type'] = 'display_data';\n",
              "          await google.colab.output.renderOutput(dataTable, element);\n",
              "          const docLink = document.createElement('div');\n",
              "          docLink.innerHTML = docLinkHtml;\n",
              "          element.appendChild(docLink);\n",
              "        }\n",
              "      </script>\n",
              "    </div>\n",
              "  </div>\n",
              "  "
            ]
          },
          "metadata": {},
          "execution_count": 7
        },
        {
          "output_type": "stream",
          "name": "stdout",
          "text": [
            "Warning: Total number of columns (31) exceeds max_columns (20) limiting to first (20) columns.\n"
          ]
        }
      ]
    },
    {
      "cell_type": "code",
      "source": [
        "from sklearn.model_selection import train_test_split\n",
        "from sklearn.preprocessing import StandardScaler\n",
        "\n",
        "# Dividir características y etiquetas\n",
        "X = balanced_data.drop('Class', axis=1)\n",
        "y = balanced_data['Class']\n",
        "\n",
        "# Escalar características\n",
        "scaler = StandardScaler()\n",
        "X = scaler.fit_transform(X)\n"
      ],
      "metadata": {
        "id": "QGEFelpDtX25"
      },
      "execution_count": null,
      "outputs": []
    },
    {
      "cell_type": "code",
      "source": [
        "# División en conjuntos de entrenamiento y prueba\n",
        "X_train, X_test, y_train, y_test = train_test_split(X, y, test_size=0.1, random_state=42)\n"
      ],
      "metadata": {
        "id": "VEBCgbm8tZxB"
      },
      "execution_count": null,
      "outputs": []
    },
    {
      "cell_type": "code",
      "source": [
        "len(X_train)"
      ],
      "metadata": {
        "colab": {
          "base_uri": "https://localhost:8080/"
        },
        "id": "hSy9-Q-OtXSK",
        "outputId": "1cf81c4e-0463-4be0-db47-60a3564b2b11"
      },
      "execution_count": null,
      "outputs": [
        {
          "output_type": "execute_result",
          "data": {
            "text/plain": [
              "885"
            ]
          },
          "metadata": {},
          "execution_count": 15
        }
      ]
    },
    {
      "cell_type": "code",
      "source": [
        "from keras.models import Sequential\n",
        "from keras.layers import Dense\n",
        "\n",
        "# Construcción del modelo\n",
        "model = Sequential()\n",
        "model.add(Dense(32, input_dim=X_train.shape[1], activation='tanh')) #capas de entrada\n",
        "model.add(Dense(8, activation='relu')) #capas oculta\n",
        "model.add(Dense(1, activation='sigmoid')) #salida\n",
        "\n",
        "# Compilación del modelo\n",
        "model.compile(loss='binary_crossentropy', optimizer='adam', metrics=['accuracy'])#mse\n",
        "\n",
        "# Entrenamiento del modelo\n",
        "history = model.fit(X_train, y_train, epochs=10, batch_size=32)"
      ],
      "metadata": {
        "colab": {
          "base_uri": "https://localhost:8080/"
        },
        "id": "-Wn9lqmGtbMo",
        "outputId": "338ecd9f-4e68-4aed-e99c-3cefed6eb14e"
      },
      "execution_count": null,
      "outputs": [
        {
          "output_type": "stream",
          "name": "stdout",
          "text": [
            "Epoch 1/10\n",
            "28/28 [==============================] - 1s 2ms/step - loss: 0.6008 - accuracy: 0.6949\n",
            "Epoch 2/10\n",
            "28/28 [==============================] - 0s 1ms/step - loss: 0.4002 - accuracy: 0.8610\n",
            "Epoch 3/10\n",
            "28/28 [==============================] - 0s 1ms/step - loss: 0.3281 - accuracy: 0.8870\n",
            "Epoch 4/10\n",
            "28/28 [==============================] - 0s 1ms/step - loss: 0.2837 - accuracy: 0.9017\n",
            "Epoch 5/10\n",
            "28/28 [==============================] - 0s 1ms/step - loss: 0.2503 - accuracy: 0.9153\n",
            "Epoch 6/10\n",
            "28/28 [==============================] - 0s 1ms/step - loss: 0.2251 - accuracy: 0.9277\n",
            "Epoch 7/10\n",
            "28/28 [==============================] - 0s 1ms/step - loss: 0.2046 - accuracy: 0.9401\n",
            "Epoch 8/10\n",
            "28/28 [==============================] - 0s 1ms/step - loss: 0.1886 - accuracy: 0.9412\n",
            "Epoch 9/10\n",
            "28/28 [==============================] - 0s 1ms/step - loss: 0.1765 - accuracy: 0.9446\n",
            "Epoch 10/10\n",
            "28/28 [==============================] - 0s 1ms/step - loss: 0.1654 - accuracy: 0.9469\n"
          ]
        }
      ]
    },
    {
      "cell_type": "code",
      "source": [
        "model.evaluate(X_test, y_test)"
      ],
      "metadata": {
        "colab": {
          "base_uri": "https://localhost:8080/"
        },
        "id": "B4scrNiVzvPP",
        "outputId": "07c70c22-641a-4d0f-921c-2bd01d6379cd"
      },
      "execution_count": null,
      "outputs": [
        {
          "output_type": "stream",
          "name": "stdout",
          "text": [
            "4/4 [==============================] - 0s 3ms/step - loss: 0.1911 - accuracy: 0.9293\n"
          ]
        },
        {
          "output_type": "execute_result",
          "data": {
            "text/plain": [
              "[0.19105438888072968, 0.9292929172515869]"
            ]
          },
          "metadata": {},
          "execution_count": 17
        }
      ]
    },
    {
      "cell_type": "code",
      "source": [
        "model.summary()\n"
      ],
      "metadata": {
        "colab": {
          "base_uri": "https://localhost:8080/"
        },
        "id": "WdmdtmAKvQR7",
        "outputId": "5ed11c1c-9a43-4d85-a4d1-7db52f0bc1a0"
      },
      "execution_count": null,
      "outputs": [
        {
          "output_type": "stream",
          "name": "stdout",
          "text": [
            "Model: \"sequential\"\n",
            "_________________________________________________________________\n",
            " Layer (type)                Output Shape              Param #   \n",
            "=================================================================\n",
            " dense (Dense)               (None, 32)                992       \n",
            "                                                                 \n",
            " dense_1 (Dense)             (None, 8)                 264       \n",
            "                                                                 \n",
            " dense_2 (Dense)             (None, 1)                 9         \n",
            "                                                                 \n",
            "=================================================================\n",
            "Total params: 1,265\n",
            "Trainable params: 1,265\n",
            "Non-trainable params: 0\n",
            "_________________________________________________________________\n"
          ]
        }
      ]
    },
    {
      "cell_type": "code",
      "source": [
        "# Evaluación del modelo con los datos de prueba\n",
        "# Evaluar el modelo en el conjunto de prueba\n",
        "_, accuracy = model.evaluate(X_test, y_test, verbose=0)\n",
        "print('Accuracy: %.2f%%' % (accuracy * 100))"
      ],
      "metadata": {
        "colab": {
          "base_uri": "https://localhost:8080/"
        },
        "id": "9P6skZzuvRf_",
        "outputId": "3db99ba1-2d5f-484b-c40d-5f9ad5b1d609"
      },
      "execution_count": null,
      "outputs": [
        {
          "output_type": "stream",
          "name": "stdout",
          "text": [
            "Accuracy: 92.93%\n"
          ]
        }
      ]
    }
  ],
  "metadata": {
    "colab": {
      "provenance": [],
      "mount_file_id": "1sKeLMvCBzt0GnfV0TaB5Fveo5a0Qu_dt",
      "authorship_tag": "ABX9TyPsrx2XEnFDyiApBO/Mcday",
      "include_colab_link": true
    },
    "kernelspec": {
      "display_name": "Python 3",
      "name": "python3"
    },
    "language_info": {
      "name": "python"
    }
  },
  "nbformat": 4,
  "nbformat_minor": 0
}