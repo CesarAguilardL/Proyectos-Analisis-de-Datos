{
  "nbformat": 4,
  "nbformat_minor": 0,
  "metadata": {
    "colab": {
      "provenance": []
    },
    "kernelspec": {
      "name": "python3",
      "display_name": "Python 3"
    },
    "language_info": {
      "name": "python"
    },
    "widgets": {
      "application/vnd.jupyter.widget-state+json": {
        "16a3129d0da54c22a971963506aef21d": {
          "model_module": "@jupyter-widgets/controls",
          "model_name": "VBoxModel",
          "model_module_version": "1.5.0",
          "state": {
            "_dom_classes": [],
            "_model_module": "@jupyter-widgets/controls",
            "_model_module_version": "1.5.0",
            "_model_name": "VBoxModel",
            "_view_count": null,
            "_view_module": "@jupyter-widgets/controls",
            "_view_module_version": "1.5.0",
            "_view_name": "VBoxView",
            "box_style": "",
            "children": [
              "IPY_MODEL_7bb3ea9abbaf42aeb091f25e83039e49",
              "IPY_MODEL_92f58812940f40b79556f68bc8cd2ee9"
            ],
            "layout": "IPY_MODEL_8ba1676cc815460b96dec00a50cc5886"
          }
        },
        "7bb3ea9abbaf42aeb091f25e83039e49": {
          "model_module": "@jupyter-widgets/controls",
          "model_name": "LabelModel",
          "model_module_version": "1.5.0",
          "state": {
            "_dom_classes": [],
            "_model_module": "@jupyter-widgets/controls",
            "_model_module_version": "1.5.0",
            "_model_name": "LabelModel",
            "_view_count": null,
            "_view_module": "@jupyter-widgets/controls",
            "_view_module_version": "1.5.0",
            "_view_name": "LabelView",
            "description": "",
            "description_tooltip": null,
            "layout": "IPY_MODEL_bd21a356dd0a4bc0b08571fc33a4833c",
            "placeholder": "​",
            "style": "IPY_MODEL_901d654cfa76463cb51febdcfd9f1f1d",
            "value": "Waiting for wandb.init()...\r"
          }
        },
        "92f58812940f40b79556f68bc8cd2ee9": {
          "model_module": "@jupyter-widgets/controls",
          "model_name": "FloatProgressModel",
          "model_module_version": "1.5.0",
          "state": {
            "_dom_classes": [],
            "_model_module": "@jupyter-widgets/controls",
            "_model_module_version": "1.5.0",
            "_model_name": "FloatProgressModel",
            "_view_count": null,
            "_view_module": "@jupyter-widgets/controls",
            "_view_module_version": "1.5.0",
            "_view_name": "ProgressView",
            "bar_style": "",
            "description": "",
            "description_tooltip": null,
            "layout": "IPY_MODEL_40b3681cae434f40946d475f26767852",
            "max": 1,
            "min": 0,
            "orientation": "horizontal",
            "style": "IPY_MODEL_b81d8936c8604b179a1572b3805e163f",
            "value": 0.3505879718666771
          }
        },
        "8ba1676cc815460b96dec00a50cc5886": {
          "model_module": "@jupyter-widgets/base",
          "model_name": "LayoutModel",
          "model_module_version": "1.2.0",
          "state": {
            "_model_module": "@jupyter-widgets/base",
            "_model_module_version": "1.2.0",
            "_model_name": "LayoutModel",
            "_view_count": null,
            "_view_module": "@jupyter-widgets/base",
            "_view_module_version": "1.2.0",
            "_view_name": "LayoutView",
            "align_content": null,
            "align_items": null,
            "align_self": null,
            "border": null,
            "bottom": null,
            "display": null,
            "flex": null,
            "flex_flow": null,
            "grid_area": null,
            "grid_auto_columns": null,
            "grid_auto_flow": null,
            "grid_auto_rows": null,
            "grid_column": null,
            "grid_gap": null,
            "grid_row": null,
            "grid_template_areas": null,
            "grid_template_columns": null,
            "grid_template_rows": null,
            "height": null,
            "justify_content": null,
            "justify_items": null,
            "left": null,
            "margin": null,
            "max_height": null,
            "max_width": null,
            "min_height": null,
            "min_width": null,
            "object_fit": null,
            "object_position": null,
            "order": null,
            "overflow": null,
            "overflow_x": null,
            "overflow_y": null,
            "padding": null,
            "right": null,
            "top": null,
            "visibility": null,
            "width": null
          }
        },
        "bd21a356dd0a4bc0b08571fc33a4833c": {
          "model_module": "@jupyter-widgets/base",
          "model_name": "LayoutModel",
          "model_module_version": "1.2.0",
          "state": {
            "_model_module": "@jupyter-widgets/base",
            "_model_module_version": "1.2.0",
            "_model_name": "LayoutModel",
            "_view_count": null,
            "_view_module": "@jupyter-widgets/base",
            "_view_module_version": "1.2.0",
            "_view_name": "LayoutView",
            "align_content": null,
            "align_items": null,
            "align_self": null,
            "border": null,
            "bottom": null,
            "display": null,
            "flex": null,
            "flex_flow": null,
            "grid_area": null,
            "grid_auto_columns": null,
            "grid_auto_flow": null,
            "grid_auto_rows": null,
            "grid_column": null,
            "grid_gap": null,
            "grid_row": null,
            "grid_template_areas": null,
            "grid_template_columns": null,
            "grid_template_rows": null,
            "height": null,
            "justify_content": null,
            "justify_items": null,
            "left": null,
            "margin": null,
            "max_height": null,
            "max_width": null,
            "min_height": null,
            "min_width": null,
            "object_fit": null,
            "object_position": null,
            "order": null,
            "overflow": null,
            "overflow_x": null,
            "overflow_y": null,
            "padding": null,
            "right": null,
            "top": null,
            "visibility": null,
            "width": null
          }
        },
        "901d654cfa76463cb51febdcfd9f1f1d": {
          "model_module": "@jupyter-widgets/controls",
          "model_name": "DescriptionStyleModel",
          "model_module_version": "1.5.0",
          "state": {
            "_model_module": "@jupyter-widgets/controls",
            "_model_module_version": "1.5.0",
            "_model_name": "DescriptionStyleModel",
            "_view_count": null,
            "_view_module": "@jupyter-widgets/base",
            "_view_module_version": "1.2.0",
            "_view_name": "StyleView",
            "description_width": ""
          }
        },
        "40b3681cae434f40946d475f26767852": {
          "model_module": "@jupyter-widgets/base",
          "model_name": "LayoutModel",
          "model_module_version": "1.2.0",
          "state": {
            "_model_module": "@jupyter-widgets/base",
            "_model_module_version": "1.2.0",
            "_model_name": "LayoutModel",
            "_view_count": null,
            "_view_module": "@jupyter-widgets/base",
            "_view_module_version": "1.2.0",
            "_view_name": "LayoutView",
            "align_content": null,
            "align_items": null,
            "align_self": null,
            "border": null,
            "bottom": null,
            "display": null,
            "flex": null,
            "flex_flow": null,
            "grid_area": null,
            "grid_auto_columns": null,
            "grid_auto_flow": null,
            "grid_auto_rows": null,
            "grid_column": null,
            "grid_gap": null,
            "grid_row": null,
            "grid_template_areas": null,
            "grid_template_columns": null,
            "grid_template_rows": null,
            "height": null,
            "justify_content": null,
            "justify_items": null,
            "left": null,
            "margin": null,
            "max_height": null,
            "max_width": null,
            "min_height": null,
            "min_width": null,
            "object_fit": null,
            "object_position": null,
            "order": null,
            "overflow": null,
            "overflow_x": null,
            "overflow_y": null,
            "padding": null,
            "right": null,
            "top": null,
            "visibility": null,
            "width": null
          }
        },
        "b81d8936c8604b179a1572b3805e163f": {
          "model_module": "@jupyter-widgets/controls",
          "model_name": "ProgressStyleModel",
          "model_module_version": "1.5.0",
          "state": {
            "_model_module": "@jupyter-widgets/controls",
            "_model_module_version": "1.5.0",
            "_model_name": "ProgressStyleModel",
            "_view_count": null,
            "_view_module": "@jupyter-widgets/base",
            "_view_module_version": "1.2.0",
            "_view_name": "StyleView",
            "bar_color": null,
            "description_width": ""
          }
        }
      }
    }
  },
  "cells": [
    {
      "cell_type": "code",
      "execution_count": 39,
      "metadata": {
        "id": "xfnJzolcjqNl"
      },
      "outputs": [],
      "source": [
        "import numpy as np\n",
        "import matplotlib.pyplot as plt\n",
        "from tensorflow import keras\n",
        "from tensorflow.keras import layers\n",
        "import wandb\n",
        "from wandb.keras import WandbCallback\n",
        "from tensorflow.keras.optimizers import Adam\n",
        "from keras.callbacks import optimizer"
      ]
    },
    {
      "cell_type": "code",
      "source": [
        "!pip install -q wandb"
      ],
      "metadata": {
        "colab": {
          "base_uri": "https://localhost:8080/"
        },
        "id": "J1s8SfuNxkWo",
        "outputId": "c1050ec5-6c7f-4c4d-da20-b59453fbba13"
      },
      "execution_count": 28,
      "outputs": [
        {
          "output_type": "stream",
          "name": "stdout",
          "text": [
            "\u001b[2K     \u001b[90m━━━━━━━━━━━━━━━━━━━━━━━━━━━━━━━━━━━━━━━━\u001b[0m \u001b[32m2.0/2.0 MB\u001b[0m \u001b[31m21.5 MB/s\u001b[0m eta \u001b[36m0:00:00\u001b[0m\n",
            "\u001b[2K     \u001b[90m━━━━━━━━━━━━━━━━━━━━━━━━━━━━━━━━━━━━━━\u001b[0m \u001b[32m184.3/184.3 kB\u001b[0m \u001b[31m13.9 MB/s\u001b[0m eta \u001b[36m0:00:00\u001b[0m\n",
            "\u001b[2K     \u001b[90m━━━━━━━━━━━━━━━━━━━━━━━━━━━━━━━━━━━━━━\u001b[0m \u001b[32m205.1/205.1 kB\u001b[0m \u001b[31m11.6 MB/s\u001b[0m eta \u001b[36m0:00:00\u001b[0m\n",
            "\u001b[?25h  Preparing metadata (setup.py) ... \u001b[?25l\u001b[?25hdone\n",
            "\u001b[2K     \u001b[90m━━━━━━━━━━━━━━━━━━━━━━━━━━━━━━━━━━━━━━━━\u001b[0m \u001b[32m62.7/62.7 kB\u001b[0m \u001b[31m4.8 MB/s\u001b[0m eta \u001b[36m0:00:00\u001b[0m\n",
            "\u001b[?25h  Building wheel for pathtools (setup.py) ... \u001b[?25l\u001b[?25hdone\n"
          ]
        }
      ]
    },
    {
      "cell_type": "code",
      "source": [
        "!wandb login"
      ],
      "metadata": {
        "colab": {
          "base_uri": "https://localhost:8080/"
        },
        "id": "Yp0SDC6Sxl4v",
        "outputId": "49a2f8b7-87bd-4326-a444-9c28112b277c"
      },
      "execution_count": 30,
      "outputs": [
        {
          "output_type": "stream",
          "name": "stdout",
          "text": [
            "\u001b[34m\u001b[1mwandb\u001b[0m: Logging into wandb.ai. (Learn how to deploy a W&B server locally: https://wandb.me/wandb-server)\n",
            "\u001b[34m\u001b[1mwandb\u001b[0m: You can find your API key in your browser here: https://wandb.ai/authorize\n",
            "\u001b[34m\u001b[1mwandb\u001b[0m: Paste an API key from your profile and hit enter, or press ctrl+c to quit: \n",
            "\u001b[34m\u001b[1mwandb\u001b[0m: Appending key for api.wandb.ai to your netrc file: /root/.netrc\n"
          ]
        }
      ]
    },
    {
      "cell_type": "code",
      "source": [
        "learning_rate_a = 0.01\n",
        "epochs_a = 500\n",
        "batch_size_a = 64\n",
        "\n",
        "wandb.init(project=\"Tarea_RN_ej1\")#nombre del projecto\n",
        "wandb.config.learning_rate = learning_rate_a\n",
        "wandb.config.epochs = epochs_a\n",
        "wandb.config.batch_size = batch_size_a"
      ],
      "metadata": {
        "colab": {
          "base_uri": "https://localhost:8080/",
          "height": 150,
          "referenced_widgets": [
            "16a3129d0da54c22a971963506aef21d",
            "7bb3ea9abbaf42aeb091f25e83039e49",
            "92f58812940f40b79556f68bc8cd2ee9",
            "8ba1676cc815460b96dec00a50cc5886",
            "bd21a356dd0a4bc0b08571fc33a4833c",
            "901d654cfa76463cb51febdcfd9f1f1d",
            "40b3681cae434f40946d475f26767852",
            "b81d8936c8604b179a1572b3805e163f"
          ]
        },
        "id": "N7rXISSgyqtr",
        "outputId": "1e0ae892-f486-462a-e3af-85b02f070cbc"
      },
      "execution_count": null,
      "outputs": [
        {
          "output_type": "display_data",
          "data": {
            "text/plain": [
              "<IPython.core.display.HTML object>"
            ],
            "text/html": [
              "Finishing last run (ID:pl61jamy) before initializing another..."
            ]
          },
          "metadata": {}
        },
        {
          "output_type": "display_data",
          "data": {
            "text/plain": [
              "<IPython.core.display.HTML object>"
            ],
            "text/html": [
              "Waiting for W&B process to finish... <strong style=\"color:green\">(success).</strong>"
            ]
          },
          "metadata": {}
        },
        {
          "output_type": "stream",
          "name": "stderr",
          "text": [
            "\u001b[34m\u001b[1mwandb\u001b[0m: \u001b[32m\u001b[41mERROR\u001b[0m Control-C detected -- Run data was not synced\n"
          ]
        },
        {
          "output_type": "display_data",
          "data": {
            "text/plain": [
              "<IPython.core.display.HTML object>"
            ],
            "text/html": [
              "Successfully finished last run (ID:pl61jamy). Initializing new run:<br/>"
            ]
          },
          "metadata": {}
        },
        {
          "output_type": "display_data",
          "data": {
            "text/plain": [
              "VBox(children=(Label(value='Waiting for wandb.init()...\\r'), FloatProgress(value=0.016670633283335217, max=1.0…"
            ],
            "application/vnd.jupyter.widget-view+json": {
              "version_major": 2,
              "version_minor": 0,
              "model_id": "16a3129d0da54c22a971963506aef21d"
            }
          },
          "metadata": {}
        }
      ]
    },
    {
      "cell_type": "code",
      "source": [
        "# Función a) 3sin(pix)\n",
        "x_train_a = np.linspace(-1, 1, 1000)\n",
        "y_train_a = 3 * np.sin(np.pi * x_train_a)\n"
      ],
      "metadata": {
        "id": "r6iReWZPkSJ4"
      },
      "execution_count": 102,
      "outputs": []
    },
    {
      "cell_type": "code",
      "source": [
        "# Definir modelo\n",
        "model_a = keras.Sequential([\n",
        "    layers.Dense(128, activation='relu', input_shape=(1,)),\n",
        "    layers.Dense(1)\n",
        "])"
      ],
      "metadata": {
        "id": "85-TrNa3kUD4"
      },
      "execution_count": 103,
      "outputs": []
    },
    {
      "cell_type": "code",
      "source": [
        "# Compilar modelo\n",
        "model_a.compile(loss='mse', optimizer= Adam(learning_rate=learning_rate_a))\n",
        "\n",
        "# Entrenar modelo\n",
        "history = model_a.fit(x_train_a, y_train_a,\n",
        "                    batch_size=batch_size_a,\n",
        "                    epochs=epochs_a,\n",
        "                    verbose=1,\n",
        "                    callbacks=[WandbCallback()])"
      ],
      "metadata": {
        "colab": {
          "base_uri": "https://localhost:8080/"
        },
        "id": "-KQKK4Y8kDpK",
        "outputId": "9f0542d1-0d09-4320-f0dd-12225764eeda"
      },
      "execution_count": 104,
      "outputs": [
        {
          "output_type": "stream",
          "name": "stdout",
          "text": [
            "Epoch 1/500\n",
            "16/16 [==============================] - 1s 3ms/step - loss: 2.2221\n",
            "Epoch 2/500\n",
            "16/16 [==============================] - 0s 2ms/step - loss: 1.4398\n",
            "Epoch 3/500\n",
            "16/16 [==============================] - 0s 2ms/step - loss: 1.3394\n",
            "Epoch 4/500\n",
            "16/16 [==============================] - 0s 2ms/step - loss: 1.3306\n",
            "Epoch 5/500\n",
            "16/16 [==============================] - 0s 2ms/step - loss: 1.3433\n",
            "Epoch 6/500\n",
            "16/16 [==============================] - 0s 3ms/step - loss: 1.3408\n",
            "Epoch 7/500\n",
            "16/16 [==============================] - 0s 2ms/step - loss: 1.3258\n",
            "Epoch 8/500\n",
            "16/16 [==============================] - 0s 3ms/step - loss: 1.3422\n",
            "Epoch 9/500\n",
            "16/16 [==============================] - 0s 3ms/step - loss: 1.3269\n",
            "Epoch 10/500\n",
            "16/16 [==============================] - 0s 2ms/step - loss: 1.3389\n",
            "Epoch 11/500\n",
            "16/16 [==============================] - 0s 2ms/step - loss: 1.3592\n",
            "Epoch 12/500\n",
            "16/16 [==============================] - 0s 3ms/step - loss: 1.3426\n",
            "Epoch 13/500\n",
            "16/16 [==============================] - 0s 3ms/step - loss: 1.3452\n",
            "Epoch 14/500\n",
            "16/16 [==============================] - 0s 3ms/step - loss: 1.3620\n",
            "Epoch 15/500\n",
            "16/16 [==============================] - 0s 3ms/step - loss: 1.3268\n",
            "Epoch 16/500\n",
            "16/16 [==============================] - 0s 2ms/step - loss: 1.3236\n",
            "Epoch 17/500\n",
            "16/16 [==============================] - 0s 2ms/step - loss: 1.3358\n",
            "Epoch 18/500\n",
            "16/16 [==============================] - 0s 2ms/step - loss: 1.3404\n",
            "Epoch 19/500\n",
            "16/16 [==============================] - 0s 3ms/step - loss: 1.2987\n",
            "Epoch 20/500\n",
            "16/16 [==============================] - 0s 3ms/step - loss: 1.2539\n",
            "Epoch 21/500\n",
            "16/16 [==============================] - 0s 3ms/step - loss: 1.1655\n",
            "Epoch 22/500\n",
            "16/16 [==============================] - 0s 2ms/step - loss: 1.0808\n",
            "Epoch 23/500\n",
            "16/16 [==============================] - 0s 2ms/step - loss: 0.9884\n",
            "Epoch 24/500\n",
            "16/16 [==============================] - 0s 2ms/step - loss: 0.8884\n",
            "Epoch 25/500\n",
            "16/16 [==============================] - 0s 2ms/step - loss: 0.8208\n",
            "Epoch 26/500\n",
            "16/16 [==============================] - 0s 2ms/step - loss: 0.7342\n",
            "Epoch 27/500\n",
            "16/16 [==============================] - 0s 3ms/step - loss: 0.6814\n",
            "Epoch 28/500\n",
            "16/16 [==============================] - 0s 2ms/step - loss: 0.6059\n",
            "Epoch 29/500\n",
            "16/16 [==============================] - 0s 3ms/step - loss: 0.4626\n",
            "Epoch 30/500\n",
            "16/16 [==============================] - 0s 2ms/step - loss: 0.3586\n",
            "Epoch 31/500\n",
            "16/16 [==============================] - 0s 2ms/step - loss: 0.2539\n",
            "Epoch 32/500\n",
            "16/16 [==============================] - 0s 2ms/step - loss: 0.1773\n",
            "Epoch 33/500\n",
            "16/16 [==============================] - 0s 3ms/step - loss: 0.1245\n",
            "Epoch 34/500\n",
            "16/16 [==============================] - 0s 2ms/step - loss: 0.0910\n",
            "Epoch 35/500\n",
            "16/16 [==============================] - 0s 2ms/step - loss: 0.0692\n",
            "Epoch 36/500\n",
            "16/16 [==============================] - 0s 3ms/step - loss: 0.0536\n",
            "Epoch 37/500\n",
            "16/16 [==============================] - 0s 2ms/step - loss: 0.0442\n",
            "Epoch 38/500\n",
            "16/16 [==============================] - 0s 2ms/step - loss: 0.0390\n",
            "Epoch 39/500\n",
            "16/16 [==============================] - 0s 2ms/step - loss: 0.0346\n",
            "Epoch 40/500\n",
            "16/16 [==============================] - 0s 3ms/step - loss: 0.0314\n",
            "Epoch 41/500\n",
            "16/16 [==============================] - 0s 3ms/step - loss: 0.0287\n",
            "Epoch 42/500\n",
            "16/16 [==============================] - 0s 3ms/step - loss: 0.0281\n",
            "Epoch 43/500\n",
            "16/16 [==============================] - 0s 2ms/step - loss: 0.0260\n",
            "Epoch 44/500\n",
            "16/16 [==============================] - 0s 2ms/step - loss: 0.0261\n",
            "Epoch 45/500\n",
            "16/16 [==============================] - 0s 2ms/step - loss: 0.0244\n",
            "Epoch 46/500\n",
            "16/16 [==============================] - 0s 2ms/step - loss: 0.0240\n",
            "Epoch 47/500\n",
            "16/16 [==============================] - 0s 3ms/step - loss: 0.0236\n",
            "Epoch 48/500\n",
            "16/16 [==============================] - 0s 2ms/step - loss: 0.0239\n",
            "Epoch 49/500\n",
            "16/16 [==============================] - 0s 2ms/step - loss: 0.0236\n",
            "Epoch 50/500\n",
            "16/16 [==============================] - 0s 2ms/step - loss: 0.0235\n",
            "Epoch 51/500\n",
            "16/16 [==============================] - 0s 2ms/step - loss: 0.0238\n",
            "Epoch 52/500\n",
            "16/16 [==============================] - 0s 3ms/step - loss: 0.0224\n",
            "Epoch 53/500\n",
            "16/16 [==============================] - 0s 2ms/step - loss: 0.0244\n",
            "Epoch 54/500\n",
            "16/16 [==============================] - 0s 2ms/step - loss: 0.0222\n",
            "Epoch 55/500\n",
            "16/16 [==============================] - 0s 3ms/step - loss: 0.0228\n",
            "Epoch 56/500\n",
            "16/16 [==============================] - 0s 2ms/step - loss: 0.0233\n",
            "Epoch 57/500\n",
            "16/16 [==============================] - 0s 2ms/step - loss: 0.0226\n",
            "Epoch 58/500\n",
            "16/16 [==============================] - 0s 2ms/step - loss: 0.0227\n",
            "Epoch 59/500\n",
            "16/16 [==============================] - 0s 2ms/step - loss: 0.0237\n",
            "Epoch 60/500\n",
            "16/16 [==============================] - 0s 3ms/step - loss: 0.0256\n",
            "Epoch 61/500\n",
            "16/16 [==============================] - 0s 3ms/step - loss: 0.0224\n",
            "Epoch 62/500\n",
            "16/16 [==============================] - 0s 2ms/step - loss: 0.0219\n",
            "Epoch 63/500\n",
            "16/16 [==============================] - 0s 2ms/step - loss: 0.0223\n",
            "Epoch 64/500\n",
            "16/16 [==============================] - 0s 2ms/step - loss: 0.0237\n",
            "Epoch 65/500\n",
            "16/16 [==============================] - 0s 3ms/step - loss: 0.0224\n",
            "Epoch 66/500\n",
            "16/16 [==============================] - 0s 2ms/step - loss: 0.0244\n",
            "Epoch 67/500\n",
            "16/16 [==============================] - 0s 3ms/step - loss: 0.0253\n",
            "Epoch 68/500\n",
            "16/16 [==============================] - 0s 3ms/step - loss: 0.0267\n",
            "Epoch 69/500\n",
            "16/16 [==============================] - 0s 5ms/step - loss: 0.0247\n",
            "Epoch 70/500\n",
            "16/16 [==============================] - 0s 5ms/step - loss: 0.0230\n",
            "Epoch 71/500\n",
            "16/16 [==============================] - 0s 3ms/step - loss: 0.0229\n",
            "Epoch 72/500\n",
            "16/16 [==============================] - 0s 3ms/step - loss: 0.0228\n",
            "Epoch 73/500\n",
            "16/16 [==============================] - 0s 3ms/step - loss: 0.0225\n",
            "Epoch 74/500\n",
            "16/16 [==============================] - 0s 3ms/step - loss: 0.0223\n",
            "Epoch 75/500\n",
            "16/16 [==============================] - 0s 4ms/step - loss: 0.0222\n",
            "Epoch 76/500\n",
            "16/16 [==============================] - 0s 4ms/step - loss: 0.0227\n",
            "Epoch 77/500\n",
            "16/16 [==============================] - 0s 3ms/step - loss: 0.0220\n",
            "Epoch 78/500\n",
            "16/16 [==============================] - 0s 4ms/step - loss: 0.0224\n",
            "Epoch 79/500\n",
            "16/16 [==============================] - 0s 3ms/step - loss: 0.0225\n",
            "Epoch 80/500\n",
            "16/16 [==============================] - 0s 3ms/step - loss: 0.0235\n",
            "Epoch 81/500\n",
            "16/16 [==============================] - 0s 3ms/step - loss: 0.0221\n",
            "Epoch 82/500\n",
            "16/16 [==============================] - 0s 3ms/step - loss: 0.0242\n",
            "Epoch 83/500\n",
            "16/16 [==============================] - 0s 3ms/step - loss: 0.0236\n",
            "Epoch 84/500\n",
            "16/16 [==============================] - 0s 3ms/step - loss: 0.0233\n",
            "Epoch 85/500\n",
            "16/16 [==============================] - 0s 3ms/step - loss: 0.0218\n",
            "Epoch 86/500\n",
            "16/16 [==============================] - 0s 3ms/step - loss: 0.0222\n",
            "Epoch 87/500\n",
            "16/16 [==============================] - 0s 3ms/step - loss: 0.0241\n",
            "Epoch 88/500\n",
            "16/16 [==============================] - 0s 3ms/step - loss: 0.0223\n",
            "Epoch 89/500\n",
            "16/16 [==============================] - 0s 3ms/step - loss: 0.0220\n",
            "Epoch 90/500\n",
            "16/16 [==============================] - 0s 3ms/step - loss: 0.0225\n",
            "Epoch 91/500\n",
            "16/16 [==============================] - 0s 3ms/step - loss: 0.0236\n",
            "Epoch 92/500\n",
            "16/16 [==============================] - 0s 3ms/step - loss: 0.0243\n",
            "Epoch 93/500\n",
            "16/16 [==============================] - 0s 3ms/step - loss: 0.0240\n",
            "Epoch 94/500\n",
            "16/16 [==============================] - 0s 4ms/step - loss: 0.0231\n",
            "Epoch 95/500\n",
            "16/16 [==============================] - 0s 5ms/step - loss: 0.0266\n",
            "Epoch 96/500\n",
            "16/16 [==============================] - 0s 5ms/step - loss: 0.0235\n",
            "Epoch 97/500\n",
            "16/16 [==============================] - 0s 4ms/step - loss: 0.0236\n",
            "Epoch 98/500\n",
            "16/16 [==============================] - 0s 4ms/step - loss: 0.0241\n",
            "Epoch 99/500\n",
            "16/16 [==============================] - 0s 3ms/step - loss: 0.0247\n",
            "Epoch 100/500\n",
            "16/16 [==============================] - 0s 3ms/step - loss: 0.0219\n",
            "Epoch 101/500\n",
            "16/16 [==============================] - 0s 3ms/step - loss: 0.0230\n",
            "Epoch 102/500\n",
            "16/16 [==============================] - 0s 3ms/step - loss: 0.0235\n",
            "Epoch 103/500\n",
            "16/16 [==============================] - 0s 3ms/step - loss: 0.0233\n",
            "Epoch 104/500\n",
            "16/16 [==============================] - 0s 3ms/step - loss: 0.0225\n",
            "Epoch 105/500\n",
            "16/16 [==============================] - 0s 3ms/step - loss: 0.0250\n",
            "Epoch 106/500\n",
            "16/16 [==============================] - 0s 3ms/step - loss: 0.0242\n",
            "Epoch 107/500\n",
            "16/16 [==============================] - 0s 3ms/step - loss: 0.0256\n",
            "Epoch 108/500\n",
            "16/16 [==============================] - 0s 6ms/step - loss: 0.0245\n",
            "Epoch 109/500\n",
            "16/16 [==============================] - 0s 4ms/step - loss: 0.0229\n",
            "Epoch 110/500\n",
            "16/16 [==============================] - 0s 4ms/step - loss: 0.0225\n",
            "Epoch 111/500\n",
            "16/16 [==============================] - 0s 4ms/step - loss: 0.0224\n",
            "Epoch 112/500\n",
            "16/16 [==============================] - 0s 5ms/step - loss: 0.0222\n",
            "Epoch 113/500\n",
            "16/16 [==============================] - 0s 4ms/step - loss: 0.0220\n",
            "Epoch 114/500\n",
            "16/16 [==============================] - 0s 4ms/step - loss: 0.0240\n",
            "Epoch 115/500\n",
            "16/16 [==============================] - 0s 4ms/step - loss: 0.0219\n",
            "Epoch 116/500\n",
            "16/16 [==============================] - 0s 3ms/step - loss: 0.0216\n",
            "Epoch 117/500\n",
            "16/16 [==============================] - 0s 4ms/step - loss: 0.0224\n",
            "Epoch 118/500\n",
            "16/16 [==============================] - 0s 4ms/step - loss: 0.0221\n",
            "Epoch 119/500\n",
            "16/16 [==============================] - 0s 3ms/step - loss: 0.0221\n",
            "Epoch 120/500\n",
            "16/16 [==============================] - 0s 5ms/step - loss: 0.0222\n",
            "Epoch 121/500\n",
            "16/16 [==============================] - 0s 5ms/step - loss: 0.0233\n",
            "Epoch 122/500\n",
            "16/16 [==============================] - 0s 5ms/step - loss: 0.0240\n",
            "Epoch 123/500\n",
            "16/16 [==============================] - 0s 5ms/step - loss: 0.0262\n",
            "Epoch 124/500\n",
            "16/16 [==============================] - 0s 3ms/step - loss: 0.0261\n",
            "Epoch 125/500\n",
            "16/16 [==============================] - 0s 3ms/step - loss: 0.0227\n",
            "Epoch 126/500\n",
            "16/16 [==============================] - 0s 4ms/step - loss: 0.0219\n",
            "Epoch 127/500\n",
            "16/16 [==============================] - 0s 5ms/step - loss: 0.0248\n",
            "Epoch 128/500\n",
            "16/16 [==============================] - 0s 4ms/step - loss: 0.0240\n",
            "Epoch 129/500\n",
            "16/16 [==============================] - 0s 2ms/step - loss: 0.0235\n",
            "Epoch 130/500\n",
            "16/16 [==============================] - 0s 2ms/step - loss: 0.0220\n",
            "Epoch 131/500\n",
            "16/16 [==============================] - 0s 2ms/step - loss: 0.0234\n",
            "Epoch 132/500\n",
            "16/16 [==============================] - 0s 2ms/step - loss: 0.0225\n",
            "Epoch 133/500\n",
            "16/16 [==============================] - 0s 2ms/step - loss: 0.0219\n",
            "Epoch 134/500\n",
            "16/16 [==============================] - 0s 2ms/step - loss: 0.0237\n",
            "Epoch 135/500\n",
            "16/16 [==============================] - 0s 3ms/step - loss: 0.0233\n",
            "Epoch 136/500\n",
            "16/16 [==============================] - 0s 2ms/step - loss: 0.0232\n",
            "Epoch 137/500\n",
            "16/16 [==============================] - 0s 2ms/step - loss: 0.0224\n",
            "Epoch 138/500\n",
            "16/16 [==============================] - 0s 3ms/step - loss: 0.0223\n",
            "Epoch 139/500\n",
            "16/16 [==============================] - 0s 2ms/step - loss: 0.0229\n",
            "Epoch 140/500\n",
            "16/16 [==============================] - 0s 2ms/step - loss: 0.0244\n",
            "Epoch 141/500\n",
            "16/16 [==============================] - 0s 3ms/step - loss: 0.0228\n",
            "Epoch 142/500\n",
            "16/16 [==============================] - 0s 2ms/step - loss: 0.0227\n",
            "Epoch 143/500\n",
            "16/16 [==============================] - 0s 2ms/step - loss: 0.0233\n",
            "Epoch 144/500\n",
            "16/16 [==============================] - 0s 2ms/step - loss: 0.0217\n",
            "Epoch 145/500\n",
            "16/16 [==============================] - 0s 3ms/step - loss: 0.0240\n",
            "Epoch 146/500\n",
            "16/16 [==============================] - 0s 2ms/step - loss: 0.0238\n",
            "Epoch 147/500\n",
            "16/16 [==============================] - 0s 2ms/step - loss: 0.0251\n",
            "Epoch 148/500\n",
            "16/16 [==============================] - 0s 2ms/step - loss: 0.0238\n",
            "Epoch 149/500\n",
            "16/16 [==============================] - 0s 3ms/step - loss: 0.0251\n",
            "Epoch 150/500\n",
            "16/16 [==============================] - 0s 2ms/step - loss: 0.0243\n",
            "Epoch 151/500\n",
            "16/16 [==============================] - 0s 2ms/step - loss: 0.0244\n",
            "Epoch 152/500\n",
            "16/16 [==============================] - 0s 3ms/step - loss: 0.0222\n",
            "Epoch 153/500\n",
            "16/16 [==============================] - 0s 2ms/step - loss: 0.0224\n",
            "Epoch 154/500\n",
            "16/16 [==============================] - 0s 2ms/step - loss: 0.0249\n",
            "Epoch 155/500\n",
            "16/16 [==============================] - 0s 2ms/step - loss: 0.0282\n",
            "Epoch 156/500\n",
            "16/16 [==============================] - 0s 3ms/step - loss: 0.0270\n",
            "Epoch 157/500\n",
            "16/16 [==============================] - 0s 3ms/step - loss: 0.0239\n",
            "Epoch 158/500\n",
            "16/16 [==============================] - 0s 2ms/step - loss: 0.0223\n",
            "Epoch 159/500\n",
            "16/16 [==============================] - 0s 2ms/step - loss: 0.0228\n",
            "Epoch 160/500\n",
            "16/16 [==============================] - 0s 3ms/step - loss: 0.0244\n",
            "Epoch 161/500\n",
            "16/16 [==============================] - 0s 2ms/step - loss: 0.0227\n",
            "Epoch 162/500\n",
            "16/16 [==============================] - 0s 3ms/step - loss: 0.0259\n",
            "Epoch 163/500\n",
            "16/16 [==============================] - 0s 2ms/step - loss: 0.0221\n",
            "Epoch 164/500\n",
            "16/16 [==============================] - 0s 2ms/step - loss: 0.0221\n",
            "Epoch 165/500\n",
            "16/16 [==============================] - 0s 2ms/step - loss: 0.0221\n",
            "Epoch 166/500\n",
            "16/16 [==============================] - 0s 2ms/step - loss: 0.0219\n",
            "Epoch 167/500\n",
            "16/16 [==============================] - 0s 3ms/step - loss: 0.0222\n",
            "Epoch 168/500\n",
            "16/16 [==============================] - 0s 2ms/step - loss: 0.0224\n",
            "Epoch 169/500\n",
            "16/16 [==============================] - 0s 2ms/step - loss: 0.0216\n",
            "Epoch 170/500\n",
            "16/16 [==============================] - 0s 3ms/step - loss: 0.0239\n",
            "Epoch 171/500\n",
            "16/16 [==============================] - 0s 2ms/step - loss: 0.0223\n",
            "Epoch 172/500\n",
            "16/16 [==============================] - 0s 2ms/step - loss: 0.0228\n",
            "Epoch 173/500\n",
            "16/16 [==============================] - 0s 3ms/step - loss: 0.0227\n",
            "Epoch 174/500\n",
            "16/16 [==============================] - 0s 2ms/step - loss: 0.0223\n",
            "Epoch 175/500\n",
            "16/16 [==============================] - 0s 2ms/step - loss: 0.0238\n",
            "Epoch 176/500\n",
            "16/16 [==============================] - 0s 2ms/step - loss: 0.0235\n",
            "Epoch 177/500\n",
            "16/16 [==============================] - 0s 2ms/step - loss: 0.0231\n",
            "Epoch 178/500\n",
            "16/16 [==============================] - 0s 3ms/step - loss: 0.0231\n",
            "Epoch 179/500\n",
            "16/16 [==============================] - 0s 2ms/step - loss: 0.0216\n",
            "Epoch 180/500\n",
            "16/16 [==============================] - 0s 2ms/step - loss: 0.0231\n",
            "Epoch 181/500\n",
            "16/16 [==============================] - 0s 2ms/step - loss: 0.0222\n",
            "Epoch 182/500\n",
            "16/16 [==============================] - 0s 2ms/step - loss: 0.0234\n",
            "Epoch 183/500\n",
            "16/16 [==============================] - 0s 3ms/step - loss: 0.0228\n",
            "Epoch 184/500\n",
            "16/16 [==============================] - 0s 2ms/step - loss: 0.0246\n",
            "Epoch 185/500\n",
            "16/16 [==============================] - 0s 2ms/step - loss: 0.0240\n",
            "Epoch 186/500\n",
            "16/16 [==============================] - 0s 2ms/step - loss: 0.0228\n",
            "Epoch 187/500\n",
            "16/16 [==============================] - 0s 2ms/step - loss: 0.0241\n",
            "Epoch 188/500\n",
            "16/16 [==============================] - 0s 2ms/step - loss: 0.0234\n",
            "Epoch 189/500\n",
            "16/16 [==============================] - 0s 2ms/step - loss: 0.0220\n",
            "Epoch 190/500\n",
            "16/16 [==============================] - 0s 3ms/step - loss: 0.0241\n",
            "Epoch 191/500\n",
            "16/16 [==============================] - 0s 2ms/step - loss: 0.0246\n",
            "Epoch 192/500\n",
            "16/16 [==============================] - 0s 2ms/step - loss: 0.0246\n",
            "Epoch 193/500\n",
            "16/16 [==============================] - 0s 3ms/step - loss: 0.0218\n",
            "Epoch 194/500\n",
            "16/16 [==============================] - 0s 2ms/step - loss: 0.0236\n",
            "Epoch 195/500\n",
            "16/16 [==============================] - 0s 2ms/step - loss: 0.0251\n",
            "Epoch 196/500\n",
            "16/16 [==============================] - 0s 2ms/step - loss: 0.0213\n",
            "Epoch 197/500\n",
            "16/16 [==============================] - 0s 3ms/step - loss: 0.0261\n",
            "Epoch 198/500\n",
            "16/16 [==============================] - 0s 2ms/step - loss: 0.0266\n",
            "Epoch 199/500\n",
            "16/16 [==============================] - 0s 2ms/step - loss: 0.0254\n",
            "Epoch 200/500\n",
            "16/16 [==============================] - 0s 2ms/step - loss: 0.0233\n",
            "Epoch 201/500\n",
            "16/16 [==============================] - 0s 3ms/step - loss: 0.0215\n",
            "Epoch 202/500\n",
            "16/16 [==============================] - 0s 3ms/step - loss: 0.0227\n",
            "Epoch 203/500\n",
            "16/16 [==============================] - 0s 2ms/step - loss: 0.0256\n",
            "Epoch 204/500\n",
            "16/16 [==============================] - 0s 3ms/step - loss: 0.0269\n",
            "Epoch 205/500\n",
            "16/16 [==============================] - 0s 2ms/step - loss: 0.0248\n",
            "Epoch 206/500\n",
            "16/16 [==============================] - 0s 2ms/step - loss: 0.0226\n",
            "Epoch 207/500\n",
            "16/16 [==============================] - 0s 2ms/step - loss: 0.0215\n",
            "Epoch 208/500\n",
            "16/16 [==============================] - 0s 2ms/step - loss: 0.0223\n",
            "Epoch 209/500\n",
            "16/16 [==============================] - 0s 2ms/step - loss: 0.0249\n",
            "Epoch 210/500\n",
            "16/16 [==============================] - 0s 2ms/step - loss: 0.0269\n",
            "Epoch 211/500\n",
            "16/16 [==============================] - 0s 3ms/step - loss: 0.0241\n",
            "Epoch 212/500\n",
            "16/16 [==============================] - 0s 2ms/step - loss: 0.0233\n",
            "Epoch 213/500\n",
            "16/16 [==============================] - 0s 2ms/step - loss: 0.0221\n",
            "Epoch 214/500\n",
            "16/16 [==============================] - 0s 3ms/step - loss: 0.0217\n",
            "Epoch 215/500\n",
            "16/16 [==============================] - 0s 3ms/step - loss: 0.0249\n",
            "Epoch 216/500\n",
            "16/16 [==============================] - 0s 2ms/step - loss: 0.0233\n",
            "Epoch 217/500\n",
            "16/16 [==============================] - 0s 3ms/step - loss: 0.0231\n",
            "Epoch 218/500\n",
            "16/16 [==============================] - 0s 3ms/step - loss: 0.0227\n",
            "Epoch 219/500\n",
            "16/16 [==============================] - 0s 2ms/step - loss: 0.0247\n",
            "Epoch 220/500\n",
            "16/16 [==============================] - 0s 2ms/step - loss: 0.0247\n",
            "Epoch 221/500\n",
            "16/16 [==============================] - 0s 3ms/step - loss: 0.0222\n",
            "Epoch 222/500\n",
            "16/16 [==============================] - 0s 2ms/step - loss: 0.0224\n",
            "Epoch 223/500\n",
            "16/16 [==============================] - 0s 2ms/step - loss: 0.0250\n",
            "Epoch 224/500\n",
            "16/16 [==============================] - 0s 3ms/step - loss: 0.0237\n",
            "Epoch 225/500\n",
            "16/16 [==============================] - 0s 3ms/step - loss: 0.0230\n",
            "Epoch 226/500\n",
            "16/16 [==============================] - 0s 2ms/step - loss: 0.0216\n",
            "Epoch 227/500\n",
            "16/16 [==============================] - 0s 2ms/step - loss: 0.0217\n",
            "Epoch 228/500\n",
            "16/16 [==============================] - 0s 2ms/step - loss: 0.0227\n",
            "Epoch 229/500\n",
            "16/16 [==============================] - 0s 2ms/step - loss: 0.0219\n",
            "Epoch 230/500\n",
            "16/16 [==============================] - 0s 2ms/step - loss: 0.0212\n",
            "Epoch 231/500\n",
            "16/16 [==============================] - 0s 2ms/step - loss: 0.0224\n",
            "Epoch 232/500\n",
            "16/16 [==============================] - 0s 2ms/step - loss: 0.0218\n",
            "Epoch 233/500\n",
            "16/16 [==============================] - 0s 2ms/step - loss: 0.0234\n",
            "Epoch 234/500\n",
            "16/16 [==============================] - 0s 3ms/step - loss: 0.0226\n",
            "Epoch 235/500\n",
            "16/16 [==============================] - 0s 3ms/step - loss: 0.0214\n",
            "Epoch 236/500\n",
            "16/16 [==============================] - 0s 2ms/step - loss: 0.0221\n",
            "Epoch 237/500\n",
            "16/16 [==============================] - 0s 2ms/step - loss: 0.0244\n",
            "Epoch 238/500\n",
            "16/16 [==============================] - 0s 2ms/step - loss: 0.0303\n",
            "Epoch 239/500\n",
            "16/16 [==============================] - 0s 3ms/step - loss: 0.0206\n",
            "Epoch 240/500\n",
            "16/16 [==============================] - 0s 2ms/step - loss: 0.0185\n",
            "Epoch 241/500\n",
            "16/16 [==============================] - 0s 3ms/step - loss: 0.0188\n",
            "Epoch 242/500\n",
            "16/16 [==============================] - 0s 2ms/step - loss: 0.0190\n",
            "Epoch 243/500\n",
            "16/16 [==============================] - 0s 2ms/step - loss: 0.0220\n",
            "Epoch 244/500\n",
            "16/16 [==============================] - 0s 2ms/step - loss: 0.0180\n",
            "Epoch 245/500\n",
            "16/16 [==============================] - 0s 3ms/step - loss: 0.0176\n",
            "Epoch 246/500\n",
            "16/16 [==============================] - 0s 3ms/step - loss: 0.0172\n",
            "Epoch 247/500\n",
            "16/16 [==============================] - 0s 3ms/step - loss: 0.0183\n",
            "Epoch 248/500\n",
            "16/16 [==============================] - 0s 2ms/step - loss: 0.0180\n",
            "Epoch 249/500\n",
            "16/16 [==============================] - 0s 2ms/step - loss: 0.0175\n",
            "Epoch 250/500\n",
            "16/16 [==============================] - 0s 2ms/step - loss: 0.0166\n",
            "Epoch 251/500\n",
            "16/16 [==============================] - 0s 3ms/step - loss: 0.0163\n",
            "Epoch 252/500\n",
            "16/16 [==============================] - 0s 2ms/step - loss: 0.0193\n",
            "Epoch 253/500\n",
            "16/16 [==============================] - 0s 2ms/step - loss: 0.0166\n",
            "Epoch 254/500\n",
            "16/16 [==============================] - 0s 3ms/step - loss: 0.0177\n",
            "Epoch 255/500\n",
            "16/16 [==============================] - 0s 2ms/step - loss: 0.0169\n",
            "Epoch 256/500\n",
            "16/16 [==============================] - 0s 2ms/step - loss: 0.0153\n",
            "Epoch 257/500\n",
            "16/16 [==============================] - 0s 2ms/step - loss: 0.0160\n",
            "Epoch 258/500\n",
            "16/16 [==============================] - 0s 3ms/step - loss: 0.0144\n",
            "Epoch 259/500\n",
            "16/16 [==============================] - 0s 2ms/step - loss: 0.0174\n",
            "Epoch 260/500\n",
            "16/16 [==============================] - 0s 2ms/step - loss: 0.0169\n",
            "Epoch 261/500\n",
            "16/16 [==============================] - 0s 3ms/step - loss: 0.0148\n",
            "Epoch 262/500\n",
            "16/16 [==============================] - 0s 2ms/step - loss: 0.0130\n",
            "Epoch 263/500\n",
            "16/16 [==============================] - 0s 2ms/step - loss: 0.0131\n",
            "Epoch 264/500\n",
            "16/16 [==============================] - 0s 2ms/step - loss: 0.0128\n",
            "Epoch 265/500\n",
            "16/16 [==============================] - 0s 2ms/step - loss: 0.0131\n",
            "Epoch 266/500\n",
            "16/16 [==============================] - 0s 3ms/step - loss: 0.0122\n",
            "Epoch 267/500\n",
            "16/16 [==============================] - 0s 3ms/step - loss: 0.0135\n",
            "Epoch 268/500\n",
            "16/16 [==============================] - 0s 3ms/step - loss: 0.0133\n",
            "Epoch 269/500\n",
            "16/16 [==============================] - 0s 2ms/step - loss: 0.0123\n",
            "Epoch 270/500\n",
            "16/16 [==============================] - 0s 2ms/step - loss: 0.0138\n",
            "Epoch 271/500\n",
            "16/16 [==============================] - 0s 3ms/step - loss: 0.0125\n",
            "Epoch 272/500\n",
            "16/16 [==============================] - 0s 3ms/step - loss: 0.0126\n",
            "Epoch 273/500\n",
            "16/16 [==============================] - 0s 2ms/step - loss: 0.0117\n",
            "Epoch 274/500\n",
            "16/16 [==============================] - 0s 2ms/step - loss: 0.0116\n",
            "Epoch 275/500\n",
            "16/16 [==============================] - 0s 2ms/step - loss: 0.0124\n",
            "Epoch 276/500\n",
            "16/16 [==============================] - 0s 3ms/step - loss: 0.0117\n",
            "Epoch 277/500\n",
            "16/16 [==============================] - 0s 2ms/step - loss: 0.0120\n",
            "Epoch 278/500\n",
            "16/16 [==============================] - 0s 2ms/step - loss: 0.0114\n",
            "Epoch 279/500\n",
            "16/16 [==============================] - 0s 3ms/step - loss: 0.0128\n",
            "Epoch 280/500\n",
            "16/16 [==============================] - 0s 2ms/step - loss: 0.0135\n",
            "Epoch 281/500\n",
            "16/16 [==============================] - 0s 2ms/step - loss: 0.0137\n",
            "Epoch 282/500\n",
            "16/16 [==============================] - 0s 2ms/step - loss: 0.0149\n",
            "Epoch 283/500\n",
            "16/16 [==============================] - 0s 3ms/step - loss: 0.0125\n",
            "Epoch 284/500\n",
            "16/16 [==============================] - 0s 2ms/step - loss: 0.0107\n",
            "Epoch 285/500\n",
            "16/16 [==============================] - 0s 2ms/step - loss: 0.0098\n",
            "Epoch 286/500\n",
            "16/16 [==============================] - 0s 2ms/step - loss: 0.0099\n",
            "Epoch 287/500\n",
            "16/16 [==============================] - 0s 3ms/step - loss: 0.0097\n",
            "Epoch 288/500\n",
            "16/16 [==============================] - 0s 3ms/step - loss: 0.0102\n",
            "Epoch 289/500\n",
            "16/16 [==============================] - 0s 3ms/step - loss: 0.0100\n",
            "Epoch 290/500\n",
            "16/16 [==============================] - 0s 2ms/step - loss: 0.0102\n",
            "Epoch 291/500\n",
            "16/16 [==============================] - 0s 2ms/step - loss: 0.0099\n",
            "Epoch 292/500\n",
            "16/16 [==============================] - 0s 3ms/step - loss: 0.0131\n",
            "Epoch 293/500\n",
            "16/16 [==============================] - 0s 2ms/step - loss: 0.0119\n",
            "Epoch 294/500\n",
            "16/16 [==============================] - 0s 2ms/step - loss: 0.0117\n",
            "Epoch 295/500\n",
            "16/16 [==============================] - 0s 3ms/step - loss: 0.0106\n",
            "Epoch 296/500\n",
            "16/16 [==============================] - 0s 3ms/step - loss: 0.0106\n",
            "Epoch 297/500\n",
            "16/16 [==============================] - 0s 2ms/step - loss: 0.0099\n",
            "Epoch 298/500\n",
            "16/16 [==============================] - 0s 3ms/step - loss: 0.0105\n",
            "Epoch 299/500\n",
            "16/16 [==============================] - 0s 3ms/step - loss: 0.0094\n",
            "Epoch 300/500\n",
            "16/16 [==============================] - 0s 2ms/step - loss: 0.0100\n",
            "Epoch 301/500\n",
            "16/16 [==============================] - 0s 2ms/step - loss: 0.0100\n",
            "Epoch 302/500\n",
            "16/16 [==============================] - 0s 2ms/step - loss: 0.0099\n",
            "Epoch 303/500\n",
            "16/16 [==============================] - 0s 2ms/step - loss: 0.0094\n",
            "Epoch 304/500\n",
            "16/16 [==============================] - 0s 2ms/step - loss: 0.0097\n",
            "Epoch 305/500\n",
            "16/16 [==============================] - 0s 2ms/step - loss: 0.0088\n",
            "Epoch 306/500\n",
            "16/16 [==============================] - 0s 2ms/step - loss: 0.0085\n",
            "Epoch 307/500\n",
            "16/16 [==============================] - 0s 2ms/step - loss: 0.0085\n",
            "Epoch 308/500\n",
            "16/16 [==============================] - 0s 5ms/step - loss: 0.0081\n",
            "Epoch 309/500\n",
            "16/16 [==============================] - 0s 2ms/step - loss: 0.0086\n",
            "Epoch 310/500\n",
            "16/16 [==============================] - 0s 2ms/step - loss: 0.0096\n",
            "Epoch 311/500\n",
            "16/16 [==============================] - 0s 3ms/step - loss: 0.0091\n",
            "Epoch 312/500\n",
            "16/16 [==============================] - 0s 2ms/step - loss: 0.0103\n",
            "Epoch 313/500\n",
            "16/16 [==============================] - 0s 2ms/step - loss: 0.0118\n",
            "Epoch 314/500\n",
            "16/16 [==============================] - 0s 3ms/step - loss: 0.0109\n",
            "Epoch 315/500\n",
            "16/16 [==============================] - 0s 3ms/step - loss: 0.0082\n",
            "Epoch 316/500\n",
            "16/16 [==============================] - 0s 2ms/step - loss: 0.0082\n",
            "Epoch 317/500\n",
            "16/16 [==============================] - 0s 2ms/step - loss: 0.0086\n",
            "Epoch 318/500\n",
            "16/16 [==============================] - 0s 2ms/step - loss: 0.0089\n",
            "Epoch 319/500\n",
            "16/16 [==============================] - 0s 3ms/step - loss: 0.0102\n",
            "Epoch 320/500\n",
            "16/16 [==============================] - 0s 2ms/step - loss: 0.0101\n",
            "Epoch 321/500\n",
            "16/16 [==============================] - 0s 3ms/step - loss: 0.0083\n",
            "Epoch 322/500\n",
            "16/16 [==============================] - 0s 2ms/step - loss: 0.0081\n",
            "Epoch 323/500\n",
            "16/16 [==============================] - 0s 2ms/step - loss: 0.0076\n",
            "Epoch 324/500\n",
            "16/16 [==============================] - 0s 2ms/step - loss: 0.0085\n",
            "Epoch 325/500\n",
            "16/16 [==============================] - 0s 2ms/step - loss: 0.0085\n",
            "Epoch 326/500\n",
            "16/16 [==============================] - 0s 2ms/step - loss: 0.0094\n",
            "Epoch 327/500\n",
            "16/16 [==============================] - 0s 3ms/step - loss: 0.0089\n",
            "Epoch 328/500\n",
            "16/16 [==============================] - 0s 2ms/step - loss: 0.0090\n",
            "Epoch 329/500\n",
            "16/16 [==============================] - 0s 7ms/step - loss: 0.0077\n",
            "Epoch 330/500\n",
            "16/16 [==============================] - 0s 3ms/step - loss: 0.0077\n",
            "Epoch 331/500\n",
            "16/16 [==============================] - 0s 3ms/step - loss: 0.0082\n",
            "Epoch 332/500\n",
            "16/16 [==============================] - 0s 3ms/step - loss: 0.0080\n",
            "Epoch 333/500\n",
            "16/16 [==============================] - 0s 3ms/step - loss: 0.0078\n",
            "Epoch 334/500\n",
            "16/16 [==============================] - 0s 3ms/step - loss: 0.0074\n",
            "Epoch 335/500\n",
            "16/16 [==============================] - 0s 3ms/step - loss: 0.0079\n",
            "Epoch 336/500\n",
            "16/16 [==============================] - 0s 5ms/step - loss: 0.0086\n",
            "Epoch 337/500\n",
            "16/16 [==============================] - 0s 4ms/step - loss: 0.0101\n",
            "Epoch 338/500\n",
            "16/16 [==============================] - 0s 4ms/step - loss: 0.0091\n",
            "Epoch 339/500\n",
            "16/16 [==============================] - 0s 3ms/step - loss: 0.0087\n",
            "Epoch 340/500\n",
            "16/16 [==============================] - 0s 3ms/step - loss: 0.0091\n",
            "Epoch 341/500\n",
            "16/16 [==============================] - 0s 5ms/step - loss: 0.0082\n",
            "Epoch 342/500\n",
            "16/16 [==============================] - 0s 3ms/step - loss: 0.0078\n",
            "Epoch 343/500\n",
            "16/16 [==============================] - 0s 3ms/step - loss: 0.0077\n",
            "Epoch 344/500\n",
            "16/16 [==============================] - 0s 3ms/step - loss: 0.0088\n",
            "Epoch 345/500\n",
            "16/16 [==============================] - 0s 4ms/step - loss: 0.0081\n",
            "Epoch 346/500\n",
            "16/16 [==============================] - 0s 3ms/step - loss: 0.0074\n",
            "Epoch 347/500\n",
            "16/16 [==============================] - 0s 3ms/step - loss: 0.0081\n",
            "Epoch 348/500\n",
            "16/16 [==============================] - 0s 3ms/step - loss: 0.0073\n",
            "Epoch 349/500\n",
            "16/16 [==============================] - 0s 3ms/step - loss: 0.0089\n",
            "Epoch 350/500\n",
            "16/16 [==============================] - 0s 3ms/step - loss: 0.0096\n",
            "Epoch 351/500\n",
            "16/16 [==============================] - 0s 4ms/step - loss: 0.0102\n",
            "Epoch 352/500\n",
            "16/16 [==============================] - 0s 4ms/step - loss: 0.0097\n",
            "Epoch 353/500\n",
            "16/16 [==============================] - 0s 3ms/step - loss: 0.0108\n",
            "Epoch 354/500\n",
            "16/16 [==============================] - 0s 3ms/step - loss: 0.0108\n",
            "Epoch 355/500\n",
            "16/16 [==============================] - 0s 3ms/step - loss: 0.0079\n",
            "Epoch 356/500\n",
            "16/16 [==============================] - 0s 3ms/step - loss: 0.0078\n",
            "Epoch 357/500\n",
            "16/16 [==============================] - 0s 3ms/step - loss: 0.0081\n",
            "Epoch 358/500\n",
            "16/16 [==============================] - 0s 3ms/step - loss: 0.0080\n",
            "Epoch 359/500\n",
            "16/16 [==============================] - 0s 3ms/step - loss: 0.0078\n",
            "Epoch 360/500\n",
            "16/16 [==============================] - 0s 3ms/step - loss: 0.0077\n",
            "Epoch 361/500\n",
            "16/16 [==============================] - 0s 3ms/step - loss: 0.0081\n",
            "Epoch 362/500\n",
            "16/16 [==============================] - 0s 5ms/step - loss: 0.0078\n",
            "Epoch 363/500\n",
            "16/16 [==============================] - 0s 3ms/step - loss: 0.0074\n",
            "Epoch 364/500\n",
            "16/16 [==============================] - 0s 3ms/step - loss: 0.0083\n",
            "Epoch 365/500\n",
            "16/16 [==============================] - 0s 3ms/step - loss: 0.0083\n",
            "Epoch 366/500\n",
            "16/16 [==============================] - 0s 3ms/step - loss: 0.0073\n",
            "Epoch 367/500\n",
            "16/16 [==============================] - 0s 3ms/step - loss: 0.0074\n",
            "Epoch 368/500\n",
            "16/16 [==============================] - 0s 3ms/step - loss: 0.0083\n",
            "Epoch 369/500\n",
            "16/16 [==============================] - 0s 4ms/step - loss: 0.0078\n",
            "Epoch 370/500\n",
            "16/16 [==============================] - 0s 6ms/step - loss: 0.0080\n",
            "Epoch 371/500\n",
            "16/16 [==============================] - 0s 4ms/step - loss: 0.0083\n",
            "Epoch 372/500\n",
            "16/16 [==============================] - 0s 4ms/step - loss: 0.0077\n",
            "Epoch 373/500\n",
            "16/16 [==============================] - 0s 3ms/step - loss: 0.0077\n",
            "Epoch 374/500\n",
            "16/16 [==============================] - 0s 3ms/step - loss: 0.0075\n",
            "Epoch 375/500\n",
            "16/16 [==============================] - 0s 3ms/step - loss: 0.0071\n",
            "Epoch 376/500\n",
            "16/16 [==============================] - 0s 3ms/step - loss: 0.0074\n",
            "Epoch 377/500\n",
            "16/16 [==============================] - 0s 4ms/step - loss: 0.0083\n",
            "Epoch 378/500\n",
            "16/16 [==============================] - 0s 4ms/step - loss: 0.0086\n",
            "Epoch 379/500\n",
            "16/16 [==============================] - 0s 5ms/step - loss: 0.0081\n",
            "Epoch 380/500\n",
            "16/16 [==============================] - 0s 4ms/step - loss: 0.0070\n",
            "Epoch 381/500\n",
            "16/16 [==============================] - 0s 3ms/step - loss: 0.0085\n",
            "Epoch 382/500\n",
            "16/16 [==============================] - 0s 3ms/step - loss: 0.0076\n",
            "Epoch 383/500\n",
            "16/16 [==============================] - 0s 4ms/step - loss: 0.0077\n",
            "Epoch 384/500\n",
            "16/16 [==============================] - 0s 4ms/step - loss: 0.0086\n",
            "Epoch 385/500\n",
            "16/16 [==============================] - 0s 3ms/step - loss: 0.0081\n",
            "Epoch 386/500\n",
            "16/16 [==============================] - 0s 3ms/step - loss: 0.0072\n",
            "Epoch 387/500\n",
            "16/16 [==============================] - 0s 3ms/step - loss: 0.0072\n",
            "Epoch 388/500\n",
            "16/16 [==============================] - 0s 3ms/step - loss: 0.0080\n",
            "Epoch 389/500\n",
            "16/16 [==============================] - 0s 5ms/step - loss: 0.0070\n",
            "Epoch 390/500\n",
            "16/16 [==============================] - 0s 5ms/step - loss: 0.0073\n",
            "Epoch 391/500\n",
            "16/16 [==============================] - 0s 4ms/step - loss: 0.0082\n",
            "Epoch 392/500\n",
            "16/16 [==============================] - 0s 4ms/step - loss: 0.0078\n",
            "Epoch 393/500\n",
            "16/16 [==============================] - 0s 5ms/step - loss: 0.0080\n",
            "Epoch 394/500\n",
            "16/16 [==============================] - 0s 3ms/step - loss: 0.0090\n",
            "Epoch 395/500\n",
            "16/16 [==============================] - 0s 3ms/step - loss: 0.0080\n",
            "Epoch 396/500\n",
            "16/16 [==============================] - 0s 5ms/step - loss: 0.0078\n",
            "Epoch 397/500\n",
            "16/16 [==============================] - 0s 3ms/step - loss: 0.0075\n",
            "Epoch 398/500\n",
            "16/16 [==============================] - 0s 5ms/step - loss: 0.0071\n",
            "Epoch 399/500\n",
            "16/16 [==============================] - 0s 3ms/step - loss: 0.0068\n",
            "Epoch 400/500\n",
            "16/16 [==============================] - 0s 4ms/step - loss: 0.0071\n",
            "Epoch 401/500\n",
            "16/16 [==============================] - 0s 3ms/step - loss: 0.0074\n",
            "Epoch 402/500\n",
            "16/16 [==============================] - 0s 3ms/step - loss: 0.0076\n",
            "Epoch 403/500\n",
            "16/16 [==============================] - 0s 4ms/step - loss: 0.0070\n",
            "Epoch 404/500\n",
            "16/16 [==============================] - 0s 4ms/step - loss: 0.0069\n",
            "Epoch 405/500\n",
            "16/16 [==============================] - 0s 4ms/step - loss: 0.0067\n",
            "Epoch 406/500\n",
            "16/16 [==============================] - 0s 3ms/step - loss: 0.0069\n",
            "Epoch 407/500\n",
            "16/16 [==============================] - 0s 5ms/step - loss: 0.0085\n",
            "Epoch 408/500\n",
            "16/16 [==============================] - 0s 6ms/step - loss: 0.0069\n",
            "Epoch 409/500\n",
            "16/16 [==============================] - 0s 2ms/step - loss: 0.0074\n",
            "Epoch 410/500\n",
            "16/16 [==============================] - 0s 2ms/step - loss: 0.0076\n",
            "Epoch 411/500\n",
            "16/16 [==============================] - 0s 2ms/step - loss: 0.0078\n",
            "Epoch 412/500\n",
            "16/16 [==============================] - 0s 3ms/step - loss: 0.0085\n",
            "Epoch 413/500\n",
            "16/16 [==============================] - 0s 3ms/step - loss: 0.0082\n",
            "Epoch 414/500\n",
            "16/16 [==============================] - 0s 2ms/step - loss: 0.0062\n",
            "Epoch 415/500\n",
            "16/16 [==============================] - 0s 3ms/step - loss: 0.0079\n",
            "Epoch 416/500\n",
            "16/16 [==============================] - 0s 2ms/step - loss: 0.0107\n",
            "Epoch 417/500\n",
            "16/16 [==============================] - 0s 3ms/step - loss: 0.0075\n",
            "Epoch 418/500\n",
            "16/16 [==============================] - 0s 2ms/step - loss: 0.0071\n",
            "Epoch 419/500\n",
            "16/16 [==============================] - 0s 3ms/step - loss: 0.0073\n",
            "Epoch 420/500\n",
            "16/16 [==============================] - 0s 2ms/step - loss: 0.0069\n",
            "Epoch 421/500\n",
            "16/16 [==============================] - 0s 2ms/step - loss: 0.0063\n",
            "Epoch 422/500\n",
            "16/16 [==============================] - 0s 2ms/step - loss: 0.0071\n",
            "Epoch 423/500\n",
            "16/16 [==============================] - 0s 3ms/step - loss: 0.0064\n",
            "Epoch 424/500\n",
            "16/16 [==============================] - 0s 2ms/step - loss: 0.0079\n",
            "Epoch 425/500\n",
            "16/16 [==============================] - 0s 2ms/step - loss: 0.0060\n",
            "Epoch 426/500\n",
            "16/16 [==============================] - 0s 2ms/step - loss: 0.0062\n",
            "Epoch 427/500\n",
            "16/16 [==============================] - 0s 3ms/step - loss: 0.0059\n",
            "Epoch 428/500\n",
            "16/16 [==============================] - 0s 2ms/step - loss: 0.0065\n",
            "Epoch 429/500\n",
            "16/16 [==============================] - 0s 3ms/step - loss: 0.0066\n",
            "Epoch 430/500\n",
            "16/16 [==============================] - 0s 3ms/step - loss: 0.0054\n",
            "Epoch 431/500\n",
            "16/16 [==============================] - 0s 2ms/step - loss: 0.0073\n",
            "Epoch 432/500\n",
            "16/16 [==============================] - 0s 3ms/step - loss: 0.0057\n",
            "Epoch 433/500\n",
            "16/16 [==============================] - 0s 2ms/step - loss: 0.0061\n",
            "Epoch 434/500\n",
            "16/16 [==============================] - 0s 3ms/step - loss: 0.0054\n",
            "Epoch 435/500\n",
            "16/16 [==============================] - 0s 3ms/step - loss: 0.0058\n",
            "Epoch 436/500\n",
            "16/16 [==============================] - 0s 2ms/step - loss: 0.0068\n",
            "Epoch 437/500\n",
            "16/16 [==============================] - 0s 3ms/step - loss: 0.0059\n",
            "Epoch 438/500\n",
            "16/16 [==============================] - 0s 2ms/step - loss: 0.0056\n",
            "Epoch 439/500\n",
            "16/16 [==============================] - 0s 2ms/step - loss: 0.0056\n",
            "Epoch 440/500\n",
            "16/16 [==============================] - 0s 2ms/step - loss: 0.0053\n",
            "Epoch 441/500\n",
            "16/16 [==============================] - 0s 3ms/step - loss: 0.0064\n",
            "Epoch 442/500\n",
            "16/16 [==============================] - 0s 2ms/step - loss: 0.0055\n",
            "Epoch 443/500\n",
            "16/16 [==============================] - 0s 3ms/step - loss: 0.0055\n",
            "Epoch 444/500\n",
            "16/16 [==============================] - 0s 2ms/step - loss: 0.0049\n",
            "Epoch 445/500\n",
            "16/16 [==============================] - 0s 2ms/step - loss: 0.0068\n",
            "Epoch 446/500\n",
            "16/16 [==============================] - 0s 2ms/step - loss: 0.0071\n",
            "Epoch 447/500\n",
            "16/16 [==============================] - 0s 3ms/step - loss: 0.0056\n",
            "Epoch 448/500\n",
            "16/16 [==============================] - 0s 3ms/step - loss: 0.0061\n",
            "Epoch 449/500\n",
            "16/16 [==============================] - 0s 3ms/step - loss: 0.0052\n",
            "Epoch 450/500\n",
            "16/16 [==============================] - 0s 3ms/step - loss: 0.0054\n",
            "Epoch 451/500\n",
            "16/16 [==============================] - 0s 2ms/step - loss: 0.0050\n",
            "Epoch 452/500\n",
            "16/16 [==============================] - 0s 2ms/step - loss: 0.0053\n",
            "Epoch 453/500\n",
            "16/16 [==============================] - 0s 3ms/step - loss: 0.0049\n",
            "Epoch 454/500\n",
            "16/16 [==============================] - 0s 2ms/step - loss: 0.0057\n",
            "Epoch 455/500\n",
            "16/16 [==============================] - 0s 3ms/step - loss: 0.0053\n",
            "Epoch 456/500\n",
            "16/16 [==============================] - 0s 2ms/step - loss: 0.0059\n",
            "Epoch 457/500\n",
            "16/16 [==============================] - 0s 2ms/step - loss: 0.0054\n",
            "Epoch 458/500\n",
            "16/16 [==============================] - 0s 2ms/step - loss: 0.0050\n",
            "Epoch 459/500\n",
            "16/16 [==============================] - 0s 2ms/step - loss: 0.0055\n",
            "Epoch 460/500\n",
            "16/16 [==============================] - 0s 2ms/step - loss: 0.0064\n",
            "Epoch 461/500\n",
            "16/16 [==============================] - 0s 2ms/step - loss: 0.0049\n",
            "Epoch 462/500\n",
            "16/16 [==============================] - 0s 3ms/step - loss: 0.0046\n",
            "Epoch 463/500\n",
            "16/16 [==============================] - 0s 2ms/step - loss: 0.0043\n",
            "Epoch 464/500\n",
            "16/16 [==============================] - 0s 3ms/step - loss: 0.0046\n",
            "Epoch 465/500\n",
            "16/16 [==============================] - 0s 2ms/step - loss: 0.0045\n",
            "Epoch 466/500\n",
            "16/16 [==============================] - 0s 2ms/step - loss: 0.0048\n",
            "Epoch 467/500\n",
            "16/16 [==============================] - 0s 2ms/step - loss: 0.0046\n",
            "Epoch 468/500\n",
            "16/16 [==============================] - 0s 3ms/step - loss: 0.0046\n",
            "Epoch 469/500\n",
            "16/16 [==============================] - 0s 3ms/step - loss: 0.0052\n",
            "Epoch 470/500\n",
            "16/16 [==============================] - 0s 3ms/step - loss: 0.0046\n",
            "Epoch 471/500\n",
            "16/16 [==============================] - 0s 3ms/step - loss: 0.0044\n",
            "Epoch 472/500\n",
            "16/16 [==============================] - 0s 2ms/step - loss: 0.0049\n",
            "Epoch 473/500\n",
            "16/16 [==============================] - 0s 3ms/step - loss: 0.0054\n",
            "Epoch 474/500\n",
            "16/16 [==============================] - 0s 2ms/step - loss: 0.0051\n",
            "Epoch 475/500\n",
            "16/16 [==============================] - 0s 2ms/step - loss: 0.0060\n",
            "Epoch 476/500\n",
            "16/16 [==============================] - 0s 2ms/step - loss: 0.0085\n",
            "Epoch 477/500\n",
            "16/16 [==============================] - 0s 3ms/step - loss: 0.0053\n",
            "Epoch 478/500\n",
            "16/16 [==============================] - 0s 2ms/step - loss: 0.0048\n",
            "Epoch 479/500\n",
            "16/16 [==============================] - 0s 3ms/step - loss: 0.0040\n",
            "Epoch 480/500\n",
            "16/16 [==============================] - 0s 2ms/step - loss: 0.0041\n",
            "Epoch 481/500\n",
            "16/16 [==============================] - 0s 3ms/step - loss: 0.0040\n",
            "Epoch 482/500\n",
            "16/16 [==============================] - 0s 2ms/step - loss: 0.0043\n",
            "Epoch 483/500\n",
            "16/16 [==============================] - 0s 2ms/step - loss: 0.0045\n",
            "Epoch 484/500\n",
            "16/16 [==============================] - 0s 2ms/step - loss: 0.0048\n",
            "Epoch 485/500\n",
            "16/16 [==============================] - 0s 3ms/step - loss: 0.0048\n",
            "Epoch 486/500\n",
            "16/16 [==============================] - 0s 3ms/step - loss: 0.0041\n",
            "Epoch 487/500\n",
            "16/16 [==============================] - 0s 2ms/step - loss: 0.0051\n",
            "Epoch 488/500\n",
            "16/16 [==============================] - 0s 3ms/step - loss: 0.0054\n",
            "Epoch 489/500\n",
            "16/16 [==============================] - 0s 2ms/step - loss: 0.0042\n",
            "Epoch 490/500\n",
            "16/16 [==============================] - 0s 3ms/step - loss: 0.0040\n",
            "Epoch 491/500\n",
            "16/16 [==============================] - 0s 4ms/step - loss: 0.0043\n",
            "Epoch 492/500\n",
            "16/16 [==============================] - 0s 3ms/step - loss: 0.0039\n",
            "Epoch 493/500\n",
            "16/16 [==============================] - 0s 3ms/step - loss: 0.0043\n",
            "Epoch 494/500\n",
            "16/16 [==============================] - 0s 3ms/step - loss: 0.0055\n",
            "Epoch 495/500\n",
            "16/16 [==============================] - 0s 3ms/step - loss: 0.0049\n",
            "Epoch 496/500\n",
            "16/16 [==============================] - 0s 2ms/step - loss: 0.0055\n",
            "Epoch 497/500\n",
            "16/16 [==============================] - 0s 2ms/step - loss: 0.0047\n",
            "Epoch 498/500\n",
            "16/16 [==============================] - 0s 3ms/step - loss: 0.0043\n",
            "Epoch 499/500\n",
            "16/16 [==============================] - 0s 3ms/step - loss: 0.0038\n",
            "Epoch 500/500\n",
            "16/16 [==============================] - 0s 3ms/step - loss: 0.0039\n"
          ]
        }
      ]
    },
    {
      "cell_type": "code",
      "source": [
        "model_a.summary()#informacion de la red"
      ],
      "metadata": {
        "colab": {
          "base_uri": "https://localhost:8080/"
        },
        "id": "H9IZfq_uzg5c",
        "outputId": "21056b76-b02d-47b2-c102-1270d5b33c1f"
      },
      "execution_count": 94,
      "outputs": [
        {
          "output_type": "stream",
          "name": "stdout",
          "text": [
            "Model: \"sequential_10\"\n",
            "_________________________________________________________________\n",
            " Layer (type)                Output Shape              Param #   \n",
            "=================================================================\n",
            " dense_26 (Dense)            (None, 128)               256       \n",
            "                                                                 \n",
            " dense_27 (Dense)            (None, 1)                 129       \n",
            "                                                                 \n",
            "=================================================================\n",
            "Total params: 385\n",
            "Trainable params: 385\n",
            "Non-trainable params: 0\n",
            "_________________________________________________________________\n"
          ]
        }
      ]
    },
    {
      "cell_type": "code",
      "source": [
        "# Evaluar modelo\n",
        "x_test_a = np.linspace(-1, 1, 10)\n",
        "y_test_a = 3 * np.sin(np.pi * x_test_a)\n",
        "loss_a = model_a.evaluate(x_test_a, y_test_a, verbose=1)"
      ],
      "metadata": {
        "colab": {
          "base_uri": "https://localhost:8080/"
        },
        "id": "Ka_v5r3llRxT",
        "outputId": "dddfbfa3-2457-4571-f036-3a9b7b8ebbd8"
      },
      "execution_count": 95,
      "outputs": [
        {
          "output_type": "stream",
          "name": "stdout",
          "text": [
            "1/1 [==============================] - 0s 35ms/step - loss: 0.0138\n"
          ]
        }
      ]
    },
    {
      "cell_type": "code",
      "source": [
        "# Graficar función original y solución de la red\n",
        "plt.plot(x_test_a, y_test_a, label='Función original')\n",
        "plt.plot(x_test_a, model_a.predict(x_test_a), label='Red neuronal')\n",
        "plt.legend()\n",
        "plt.title('Función a) 3sin(pix)')\n",
        "plt.show()"
      ],
      "metadata": {
        "colab": {
          "base_uri": "https://localhost:8080/",
          "height": 470
        },
        "id": "qXTBr-08kZld",
        "outputId": "4e80b56a-2353-4de4-8ea1-172ce73c496f"
      },
      "execution_count": 96,
      "outputs": [
        {
          "output_type": "stream",
          "name": "stdout",
          "text": [
            "1/1 [==============================] - 0s 47ms/step\n"
          ]
        },
        {
          "output_type": "display_data",
          "data": {
            "text/plain": [
              "<Figure size 640x480 with 1 Axes>"
            ],
            "image/png": "[encoded data removed]"
          },
          "metadata": {}
        }
      ]
    },
    {
      "cell_type": "code",
      "source": [
        "learning_rate_b = 0.01\n",
        "epochs_b = 500\n",
        "batch_size_b = 64\n",
        "\n",
        "wandb.init(project=\"Tarea_RN_ej1\")#nombre del projecto\n",
        "wandb.config.learning_rate = learning_rate_b\n",
        "wandb.config.epochs = epochs_b\n",
        "wandb.config.batch_size = batch_size_b"
      ],
      "metadata": {
        "colab": {
          "base_uri": "https://localhost:8080/",
          "height": 410
        },
        "id": "ulWqb2FS5pFT",
        "outputId": "b1383f8b-a870-4531-cab4-7ee32d1e1edb"
      },
      "execution_count": 97,
      "outputs": [
        {
          "output_type": "display_data",
          "data": {
            "text/plain": [
              "<IPython.core.display.HTML object>"
            ],
            "text/html": [
              "Finishing last run (ID:7bhkfcvw) before initializing another..."
            ]
          },
          "metadata": {}
        },
        {
          "output_type": "display_data",
          "data": {
            "text/plain": [
              "<IPython.core.display.HTML object>"
            ],
            "text/html": [
              "Waiting for W&B process to finish... <strong style=\"color:green\">(success).</strong>"
            ]
          },
          "metadata": {}
        },
        {
          "output_type": "display_data",
          "data": {
            "text/plain": [
              "<IPython.core.display.HTML object>"
            ],
            "text/html": [
              "<style>\n",
              "    table.wandb td:nth-child(1) { padding: 0 10px; text-align: left ; width: auto;} td:nth-child(2) {text-align: left ; width: 100%}\n",
              "    .wandb-row { display: flex; flex-direction: row; flex-wrap: wrap; justify-content: flex-start; width: 100% }\n",
              "    .wandb-col { display: flex; flex-direction: column; flex-basis: 100%; flex: 1; padding: 10px; }\n",
              "    </style>\n",
              "<div class=\"wandb-row\"><div class=\"wandb-col\"><h3>Run history:</h3><br/><table class=\"wandb\"><tr><td>epoch</td><td>▁▁▁▂▂▂▂▂▂▃▃▃▃▃▄▄▄▄▄▄▅▅▅▅▅▅▆▆▆▆▆▇▇▇▇▇▇███</td></tr><tr><td>loss</td><td>█▂▁▁▁▁▁▁▁▁▁▁▁▁▁▁▁▁▁▁▁▁▁▁▁▁▁▁▁▁▁▁▁▁▁▁▁▁▁▁</td></tr><tr><td>val_loss</td><td>█▂▁▁▁▁▁▁▁▁▁▁▁▁▁▁▁▁▁▁▁▁▁▁▁▁▁▁▁▁▁▁▁▁▁▁▁▁▁▁</td></tr></table><br/></div><div class=\"wandb-col\"><h3>Run summary:</h3><br/><table class=\"wandb\"><tr><td>best_epoch</td><td>492</td></tr><tr><td>best_val_loss</td><td>2e-05</td></tr><tr><td>epoch</td><td>499</td></tr><tr><td>loss</td><td>3e-05</td></tr><tr><td>val_loss</td><td>2e-05</td></tr></table><br/></div></div>"
            ]
          },
          "metadata": {}
        },
        {
          "output_type": "display_data",
          "data": {
            "text/plain": [
              "<IPython.core.display.HTML object>"
            ],
            "text/html": [
              " View run <strong style=\"color:#cdcd00\">generous-cloud-6</strong> at: <a href='https://wandb.ai/aguilardelllano-cesar/Tarea_RN_ej1/runs/7bhkfcvw' target=\"_blank\">https://wandb.ai/aguilardelllano-cesar/Tarea_RN_ej1/runs/7bhkfcvw</a><br/>Synced 5 W&B file(s), 1 media file(s), 610 artifact file(s) and 1 other file(s)"
            ]
          },
          "metadata": {}
        },
        {
          "output_type": "display_data",
          "data": {
            "text/plain": [
              "<IPython.core.display.HTML object>"
            ],
            "text/html": [
              "Find logs at: <code>./wandb/run-20230518_033115-7bhkfcvw/logs</code>"
            ]
          },
          "metadata": {}
        },
        {
          "output_type": "display_data",
          "data": {
            "text/plain": [
              "<IPython.core.display.HTML object>"
            ],
            "text/html": [
              "Successfully finished last run (ID:7bhkfcvw). Initializing new run:<br/>"
            ]
          },
          "metadata": {}
        },
        {
          "output_type": "display_data",
          "data": {
            "text/plain": [
              "<IPython.core.display.HTML object>"
            ],
            "text/html": [
              "Tracking run with wandb version 0.15.3"
            ]
          },
          "metadata": {}
        },
        {
          "output_type": "display_data",
          "data": {
            "text/plain": [
              "<IPython.core.display.HTML object>"
            ],
            "text/html": [
              "Run data is saved locally in <code>/content/wandb/run-20230518_033616-14hpi1x8</code>"
            ]
          },
          "metadata": {}
        },
        {
          "output_type": "display_data",
          "data": {
            "text/plain": [
              "<IPython.core.display.HTML object>"
            ],
            "text/html": [
              "Syncing run <strong><a href='https://wandb.ai/aguilardelllano-cesar/Tarea_RN_ej1/runs/14hpi1x8' target=\"_blank\">noble-dew-7</a></strong> to <a href='https://wandb.ai/aguilardelllano-cesar/Tarea_RN_ej1' target=\"_blank\">Weights & Biases</a> (<a href='https://wandb.me/run' target=\"_blank\">docs</a>)<br/>"
            ]
          },
          "metadata": {}
        },
        {
          "output_type": "display_data",
          "data": {
            "text/plain": [
              "<IPython.core.display.HTML object>"
            ],
            "text/html": [
              " View project at <a href='https://wandb.ai/aguilardelllano-cesar/Tarea_RN_ej1' target=\"_blank\">https://wandb.ai/aguilardelllano-cesar/Tarea_RN_ej1</a>"
            ]
          },
          "metadata": {}
        },
        {
          "output_type": "display_data",
          "data": {
            "text/plain": [
              "<IPython.core.display.HTML object>"
            ],
            "text/html": [
              " View run at <a href='https://wandb.ai/aguilardelllano-cesar/Tarea_RN_ej1/runs/14hpi1x8' target=\"_blank\">https://wandb.ai/aguilardelllano-cesar/Tarea_RN_ej1/runs/14hpi1x8</a>"
            ]
          },
          "metadata": {}
        }
      ]
    },
    {
      "cell_type": "code",
      "source": [
        "# Función b) 1+2x+4x^3\n",
        "x_train_b = np.linspace(-1, 1, 1000)\n",
        "y_train_b = 1 + 2 * x_train_b + 4 * x_train_b**3\n"
      ],
      "metadata": {
        "id": "KJLvYSB8q08F"
      },
      "execution_count": 89,
      "outputs": []
    },
    {
      "cell_type": "code",
      "source": [
        "# Definir modelo\n",
        "model_b = keras.Sequential([\n",
        "    layers.Dense(64, activation='relu', input_shape=(1,)),\n",
        "    layers.Dense(64, activation='relu'),\n",
        "    layers.Dense(1)\n",
        "])"
      ],
      "metadata": {
        "id": "7sEnwR1Pq2t-"
      },
      "execution_count": 90,
      "outputs": []
    },
    {
      "cell_type": "code",
      "source": [
        "# Compilar modelo\n",
        "model_b.compile(loss='mse', optimizer='adam')\n",
        "\n",
        "# Entrenar modelo\n",
        "history_b = model_b.fit(x_train_b, y_train_b,\n",
        "                    batch_size=64,\n",
        "                    epochs=500,\n",
        "                    verbose=1,\n",
        "                    validation_data=(x_test_b, y_test_b),\n",
        "                    callbacks=[WandbCallback()])"
      ],
      "metadata": {
        "id": "C9iZxdAMq8ke",
        "colab": {
          "base_uri": "https://localhost:8080/"
        },
        "outputId": "1afe69de-1cc6-47ae-9c13-1e8aea1f0e5c"
      },
      "execution_count": 93,
      "outputs": [
        {
          "output_type": "stream",
          "name": "stdout",
          "text": [
            "Epoch 1/500\n",
            " 1/16 [>.............................] - ETA: 11s - loss: 6.8426"
          ]
        },
        {
          "output_type": "stream",
          "name": "stderr",
          "text": [
            "WARNING:absl:Found untraced functions such as _update_step_xla while saving (showing 1 of 1). These functions will not be directly callable after loading.\n",
            "\u001b[34m\u001b[1mwandb\u001b[0m: Adding directory to artifact (/content/wandb/run-20230518_033115-7bhkfcvw/files/model-best)... Done. 0.0s\n"
          ]
        },
        {
          "output_type": "stream",
          "name": "stdout",
          "text": [
            "\b\b\b\b\b\b\b\b\b\b\b\b\b\b\b\b\b\b\b\b\b\b\b\b\b\b\b\b\b\b\b\b\b\b\b\b\b\b\b\b\b\b\b\b\b\b\b\b\b\b\b\b\b\b\b\b\b\b\b\b\b\b\b\b\r16/16 [==============================] - 2s 73ms/step - loss: 7.1074 - val_loss: 9.4995\n",
            "Epoch 2/500\n",
            " 1/16 [>.............................] - ETA: 0s - loss: 5.1524"
          ]
        },
        {
          "output_type": "stream",
          "name": "stderr",
          "text": [
            "WARNING:absl:Found untraced functions such as _update_step_xla while saving (showing 1 of 1). These functions will not be directly callable after loading.\n",
            "\u001b[34m\u001b[1mwandb\u001b[0m: Adding directory to artifact (/content/wandb/run-20230518_033115-7bhkfcvw/files/model-best)... Done. 0.0s\n"
          ]
        },
        {
          "output_type": "stream",
          "name": "stdout",
          "text": [
            "\b\b\b\b\b\b\b\b\b\b\b\b\b\b\b\b\b\b\b\b\b\b\b\b\b\b\b\b\b\b\b\b\b\b\b\b\b\b\b\b\b\b\b\b\b\b\b\b\b\b\b\b\b\b\b\b\b\b\b\b\b\b\b\r16/16 [==============================] - 1s 73ms/step - loss: 5.8727 - val_loss: 7.7001\n",
            "Epoch 3/500\n",
            " 1/16 [>.............................] - ETA: 0s - loss: 5.6139"
          ]
        },
        {
          "output_type": "stream",
          "name": "stderr",
          "text": [
            "WARNING:absl:Found untraced functions such as _update_step_xla while saving (showing 1 of 1). These functions will not be directly callable after loading.\n",
            "\u001b[34m\u001b[1mwandb\u001b[0m: Adding directory to artifact (/content/wandb/run-20230518_033115-7bhkfcvw/files/model-best)... Done. 0.0s\n"
          ]
        },
        {
          "output_type": "stream",
          "name": "stdout",
          "text": [
            "\b\b\b\b\b\b\b\b\b\b\b\b\b\b\b\b\b\b\b\b\b\b\b\b\b\b\b\b\b\b\b\b\b\b\b\b\b\b\b\b\b\b\b\b\b\b\b\b\b\b\b\b\b\b\b\b\b\b\b\b\b\b\b\r16/16 [==============================] - 1s 61ms/step - loss: 4.3816 - val_loss: 5.4213\n",
            "Epoch 4/500\n",
            " 1/16 [>.............................] - ETA: 0s - loss: 2.3162"
          ]
        },
        {
          "output_type": "stream",
          "name": "stderr",
          "text": [
            "WARNING:absl:Found untraced functions such as _update_step_xla while saving (showing 1 of 1). These functions will not be directly callable after loading.\n",
            "\u001b[34m\u001b[1mwandb\u001b[0m: Adding directory to artifact (/content/wandb/run-20230518_033115-7bhkfcvw/files/model-best)... Done. 0.0s\n"
          ]
        },
        {
          "output_type": "stream",
          "name": "stdout",
          "text": [
            "\b\b\b\b\b\b\b\b\b\b\b\b\b\b\b\b\b\b\b\b\b\b\b\b\b\b\b\b\b\b\b\b\b\b\b\b\b\b\b\b\b\b\b\b\b\b\b\b\b\b\b\b\b\b\b\b\b\b\b\b\b\b\b\r16/16 [==============================] - 1s 62ms/step - loss: 2.6102 - val_loss: 3.1030\n",
            "Epoch 5/500\n",
            " 1/16 [>.............................] - ETA: 0s - loss: 2.2606"
          ]
        },
        {
          "output_type": "stream",
          "name": "stderr",
          "text": [
            "WARNING:absl:Found untraced functions such as _update_step_xla while saving (showing 1 of 1). These functions will not be directly callable after loading.\n",
            "\u001b[34m\u001b[1mwandb\u001b[0m: Adding directory to artifact (/content/wandb/run-20230518_033115-7bhkfcvw/files/model-best)... Done. 0.0s\n"
          ]
        },
        {
          "output_type": "stream",
          "name": "stdout",
          "text": [
            "\b\b\b\b\b\b\b\b\b\b\b\b\b\b\b\b\b\b\b\b\b\b\b\b\b\b\b\b\b\b\b\b\b\b\b\b\b\b\b\b\b\b\b\b\b\b\b\b\b\b\b\b\b\b\b\b\b\b\b\b\b\b\b\r16/16 [==============================] - 1s 66ms/step - loss: 1.2188 - val_loss: 1.5925\n",
            "Epoch 6/500\n",
            " 1/16 [>.............................] - ETA: 0s - loss: 0.9175"
          ]
        },
        {
          "output_type": "stream",
          "name": "stderr",
          "text": [
            "WARNING:absl:Found untraced functions such as _update_step_xla while saving (showing 1 of 1). These functions will not be directly callable after loading.\n",
            "\u001b[34m\u001b[1mwandb\u001b[0m: Adding directory to artifact (/content/wandb/run-20230518_033115-7bhkfcvw/files/model-best)... Done. 0.0s\n"
          ]
        },
        {
          "output_type": "stream",
          "name": "stdout",
          "text": [
            "\b\b\b\b\b\b\b\b\b\b\b\b\b\b\b\b\b\b\b\b\b\b\b\b\b\b\b\b\b\b\b\b\b\b\b\b\b\b\b\b\b\b\b\b\b\b\b\b\b\b\b\b\b\b\b\b\b\b\b\b\b\b\b\r16/16 [==============================] - 1s 62ms/step - loss: 0.7253 - val_loss: 1.1806\n",
            "Epoch 7/500\n",
            "13/16 [=======================>......] - ETA: 0s - loss: 0.6608"
          ]
        },
        {
          "output_type": "stream",
          "name": "stderr",
          "text": [
            "WARNING:absl:Found untraced functions such as _update_step_xla while saving (showing 1 of 1). These functions will not be directly callable after loading.\n",
            "\u001b[34m\u001b[1mwandb\u001b[0m: Adding directory to artifact (/content/wandb/run-20230518_033115-7bhkfcvw/files/model-best)... Done. 0.0s\n"
          ]
        },
        {
          "output_type": "stream",
          "name": "stdout",
          "text": [
            "\b\b\b\b\b\b\b\b\b\b\b\b\b\b\b\b\b\b\b\b\b\b\b\b\b\b\b\b\b\b\b\b\b\b\b\b\b\b\b\b\b\b\b\b\b\b\b\b\b\b\b\b\b\b\b\b\b\b\b\b\b\b\b\r16/16 [==============================] - 1s 93ms/step - loss: 0.6559 - val_loss: 1.1407\n",
            "Epoch 8/500\n",
            "13/16 [=======================>......] - ETA: 0s - loss: 0.6057"
          ]
        },
        {
          "output_type": "stream",
          "name": "stderr",
          "text": [
            "WARNING:absl:Found untraced functions such as _update_step_xla while saving (showing 1 of 1). These functions will not be directly callable after loading.\n",
            "\u001b[34m\u001b[1mwandb\u001b[0m: Adding directory to artifact (/content/wandb/run-20230518_033115-7bhkfcvw/files/model-best)... Done. 0.0s\n"
          ]
        },
        {
          "output_type": "stream",
          "name": "stdout",
          "text": [
            "\b\b\b\b\b\b\b\b\b\b\b\b\b\b\b\b\b\b\b\b\b\b\b\b\b\b\b\b\b\b\b\b\b\b\b\b\b\b\b\b\b\b\b\b\b\b\b\b\b\b\b\b\b\b\b\b\b\b\b\b\b\b\b\r16/16 [==============================] - 1s 97ms/step - loss: 0.6016 - val_loss: 1.0791\n",
            "Epoch 9/500\n",
            " 1/16 [>.............................] - ETA: 0s - loss: 0.4977"
          ]
        },
        {
          "output_type": "stream",
          "name": "stderr",
          "text": [
            "WARNING:absl:Found untraced functions such as _update_step_xla while saving (showing 1 of 1). These functions will not be directly callable after loading.\n",
            "\u001b[34m\u001b[1mwandb\u001b[0m: Adding directory to artifact (/content/wandb/run-20230518_033115-7bhkfcvw/files/model-best)... Done. 0.0s\n"
          ]
        },
        {
          "output_type": "stream",
          "name": "stdout",
          "text": [
            "\b\b\b\b\b\b\b\b\b\b\b\b\b\b\b\b\b\b\b\b\b\b\b\b\b\b\b\b\b\b\b\b\b\b\b\b\b\b\b\b\b\b\b\b\b\b\b\b\b\b\b\b\b\b\b\b\b\b\b\b\b\b\b\r16/16 [==============================] - 1s 61ms/step - loss: 0.5591 - val_loss: 1.0116\n",
            "Epoch 10/500\n",
            " 1/16 [>.............................] - ETA: 0s - loss: 0.4992"
          ]
        },
        {
          "output_type": "stream",
          "name": "stderr",
          "text": [
            "WARNING:absl:Found untraced functions such as _update_step_xla while saving (showing 1 of 1). These functions will not be directly callable after loading.\n",
            "\u001b[34m\u001b[1mwandb\u001b[0m: Adding directory to artifact (/content/wandb/run-20230518_033115-7bhkfcvw/files/model-best)... Done. 0.0s\n"
          ]
        },
        {
          "output_type": "stream",
          "name": "stdout",
          "text": [
            "\b\b\b\b\b\b\b\b\b\b\b\b\b\b\b\b\b\b\b\b\b\b\b\b\b\b\b\b\b\b\b\b\b\b\b\b\b\b\b\b\b\b\b\b\b\b\b\b\b\b\b\b\b\b\b\b\b\b\b\b\b\b\b\r16/16 [==============================] - 1s 66ms/step - loss: 0.5086 - val_loss: 0.9342\n",
            "Epoch 11/500\n",
            " 1/16 [>.............................] - ETA: 0s - loss: 0.4352"
          ]
        },
        {
          "output_type": "stream",
          "name": "stderr",
          "text": [
            "WARNING:absl:Found untraced functions such as _update_step_xla while saving (showing 1 of 1). These functions will not be directly callable after loading.\n",
            "\u001b[34m\u001b[1mwandb\u001b[0m: Adding directory to artifact (/content/wandb/run-20230518_033115-7bhkfcvw/files/model-best)... Done. 0.0s\n"
          ]
        },
        {
          "output_type": "stream",
          "name": "stdout",
          "text": [
            "\b\b\b\b\b\b\b\b\b\b\b\b\b\b\b\b\b\b\b\b\b\b\b\b\b\b\b\b\b\b\b\b\b\b\b\b\b\b\b\b\b\b\b\b\b\b\b\b\b\b\b\b\b\b\b\b\b\b\b\b\b\b\b\r16/16 [==============================] - 1s 62ms/step - loss: 0.4555 - val_loss: 0.8434\n",
            "Epoch 12/500\n",
            " 6/16 [==========>...................] - ETA: 0s - loss: 0.3729"
          ]
        },
        {
          "output_type": "stream",
          "name": "stderr",
          "text": [
            "WARNING:absl:Found untraced functions such as _update_step_xla while saving (showing 1 of 1). These functions will not be directly callable after loading.\n",
            "\u001b[34m\u001b[1mwandb\u001b[0m: Adding directory to artifact (/content/wandb/run-20230518_033115-7bhkfcvw/files/model-best)... Done. 0.0s\n"
          ]
        },
        {
          "output_type": "stream",
          "name": "stdout",
          "text": [
            "\b\b\b\b\b\b\b\b\b\b\b\b\b\b\b\b\b\b\b\b\b\b\b\b\b\b\b\b\b\b\b\b\b\b\b\b\b\b\b\b\b\b\b\b\b\b\b\b\b\b\b\b\b\b\b\b\b\b\b\b\b\b\b\r16/16 [==============================] - 1s 64ms/step - loss: 0.4038 - val_loss: 0.7638\n",
            "Epoch 13/500\n",
            " 1/16 [>.............................] - ETA: 0s - loss: 0.4210"
          ]
        },
        {
          "output_type": "stream",
          "name": "stderr",
          "text": [
            "WARNING:absl:Found untraced functions such as _update_step_xla while saving (showing 1 of 1). These functions will not be directly callable after loading.\n",
            "\u001b[34m\u001b[1mwandb\u001b[0m: Adding directory to artifact (/content/wandb/run-20230518_033115-7bhkfcvw/files/model-best)... Done. 0.0s\n"
          ]
        },
        {
          "output_type": "stream",
          "name": "stdout",
          "text": [
            "\b\b\b\b\b\b\b\b\b\b\b\b\b\b\b\b\b\b\b\b\b\b\b\b\b\b\b\b\b\b\b\b\b\b\b\b\b\b\b\b\b\b\b\b\b\b\b\b\b\b\b\b\b\b\b\b\b\b\b\b\b\b\b\r16/16 [==============================] - 2s 99ms/step - loss: 0.3532 - val_loss: 0.6794\n",
            "Epoch 14/500\n",
            " 1/16 [>.............................] - ETA: 0s - loss: 0.2137"
          ]
        },
        {
          "output_type": "stream",
          "name": "stderr",
          "text": [
            "WARNING:absl:Found untraced functions such as _update_step_xla while saving (showing 1 of 1). These functions will not be directly callable after loading.\n",
            "\u001b[34m\u001b[1mwandb\u001b[0m: Adding directory to artifact (/content/wandb/run-20230518_033115-7bhkfcvw/files/model-best)... Done. 0.0s\n"
          ]
        },
        {
          "output_type": "stream",
          "name": "stdout",
          "text": [
            "\b\b\b\b\b\b\b\b\b\b\b\b\b\b\b\b\b\b\b\b\b\b\b\b\b\b\b\b\b\b\b\b\b\b\b\b\b\b\b\b\b\b\b\b\b\b\b\b\b\b\b\b\b\b\b\b\b\b\b\b\b\b\b\r16/16 [==============================] - 1s 65ms/step - loss: 0.3100 - val_loss: 0.6057\n",
            "Epoch 15/500\n",
            " 1/16 [>.............................] - ETA: 0s - loss: 0.2382"
          ]
        },
        {
          "output_type": "stream",
          "name": "stderr",
          "text": [
            "WARNING:absl:Found untraced functions such as _update_step_xla while saving (showing 1 of 1). These functions will not be directly callable after loading.\n",
            "\u001b[34m\u001b[1mwandb\u001b[0m: Adding directory to artifact (/content/wandb/run-20230518_033115-7bhkfcvw/files/model-best)... Done. 0.0s\n"
          ]
        },
        {
          "output_type": "stream",
          "name": "stdout",
          "text": [
            "\b\b\b\b\b\b\b\b\b\b\b\b\b\b\b\b\b\b\b\b\b\b\b\b\b\b\b\b\b\b\b\b\b\b\b\b\b\b\b\b\b\b\b\b\b\b\b\b\b\b\b\b\b\b\b\b\b\b\b\b\b\b\b\r16/16 [==============================] - 1s 63ms/step - loss: 0.2663 - val_loss: 0.5364\n",
            "Epoch 16/500\n",
            " 1/16 [>.............................] - ETA: 0s - loss: 0.2197"
          ]
        },
        {
          "output_type": "stream",
          "name": "stderr",
          "text": [
            "WARNING:absl:Found untraced functions such as _update_step_xla while saving (showing 1 of 1). These functions will not be directly callable after loading.\n",
            "\u001b[34m\u001b[1mwandb\u001b[0m: Adding directory to artifact (/content/wandb/run-20230518_033115-7bhkfcvw/files/model-best)... Done. 0.0s\n"
          ]
        },
        {
          "output_type": "stream",
          "name": "stdout",
          "text": [
            "\b\b\b\b\b\b\b\b\b\b\b\b\b\b\b\b\b\b\b\b\b\b\b\b\b\b\b\b\b\b\b\b\b\b\b\b\b\b\b\b\b\b\b\b\b\b\b\b\b\b\b\b\b\b\b\b\b\b\b\b\b\b\b\r16/16 [==============================] - 1s 65ms/step - loss: 0.2294 - val_loss: 0.4688\n",
            "Epoch 17/500\n",
            " 1/16 [>.............................] - ETA: 0s - loss: 0.1940"
          ]
        },
        {
          "output_type": "stream",
          "name": "stderr",
          "text": [
            "WARNING:absl:Found untraced functions such as _update_step_xla while saving (showing 1 of 1). These functions will not be directly callable after loading.\n",
            "\u001b[34m\u001b[1mwandb\u001b[0m: Adding directory to artifact (/content/wandb/run-20230518_033115-7bhkfcvw/files/model-best)... Done. 0.0s\n"
          ]
        },
        {
          "output_type": "stream",
          "name": "stdout",
          "text": [
            "\b\b\b\b\b\b\b\b\b\b\b\b\b\b\b\b\b\b\b\b\b\b\b\b\b\b\b\b\b\b\b\b\b\b\b\b\b\b\b\b\b\b\b\b\b\b\b\b\b\b\b\b\b\b\b\b\b\b\b\b\b\b\b\r16/16 [==============================] - 1s 62ms/step - loss: 0.1936 - val_loss: 0.4208\n",
            "Epoch 18/500\n",
            " 1/16 [>.............................] - ETA: 0s - loss: 0.2398"
          ]
        },
        {
          "output_type": "stream",
          "name": "stderr",
          "text": [
            "WARNING:absl:Found untraced functions such as _update_step_xla while saving (showing 1 of 1). These functions will not be directly callable after loading.\n",
            "\u001b[34m\u001b[1mwandb\u001b[0m: Adding directory to artifact (/content/wandb/run-20230518_033115-7bhkfcvw/files/model-best)... Done. 0.0s\n"
          ]
        },
        {
          "output_type": "stream",
          "name": "stdout",
          "text": [
            "\b\b\b\b\b\b\b\b\b\b\b\b\b\b\b\b\b\b\b\b\b\b\b\b\b\b\b\b\b\b\b\b\b\b\b\b\b\b\b\b\b\b\b\b\b\b\b\b\b\b\b\b\b\b\b\b\b\b\b\b\b\b\b\r16/16 [==============================] - 1s 74ms/step - loss: 0.1675 - val_loss: 0.3605\n",
            "Epoch 19/500\n",
            "16/16 [==============================] - ETA: 0s - loss: 0.1445"
          ]
        },
        {
          "output_type": "stream",
          "name": "stderr",
          "text": [
            "WARNING:absl:Found untraced functions such as _update_step_xla while saving (showing 1 of 1). These functions will not be directly callable after loading.\n",
            "\u001b[34m\u001b[1mwandb\u001b[0m: Adding directory to artifact (/content/wandb/run-20230518_033115-7bhkfcvw/files/model-best)... Done. 0.0s\n"
          ]
        },
        {
          "output_type": "stream",
          "name": "stdout",
          "text": [
            "\b\b\b\b\b\b\b\b\b\b\b\b\b\b\b\b\b\b\b\b\b\b\b\b\b\b\b\b\b\b\b\b\b\b\b\b\b\b\b\b\b\b\b\b\b\b\b\b\b\b\b\b\b\b\b\b\b\b\b\b\b\b\b\r16/16 [==============================] - 1s 91ms/step - loss: 0.1445 - val_loss: 0.3168\n",
            "Epoch 20/500\n",
            "14/16 [=========================>....] - ETA: 0s - loss: 0.1275"
          ]
        },
        {
          "output_type": "stream",
          "name": "stderr",
          "text": [
            "WARNING:absl:Found untraced functions such as _update_step_xla while saving (showing 1 of 1). These functions will not be directly callable after loading.\n",
            "\u001b[34m\u001b[1mwandb\u001b[0m: Adding directory to artifact (/content/wandb/run-20230518_033115-7bhkfcvw/files/model-best)... Done. 0.0s\n"
          ]
        },
        {
          "output_type": "stream",
          "name": "stdout",
          "text": [
            "\b\b\b\b\b\b\b\b\b\b\b\b\b\b\b\b\b\b\b\b\b\b\b\b\b\b\b\b\b\b\b\b\b\b\b\b\b\b\b\b\b\b\b\b\b\b\b\b\b\b\b\b\b\b\b\b\b\b\b\b\b\b\b\r16/16 [==============================] - 1s 88ms/step - loss: 0.1254 - val_loss: 0.2798\n",
            "Epoch 21/500\n",
            " 1/16 [>.............................] - ETA: 0s - loss: 0.0982"
          ]
        },
        {
          "output_type": "stream",
          "name": "stderr",
          "text": [
            "WARNING:absl:Found untraced functions such as _update_step_xla while saving (showing 1 of 1). These functions will not be directly callable after loading.\n",
            "\u001b[34m\u001b[1mwandb\u001b[0m: Adding directory to artifact (/content/wandb/run-20230518_033115-7bhkfcvw/files/model-best)... Done. 0.0s\n"
          ]
        },
        {
          "output_type": "stream",
          "name": "stdout",
          "text": [
            "\b\b\b\b\b\b\b\b\b\b\b\b\b\b\b\b\b\b\b\b\b\b\b\b\b\b\b\b\b\b\b\b\b\b\b\b\b\b\b\b\b\b\b\b\b\b\b\b\b\b\b\b\b\b\b\b\b\b\b\b\b\b\b\r16/16 [==============================] - 1s 63ms/step - loss: 0.1096 - val_loss: 0.2501\n",
            "Epoch 22/500\n",
            " 1/16 [>.............................] - ETA: 0s - loss: 0.1183"
          ]
        },
        {
          "output_type": "stream",
          "name": "stderr",
          "text": [
            "WARNING:absl:Found untraced functions such as _update_step_xla while saving (showing 1 of 1). These functions will not be directly callable after loading.\n",
            "\u001b[34m\u001b[1mwandb\u001b[0m: Adding directory to artifact (/content/wandb/run-20230518_033115-7bhkfcvw/files/model-best)... Done. 0.0s\n"
          ]
        },
        {
          "output_type": "stream",
          "name": "stdout",
          "text": [
            "\b\b\b\b\b\b\b\b\b\b\b\b\b\b\b\b\b\b\b\b\b\b\b\b\b\b\b\b\b\b\b\b\b\b\b\b\b\b\b\b\b\b\b\b\b\b\b\b\b\b\b\b\b\b\b\b\b\b\b\b\b\b\b\r16/16 [==============================] - 1s 63ms/step - loss: 0.0969 - val_loss: 0.2225\n",
            "Epoch 23/500\n",
            " 1/16 [>.............................] - ETA: 0s - loss: 0.0597"
          ]
        },
        {
          "output_type": "stream",
          "name": "stderr",
          "text": [
            "WARNING:absl:Found untraced functions such as _update_step_xla while saving (showing 1 of 1). These functions will not be directly callable after loading.\n",
            "\u001b[34m\u001b[1mwandb\u001b[0m: Adding directory to artifact (/content/wandb/run-20230518_033115-7bhkfcvw/files/model-best)... Done. 0.0s\n"
          ]
        },
        {
          "output_type": "stream",
          "name": "stdout",
          "text": [
            "\b\b\b\b\b\b\b\b\b\b\b\b\b\b\b\b\b\b\b\b\b\b\b\b\b\b\b\b\b\b\b\b\b\b\b\b\b\b\b\b\b\b\b\b\b\b\b\b\b\b\b\b\b\b\b\b\b\b\b\b\b\b\b\r16/16 [==============================] - 1s 62ms/step - loss: 0.0854 - val_loss: 0.2008\n",
            "Epoch 24/500\n",
            " 1/16 [>.............................] - ETA: 0s - loss: 0.0686"
          ]
        },
        {
          "output_type": "stream",
          "name": "stderr",
          "text": [
            "WARNING:absl:Found untraced functions such as _update_step_xla while saving (showing 1 of 1). These functions will not be directly callable after loading.\n",
            "\u001b[34m\u001b[1mwandb\u001b[0m: Adding directory to artifact (/content/wandb/run-20230518_033115-7bhkfcvw/files/model-best)... Done. 0.0s\n"
          ]
        },
        {
          "output_type": "stream",
          "name": "stdout",
          "text": [
            "\b\b\b\b\b\b\b\b\b\b\b\b\b\b\b\b\b\b\b\b\b\b\b\b\b\b\b\b\b\b\b\b\b\b\b\b\b\b\b\b\b\b\b\b\b\b\b\b\b\b\b\b\b\b\b\b\b\b\b\b\b\b\b\r16/16 [==============================] - 1s 61ms/step - loss: 0.0759 - val_loss: 0.1841\n",
            "Epoch 25/500\n",
            " 1/16 [>.............................] - ETA: 0s - loss: 0.0539"
          ]
        },
        {
          "output_type": "stream",
          "name": "stderr",
          "text": [
            "WARNING:absl:Found untraced functions such as _update_step_xla while saving (showing 1 of 1). These functions will not be directly callable after loading.\n",
            "\u001b[34m\u001b[1mwandb\u001b[0m: Adding directory to artifact (/content/wandb/run-20230518_033115-7bhkfcvw/files/model-best)... Done. 0.0s\n"
          ]
        },
        {
          "output_type": "stream",
          "name": "stdout",
          "text": [
            "\b\b\b\b\b\b\b\b\b\b\b\b\b\b\b\b\b\b\b\b\b\b\b\b\b\b\b\b\b\b\b\b\b\b\b\b\b\b\b\b\b\b\b\b\b\b\b\b\b\b\b\b\b\b\b\b\b\b\b\b\b\b\b\r16/16 [==============================] - 1s 64ms/step - loss: 0.0661 - val_loss: 0.1671\n",
            "Epoch 26/500\n",
            " 1/16 [>.............................] - ETA: 0s - loss: 0.0619"
          ]
        },
        {
          "output_type": "stream",
          "name": "stderr",
          "text": [
            "WARNING:absl:Found untraced functions such as _update_step_xla while saving (showing 1 of 1). These functions will not be directly callable after loading.\n",
            "\u001b[34m\u001b[1mwandb\u001b[0m: Adding directory to artifact (/content/wandb/run-20230518_033115-7bhkfcvw/files/model-best)... Done. 0.0s\n"
          ]
        },
        {
          "output_type": "stream",
          "name": "stdout",
          "text": [
            "\b\b\b\b\b\b\b\b\b\b\b\b\b\b\b\b\b\b\b\b\b\b\b\b\b\b\b\b\b\b\b\b\b\b\b\b\b\b\b\b\b\b\b\b\b\b\b\b\b\b\b\b\b\b\b\b\b\b\b\b\b\b\b\r16/16 [==============================] - 2s 105ms/step - loss: 0.0584 - val_loss: 0.1545\n",
            "Epoch 27/500\n",
            " 1/16 [>.............................] - ETA: 0s - loss: 0.0413"
          ]
        },
        {
          "output_type": "stream",
          "name": "stderr",
          "text": [
            "WARNING:absl:Found untraced functions such as _update_step_xla while saving (showing 1 of 1). These functions will not be directly callable after loading.\n",
            "\u001b[34m\u001b[1mwandb\u001b[0m: Adding directory to artifact (/content/wandb/run-20230518_033115-7bhkfcvw/files/model-best)... Done. 0.0s\n"
          ]
        },
        {
          "output_type": "stream",
          "name": "stdout",
          "text": [
            "\b\b\b\b\b\b\b\b\b\b\b\b\b\b\b\b\b\b\b\b\b\b\b\b\b\b\b\b\b\b\b\b\b\b\b\b\b\b\b\b\b\b\b\b\b\b\b\b\b\b\b\b\b\b\b\b\b\b\b\b\b\b\b\r16/16 [==============================] - 1s 60ms/step - loss: 0.0507 - val_loss: 0.1385\n",
            "Epoch 28/500\n",
            " 1/16 [>.............................] - ETA: 0s - loss: 0.0546"
          ]
        },
        {
          "output_type": "stream",
          "name": "stderr",
          "text": [
            "WARNING:absl:Found untraced functions such as _update_step_xla while saving (showing 1 of 1). These functions will not be directly callable after loading.\n",
            "\u001b[34m\u001b[1mwandb\u001b[0m: Adding directory to artifact (/content/wandb/run-20230518_033115-7bhkfcvw/files/model-best)... Done. 0.0s\n"
          ]
        },
        {
          "output_type": "stream",
          "name": "stdout",
          "text": [
            "\b\b\b\b\b\b\b\b\b\b\b\b\b\b\b\b\b\b\b\b\b\b\b\b\b\b\b\b\b\b\b\b\b\b\b\b\b\b\b\b\b\b\b\b\b\b\b\b\b\b\b\b\b\b\b\b\b\b\b\b\b\b\b\r16/16 [==============================] - 1s 61ms/step - loss: 0.0447 - val_loss: 0.1249\n",
            "Epoch 29/500\n",
            " 1/16 [>.............................] - ETA: 0s - loss: 0.0316"
          ]
        },
        {
          "output_type": "stream",
          "name": "stderr",
          "text": [
            "WARNING:absl:Found untraced functions such as _update_step_xla while saving (showing 1 of 1). These functions will not be directly callable after loading.\n",
            "\u001b[34m\u001b[1mwandb\u001b[0m: Adding directory to artifact (/content/wandb/run-20230518_033115-7bhkfcvw/files/model-best)... Done. 0.0s\n"
          ]
        },
        {
          "output_type": "stream",
          "name": "stdout",
          "text": [
            "\b\b\b\b\b\b\b\b\b\b\b\b\b\b\b\b\b\b\b\b\b\b\b\b\b\b\b\b\b\b\b\b\b\b\b\b\b\b\b\b\b\b\b\b\b\b\b\b\b\b\b\b\b\b\b\b\b\b\b\b\b\b\b\r16/16 [==============================] - 1s 69ms/step - loss: 0.0389 - val_loss: 0.1108\n",
            "Epoch 30/500\n",
            " 1/16 [>.............................] - ETA: 0s - loss: 0.0401"
          ]
        },
        {
          "output_type": "stream",
          "name": "stderr",
          "text": [
            "WARNING:absl:Found untraced functions such as _update_step_xla while saving (showing 1 of 1). These functions will not be directly callable after loading.\n",
            "\u001b[34m\u001b[1mwandb\u001b[0m: Adding directory to artifact (/content/wandb/run-20230518_033115-7bhkfcvw/files/model-best)... Done. 0.0s\n"
          ]
        },
        {
          "output_type": "stream",
          "name": "stdout",
          "text": [
            "\b\b\b\b\b\b\b\b\b\b\b\b\b\b\b\b\b\b\b\b\b\b\b\b\b\b\b\b\b\b\b\b\b\b\b\b\b\b\b\b\b\b\b\b\b\b\b\b\b\b\b\b\b\b\b\b\b\b\b\b\b\b\b\r16/16 [==============================] - 1s 79ms/step - loss: 0.0338 - val_loss: 0.0977\n",
            "Epoch 31/500\n",
            " 1/16 [>.............................] - ETA: 0s - loss: 0.0251"
          ]
        },
        {
          "output_type": "stream",
          "name": "stderr",
          "text": [
            "WARNING:absl:Found untraced functions such as _update_step_xla while saving (showing 1 of 1). These functions will not be directly callable after loading.\n",
            "\u001b[34m\u001b[1mwandb\u001b[0m: Adding directory to artifact (/content/wandb/run-20230518_033115-7bhkfcvw/files/model-best)... Done. 0.0s\n"
          ]
        },
        {
          "output_type": "stream",
          "name": "stdout",
          "text": [
            "\b\b\b\b\b\b\b\b\b\b\b\b\b\b\b\b\b\b\b\b\b\b\b\b\b\b\b\b\b\b\b\b\b\b\b\b\b\b\b\b\b\b\b\b\b\b\b\b\b\b\b\b\b\b\b\b\b\b\b\b\b\b\b\r16/16 [==============================] - 1s 96ms/step - loss: 0.0298 - val_loss: 0.0934\n",
            "Epoch 32/500\n",
            "15/16 [===========================>..] - ETA: 0s - loss: 0.0269"
          ]
        },
        {
          "output_type": "stream",
          "name": "stderr",
          "text": [
            "WARNING:absl:Found untraced functions such as _update_step_xla while saving (showing 1 of 1). These functions will not be directly callable after loading.\n",
            "\u001b[34m\u001b[1mwandb\u001b[0m: Adding directory to artifact (/content/wandb/run-20230518_033115-7bhkfcvw/files/model-best)... Done. 0.0s\n"
          ]
        },
        {
          "output_type": "stream",
          "name": "stdout",
          "text": [
            "\b\b\b\b\b\b\b\b\b\b\b\b\b\b\b\b\b\b\b\b\b\b\b\b\b\b\b\b\b\b\b\b\b\b\b\b\b\b\b\b\b\b\b\b\b\b\b\b\b\b\b\b\b\b\b\b\b\b\b\b\b\b\b\r16/16 [==============================] - 1s 82ms/step - loss: 0.0264 - val_loss: 0.0802\n",
            "Epoch 33/500\n",
            " 1/16 [>.............................] - ETA: 0s - loss: 0.0245"
          ]
        },
        {
          "output_type": "stream",
          "name": "stderr",
          "text": [
            "WARNING:absl:Found untraced functions such as _update_step_xla while saving (showing 1 of 1). These functions will not be directly callable after loading.\n",
            "\u001b[34m\u001b[1mwandb\u001b[0m: Adding directory to artifact (/content/wandb/run-20230518_033115-7bhkfcvw/files/model-best)... Done. 0.0s\n"
          ]
        },
        {
          "output_type": "stream",
          "name": "stdout",
          "text": [
            "\b\b\b\b\b\b\b\b\b\b\b\b\b\b\b\b\b\b\b\b\b\b\b\b\b\b\b\b\b\b\b\b\b\b\b\b\b\b\b\b\b\b\b\b\b\b\b\b\b\b\b\b\b\b\b\b\b\b\b\b\b\b\b\r16/16 [==============================] - 1s 63ms/step - loss: 0.0243 - val_loss: 0.0747\n",
            "Epoch 34/500\n",
            "16/16 [==============================] - 0s 5ms/step - loss: 0.0220 - val_loss: 0.0759\n",
            "Epoch 35/500\n",
            " 1/16 [>.............................] - ETA: 0s - loss: 0.0193"
          ]
        },
        {
          "output_type": "stream",
          "name": "stderr",
          "text": [
            "WARNING:absl:Found untraced functions such as _update_step_xla while saving (showing 1 of 1). These functions will not be directly callable after loading.\n",
            "\u001b[34m\u001b[1mwandb\u001b[0m: Adding directory to artifact (/content/wandb/run-20230518_033115-7bhkfcvw/files/model-best)... Done. 0.0s\n"
          ]
        },
        {
          "output_type": "stream",
          "name": "stdout",
          "text": [
            "\b\b\b\b\b\b\b\b\b\b\b\b\b\b\b\b\b\b\b\b\b\b\b\b\b\b\b\b\b\b\b\b\b\b\b\b\b\b\b\b\b\b\b\b\b\b\b\b\b\b\b\b\b\b\b\b\b\b\b\b\b\b\b\r16/16 [==============================] - 1s 62ms/step - loss: 0.0189 - val_loss: 0.0594\n",
            "Epoch 36/500\n",
            " 1/16 [>.............................] - ETA: 0s - loss: 0.0229"
          ]
        },
        {
          "output_type": "stream",
          "name": "stderr",
          "text": [
            "WARNING:absl:Found untraced functions such as _update_step_xla while saving (showing 1 of 1). These functions will not be directly callable after loading.\n",
            "\u001b[34m\u001b[1mwandb\u001b[0m: Adding directory to artifact (/content/wandb/run-20230518_033115-7bhkfcvw/files/model-best)... Done. 0.0s\n"
          ]
        },
        {
          "output_type": "stream",
          "name": "stdout",
          "text": [
            "\b\b\b\b\b\b\b\b\b\b\b\b\b\b\b\b\b\b\b\b\b\b\b\b\b\b\b\b\b\b\b\b\b\b\b\b\b\b\b\b\b\b\b\b\b\b\b\b\b\b\b\b\b\b\b\b\b\b\b\b\b\b\b\r16/16 [==============================] - 1s 67ms/step - loss: 0.0169 - val_loss: 0.0559\n",
            "Epoch 37/500\n",
            " 1/16 [>.............................] - ETA: 0s - loss: 0.0180"
          ]
        },
        {
          "output_type": "stream",
          "name": "stderr",
          "text": [
            "WARNING:absl:Found untraced functions such as _update_step_xla while saving (showing 1 of 1). These functions will not be directly callable after loading.\n",
            "\u001b[34m\u001b[1mwandb\u001b[0m: Adding directory to artifact (/content/wandb/run-20230518_033115-7bhkfcvw/files/model-best)... Done. 0.0s\n"
          ]
        },
        {
          "output_type": "stream",
          "name": "stdout",
          "text": [
            "\b\b\b\b\b\b\b\b\b\b\b\b\b\b\b\b\b\b\b\b\b\b\b\b\b\b\b\b\b\b\b\b\b\b\b\b\b\b\b\b\b\b\b\b\b\b\b\b\b\b\b\b\b\b\b\b\b\b\b\b\b\b\b\r16/16 [==============================] - 1s 61ms/step - loss: 0.0153 - val_loss: 0.0550\n",
            "Epoch 38/500\n",
            " 1/16 [>.............................] - ETA: 0s - loss: 0.0223"
          ]
        },
        {
          "output_type": "stream",
          "name": "stderr",
          "text": [
            "WARNING:absl:Found untraced functions such as _update_step_xla while saving (showing 1 of 1). These functions will not be directly callable after loading.\n",
            "\u001b[34m\u001b[1mwandb\u001b[0m: Adding directory to artifact (/content/wandb/run-20230518_033115-7bhkfcvw/files/model-best)... Done. 0.0s\n"
          ]
        },
        {
          "output_type": "stream",
          "name": "stdout",
          "text": [
            "\b\b\b\b\b\b\b\b\b\b\b\b\b\b\b\b\b\b\b\b\b\b\b\b\b\b\b\b\b\b\b\b\b\b\b\b\b\b\b\b\b\b\b\b\b\b\b\b\b\b\b\b\b\b\b\b\b\b\b\b\b\b\b\r16/16 [==============================] - 1s 64ms/step - loss: 0.0139 - val_loss: 0.0545\n",
            "Epoch 39/500\n",
            " 1/16 [>.............................] - ETA: 0s - loss: 0.0110"
          ]
        },
        {
          "output_type": "stream",
          "name": "stderr",
          "text": [
            "WARNING:absl:Found untraced functions such as _update_step_xla while saving (showing 1 of 1). These functions will not be directly callable after loading.\n",
            "\u001b[34m\u001b[1mwandb\u001b[0m: Adding directory to artifact (/content/wandb/run-20230518_033115-7bhkfcvw/files/model-best)... Done. 0.0s\n"
          ]
        },
        {
          "output_type": "stream",
          "name": "stdout",
          "text": [
            "\b\b\b\b\b\b\b\b\b\b\b\b\b\b\b\b\b\b\b\b\b\b\b\b\b\b\b\b\b\b\b\b\b\b\b\b\b\b\b\b\b\b\b\b\b\b\b\b\b\b\b\b\b\b\b\b\b\b\b\b\b\b\b\r16/16 [==============================] - 1s 62ms/step - loss: 0.0125 - val_loss: 0.0444\n",
            "Epoch 40/500\n",
            " 1/16 [>.............................] - ETA: 0s - loss: 0.0050"
          ]
        },
        {
          "output_type": "stream",
          "name": "stderr",
          "text": [
            "WARNING:absl:Found untraced functions such as _update_step_xla while saving (showing 1 of 1). These functions will not be directly callable after loading.\n",
            "\u001b[34m\u001b[1mwandb\u001b[0m: Adding directory to artifact (/content/wandb/run-20230518_033115-7bhkfcvw/files/model-best)... Done. 0.0s\n"
          ]
        },
        {
          "output_type": "stream",
          "name": "stdout",
          "text": [
            "\b\b\b\b\b\b\b\b\b\b\b\b\b\b\b\b\b\b\b\b\b\b\b\b\b\b\b\b\b\b\b\b\b\b\b\b\b\b\b\b\b\b\b\b\b\b\b\b\b\b\b\b\b\b\b\b\b\b\b\b\b\b\b\r16/16 [==============================] - 1s 66ms/step - loss: 0.0111 - val_loss: 0.0401\n",
            "Epoch 41/500\n",
            " 1/16 [>.............................] - ETA: 0s - loss: 0.0065"
          ]
        },
        {
          "output_type": "stream",
          "name": "stderr",
          "text": [
            "WARNING:absl:Found untraced functions such as _update_step_xla while saving (showing 1 of 1). These functions will not be directly callable after loading.\n",
            "\u001b[34m\u001b[1mwandb\u001b[0m: Adding directory to artifact (/content/wandb/run-20230518_033115-7bhkfcvw/files/model-best)... Done. 0.0s\n"
          ]
        },
        {
          "output_type": "stream",
          "name": "stdout",
          "text": [
            "\b\b\b\b\b\b\b\b\b\b\b\b\b\b\b\b\b\b\b\b\b\b\b\b\b\b\b\b\b\b\b\b\b\b\b\b\b\b\b\b\b\b\b\b\b\b\b\b\b\b\b\b\b\b\b\b\b\b\b\b\b\b\b\r16/16 [==============================] - 2s 103ms/step - loss: 0.0101 - val_loss: 0.0398\n",
            "Epoch 42/500\n",
            " 1/16 [>.............................] - ETA: 0s - loss: 0.0117"
          ]
        },
        {
          "output_type": "stream",
          "name": "stderr",
          "text": [
            "WARNING:absl:Found untraced functions such as _update_step_xla while saving (showing 1 of 1). These functions will not be directly callable after loading.\n",
            "\u001b[34m\u001b[1mwandb\u001b[0m: Adding directory to artifact (/content/wandb/run-20230518_033115-7bhkfcvw/files/model-best)... Done. 0.0s\n"
          ]
        },
        {
          "output_type": "stream",
          "name": "stdout",
          "text": [
            "\b\b\b\b\b\b\b\b\b\b\b\b\b\b\b\b\b\b\b\b\b\b\b\b\b\b\b\b\b\b\b\b\b\b\b\b\b\b\b\b\b\b\b\b\b\b\b\b\b\b\b\b\b\b\b\b\b\b\b\b\b\b\b\r16/16 [==============================] - 1s 62ms/step - loss: 0.0092 - val_loss: 0.0374\n",
            "Epoch 43/500\n",
            " 1/16 [>.............................] - ETA: 0s - loss: 0.0078"
          ]
        },
        {
          "output_type": "stream",
          "name": "stderr",
          "text": [
            "WARNING:absl:Found untraced functions such as _update_step_xla while saving (showing 1 of 1). These functions will not be directly callable after loading.\n",
            "\u001b[34m\u001b[1mwandb\u001b[0m: Adding directory to artifact (/content/wandb/run-20230518_033115-7bhkfcvw/files/model-best)... Done. 0.0s\n"
          ]
        },
        {
          "output_type": "stream",
          "name": "stdout",
          "text": [
            "\b\b\b\b\b\b\b\b\b\b\b\b\b\b\b\b\b\b\b\b\b\b\b\b\b\b\b\b\b\b\b\b\b\b\b\b\b\b\b\b\b\b\b\b\b\b\b\b\b\b\b\b\b\b\b\b\b\b\b\b\b\b\b\r16/16 [==============================] - 1s 90ms/step - loss: 0.0085 - val_loss: 0.0343\n",
            "Epoch 44/500\n",
            "14/16 [=========================>....] - ETA: 0s - loss: 0.0080"
          ]
        },
        {
          "output_type": "stream",
          "name": "stderr",
          "text": [
            "WARNING:absl:Found untraced functions such as _update_step_xla while saving (showing 1 of 1). These functions will not be directly callable after loading.\n",
            "\u001b[34m\u001b[1mwandb\u001b[0m: Adding directory to artifact (/content/wandb/run-20230518_033115-7bhkfcvw/files/model-best)... Done. 0.0s\n"
          ]
        },
        {
          "output_type": "stream",
          "name": "stdout",
          "text": [
            "\b\b\b\b\b\b\b\b\b\b\b\b\b\b\b\b\b\b\b\b\b\b\b\b\b\b\b\b\b\b\b\b\b\b\b\b\b\b\b\b\b\b\b\b\b\b\b\b\b\b\b\b\b\b\b\b\b\b\b\b\b\b\b\r16/16 [==============================] - 1s 91ms/step - loss: 0.0077 - val_loss: 0.0312\n",
            "Epoch 45/500\n",
            "16/16 [==============================] - ETA: 0s - loss: 0.0071"
          ]
        },
        {
          "output_type": "stream",
          "name": "stderr",
          "text": [
            "WARNING:absl:Found untraced functions such as _update_step_xla while saving (showing 1 of 1). These functions will not be directly callable after loading.\n",
            "\u001b[34m\u001b[1mwandb\u001b[0m: Adding directory to artifact (/content/wandb/run-20230518_033115-7bhkfcvw/files/model-best)... Done. 0.0s\n"
          ]
        },
        {
          "output_type": "stream",
          "name": "stdout",
          "text": [
            "\b\b\b\b\b\b\b\b\b\b\b\b\b\b\b\b\b\b\b\b\b\b\b\b\b\b\b\b\b\b\b\b\b\b\b\b\b\b\b\b\b\b\b\b\b\b\b\b\b\b\b\b\b\b\b\b\b\b\b\b\b\b\b\r16/16 [==============================] - 1s 69ms/step - loss: 0.0071 - val_loss: 0.0290\n",
            "Epoch 46/500\n",
            " 1/16 [>.............................] - ETA: 0s - loss: 0.0051"
          ]
        },
        {
          "output_type": "stream",
          "name": "stderr",
          "text": [
            "WARNING:absl:Found untraced functions such as _update_step_xla while saving (showing 1 of 1). These functions will not be directly callable after loading.\n",
            "\u001b[34m\u001b[1mwandb\u001b[0m: Adding directory to artifact (/content/wandb/run-20230518_033115-7bhkfcvw/files/model-best)... Done. 0.0s\n"
          ]
        },
        {
          "output_type": "stream",
          "name": "stdout",
          "text": [
            "\b\b\b\b\b\b\b\b\b\b\b\b\b\b\b\b\b\b\b\b\b\b\b\b\b\b\b\b\b\b\b\b\b\b\b\b\b\b\b\b\b\b\b\b\b\b\b\b\b\b\b\b\b\b\b\b\b\b\b\b\b\b\b\r16/16 [==============================] - 1s 62ms/step - loss: 0.0068 - val_loss: 0.0274\n",
            "Epoch 47/500\n",
            " 1/16 [>.............................] - ETA: 0s - loss: 0.0059"
          ]
        },
        {
          "output_type": "stream",
          "name": "stderr",
          "text": [
            "WARNING:absl:Found untraced functions such as _update_step_xla while saving (showing 1 of 1). These functions will not be directly callable after loading.\n",
            "\u001b[34m\u001b[1mwandb\u001b[0m: Adding directory to artifact (/content/wandb/run-20230518_033115-7bhkfcvw/files/model-best)... Done. 0.0s\n"
          ]
        },
        {
          "output_type": "stream",
          "name": "stdout",
          "text": [
            "\b\b\b\b\b\b\b\b\b\b\b\b\b\b\b\b\b\b\b\b\b\b\b\b\b\b\b\b\b\b\b\b\b\b\b\b\b\b\b\b\b\b\b\b\b\b\b\b\b\b\b\b\b\b\b\b\b\b\b\b\b\b\b\r16/16 [==============================] - 1s 64ms/step - loss: 0.0060 - val_loss: 0.0271\n",
            "Epoch 48/500\n",
            " 1/16 [>.............................] - ETA: 0s - loss: 0.0039"
          ]
        },
        {
          "output_type": "stream",
          "name": "stderr",
          "text": [
            "WARNING:absl:Found untraced functions such as _update_step_xla while saving (showing 1 of 1). These functions will not be directly callable after loading.\n",
            "\u001b[34m\u001b[1mwandb\u001b[0m: Adding directory to artifact (/content/wandb/run-20230518_033115-7bhkfcvw/files/model-best)... Done. 0.0s\n"
          ]
        },
        {
          "output_type": "stream",
          "name": "stdout",
          "text": [
            "\b\b\b\b\b\b\b\b\b\b\b\b\b\b\b\b\b\b\b\b\b\b\b\b\b\b\b\b\b\b\b\b\b\b\b\b\b\b\b\b\b\b\b\b\b\b\b\b\b\b\b\b\b\b\b\b\b\b\b\b\b\b\b\r16/16 [==============================] - 1s 63ms/step - loss: 0.0057 - val_loss: 0.0252\n",
            "Epoch 49/500\n",
            " 1/16 [>.............................] - ETA: 0s - loss: 0.0054"
          ]
        },
        {
          "output_type": "stream",
          "name": "stderr",
          "text": [
            "WARNING:absl:Found untraced functions such as _update_step_xla while saving (showing 1 of 1). These functions will not be directly callable after loading.\n",
            "\u001b[34m\u001b[1mwandb\u001b[0m: Adding directory to artifact (/content/wandb/run-20230518_033115-7bhkfcvw/files/model-best)... Done. 0.0s\n"
          ]
        },
        {
          "output_type": "stream",
          "name": "stdout",
          "text": [
            "\b\b\b\b\b\b\b\b\b\b\b\b\b\b\b\b\b\b\b\b\b\b\b\b\b\b\b\b\b\b\b\b\b\b\b\b\b\b\b\b\b\b\b\b\b\b\b\b\b\b\b\b\b\b\b\b\b\b\b\b\b\b\b\r16/16 [==============================] - 1s 64ms/step - loss: 0.0052 - val_loss: 0.0234\n",
            "Epoch 50/500\n",
            " 1/16 [>.............................] - ETA: 0s - loss: 0.0075"
          ]
        },
        {
          "output_type": "stream",
          "name": "stderr",
          "text": [
            "WARNING:absl:Found untraced functions such as _update_step_xla while saving (showing 1 of 1). These functions will not be directly callable after loading.\n",
            "\u001b[34m\u001b[1mwandb\u001b[0m: Adding directory to artifact (/content/wandb/run-20230518_033115-7bhkfcvw/files/model-best)... Done. 0.0s\n"
          ]
        },
        {
          "output_type": "stream",
          "name": "stdout",
          "text": [
            "\b\b\b\b\b\b\b\b\b\b\b\b\b\b\b\b\b\b\b\b\b\b\b\b\b\b\b\b\b\b\b\b\b\b\b\b\b\b\b\b\b\b\b\b\b\b\b\b\b\b\b\b\b\b\b\b\b\b\b\b\b\b\b\r16/16 [==============================] - 1s 63ms/step - loss: 0.0049 - val_loss: 0.0213\n",
            "Epoch 51/500\n",
            " 9/16 [===============>..............] - ETA: 0s - loss: 0.0050"
          ]
        },
        {
          "output_type": "stream",
          "name": "stderr",
          "text": [
            "WARNING:absl:Found untraced functions such as _update_step_xla while saving (showing 1 of 1). These functions will not be directly callable after loading.\n",
            "\u001b[34m\u001b[1mwandb\u001b[0m: Adding directory to artifact (/content/wandb/run-20230518_033115-7bhkfcvw/files/model-best)... Done. 0.0s\n"
          ]
        },
        {
          "output_type": "stream",
          "name": "stdout",
          "text": [
            "\b\b\b\b\b\b\b\b\b\b\b\b\b\b\b\b\b\b\b\b\b\b\b\b\b\b\b\b\b\b\b\b\b\b\b\b\b\b\b\b\b\b\b\b\b\b\b\b\b\b\b\b\b\b\b\b\b\b\b\b\b\b\b\r16/16 [==============================] - 1s 66ms/step - loss: 0.0046 - val_loss: 0.0204\n",
            "Epoch 52/500\n",
            " 1/16 [>.............................] - ETA: 0s - loss: 0.0027"
          ]
        },
        {
          "output_type": "stream",
          "name": "stderr",
          "text": [
            "WARNING:absl:Found untraced functions such as _update_step_xla while saving (showing 1 of 1). These functions will not be directly callable after loading.\n",
            "\u001b[34m\u001b[1mwandb\u001b[0m: Adding directory to artifact (/content/wandb/run-20230518_033115-7bhkfcvw/files/model-best)... Done. 0.0s\n"
          ]
        },
        {
          "output_type": "stream",
          "name": "stdout",
          "text": [
            "\b\b\b\b\b\b\b\b\b\b\b\b\b\b\b\b\b\b\b\b\b\b\b\b\b\b\b\b\b\b\b\b\b\b\b\b\b\b\b\b\b\b\b\b\b\b\b\b\b\b\b\b\b\b\b\b\b\b\b\b\b\b\b\r16/16 [==============================] - 1s 67ms/step - loss: 0.0042 - val_loss: 0.0191\n",
            "Epoch 53/500\n",
            " 1/16 [>.............................] - ETA: 0s - loss: 0.0018"
          ]
        },
        {
          "output_type": "stream",
          "name": "stderr",
          "text": [
            "WARNING:absl:Found untraced functions such as _update_step_xla while saving (showing 1 of 1). These functions will not be directly callable after loading.\n",
            "\u001b[34m\u001b[1mwandb\u001b[0m: Adding directory to artifact (/content/wandb/run-20230518_033115-7bhkfcvw/files/model-best)... Done. 0.0s\n"
          ]
        },
        {
          "output_type": "stream",
          "name": "stdout",
          "text": [
            "\b\b\b\b\b\b\b\b\b\b\b\b\b\b\b\b\b\b\b\b\b\b\b\b\b\b\b\b\b\b\b\b\b\b\b\b\b\b\b\b\b\b\b\b\b\b\b\b\b\b\b\b\b\b\b\b\b\b\b\b\b\b\b\r16/16 [==============================] - 1s 62ms/step - loss: 0.0039 - val_loss: 0.0183\n",
            "Epoch 54/500\n",
            "16/16 [==============================] - 0s 5ms/step - loss: 0.0037 - val_loss: 0.0184\n",
            "Epoch 55/500\n",
            " 1/16 [>.............................] - ETA: 0s - loss: 0.0031"
          ]
        },
        {
          "output_type": "stream",
          "name": "stderr",
          "text": [
            "WARNING:absl:Found untraced functions such as _update_step_xla while saving (showing 1 of 1). These functions will not be directly callable after loading.\n",
            "\u001b[34m\u001b[1mwandb\u001b[0m: Adding directory to artifact (/content/wandb/run-20230518_033115-7bhkfcvw/files/model-best)... Done. 0.0s\n"
          ]
        },
        {
          "output_type": "stream",
          "name": "stdout",
          "text": [
            "\b\b\b\b\b\b\b\b\b\b\b\b\b\b\b\b\b\b\b\b\b\b\b\b\b\b\b\b\b\b\b\b\b\b\b\b\b\b\b\b\b\b\b\b\b\b\b\b\b\b\b\b\b\b\b\b\b\b\b\b\b\b\b\r16/16 [==============================] - 2s 107ms/step - loss: 0.0035 - val_loss: 0.0163\n",
            "Epoch 56/500\n",
            "12/16 [=====================>........] - ETA: 0s - loss: 0.0037"
          ]
        },
        {
          "output_type": "stream",
          "name": "stderr",
          "text": [
            "WARNING:absl:Found untraced functions such as _update_step_xla while saving (showing 1 of 1). These functions will not be directly callable after loading.\n",
            "\u001b[34m\u001b[1mwandb\u001b[0m: Adding directory to artifact (/content/wandb/run-20230518_033115-7bhkfcvw/files/model-best)... Done. 0.0s\n"
          ]
        },
        {
          "output_type": "stream",
          "name": "stdout",
          "text": [
            "\b\b\b\b\b\b\b\b\b\b\b\b\b\b\b\b\b\b\b\b\b\b\b\b\b\b\b\b\b\b\b\b\b\b\b\b\b\b\b\b\b\b\b\b\b\b\b\b\b\b\b\b\b\b\b\b\b\b\b\b\b\b\b\r16/16 [==============================] - 1s 96ms/step - loss: 0.0035 - val_loss: 0.0151\n",
            "Epoch 57/500\n",
            "16/16 [==============================] - 0s 9ms/step - loss: 0.0030 - val_loss: 0.0161\n",
            "Epoch 58/500\n",
            "12/16 [=====================>........] - ETA: 0s - loss: 0.0029"
          ]
        },
        {
          "output_type": "stream",
          "name": "stderr",
          "text": [
            "WARNING:absl:Found untraced functions such as _update_step_xla while saving (showing 1 of 1). These functions will not be directly callable after loading.\n",
            "\u001b[34m\u001b[1mwandb\u001b[0m: Adding directory to artifact (/content/wandb/run-20230518_033115-7bhkfcvw/files/model-best)... Done. 0.0s\n"
          ]
        },
        {
          "output_type": "stream",
          "name": "stdout",
          "text": [
            "\b\b\b\b\b\b\b\b\b\b\b\b\b\b\b\b\b\b\b\b\b\b\b\b\b\b\b\b\b\b\b\b\b\b\b\b\b\b\b\b\b\b\b\b\b\b\b\b\b\b\b\b\b\b\b\b\b\b\b\b\b\b\b\r16/16 [==============================] - 1s 90ms/step - loss: 0.0030 - val_loss: 0.0150\n",
            "Epoch 59/500\n",
            " 1/16 [>.............................] - ETA: 0s - loss: 0.0020"
          ]
        },
        {
          "output_type": "stream",
          "name": "stderr",
          "text": [
            "WARNING:absl:Found untraced functions such as _update_step_xla while saving (showing 1 of 1). These functions will not be directly callable after loading.\n",
            "\u001b[34m\u001b[1mwandb\u001b[0m: Adding directory to artifact (/content/wandb/run-20230518_033115-7bhkfcvw/files/model-best)... Done. 0.0s\n"
          ]
        },
        {
          "output_type": "stream",
          "name": "stdout",
          "text": [
            "\b\b\b\b\b\b\b\b\b\b\b\b\b\b\b\b\b\b\b\b\b\b\b\b\b\b\b\b\b\b\b\b\b\b\b\b\b\b\b\b\b\b\b\b\b\b\b\b\b\b\b\b\b\b\b\b\b\b\b\b\b\b\b\r16/16 [==============================] - 1s 64ms/step - loss: 0.0028 - val_loss: 0.0140\n",
            "Epoch 60/500\n",
            "13/16 [=======================>......] - ETA: 0s - loss: 0.0026"
          ]
        },
        {
          "output_type": "stream",
          "name": "stderr",
          "text": [
            "WARNING:absl:Found untraced functions such as _update_step_xla while saving (showing 1 of 1). These functions will not be directly callable after loading.\n",
            "\u001b[34m\u001b[1mwandb\u001b[0m: Adding directory to artifact (/content/wandb/run-20230518_033115-7bhkfcvw/files/model-best)... Done. 0.0s\n"
          ]
        },
        {
          "output_type": "stream",
          "name": "stdout",
          "text": [
            "\b\b\b\b\b\b\b\b\b\b\b\b\b\b\b\b\b\b\b\b\b\b\b\b\b\b\b\b\b\b\b\b\b\b\b\b\b\b\b\b\b\b\b\b\b\b\b\b\b\b\b\b\b\b\b\b\b\b\b\b\b\b\b\r16/16 [==============================] - 1s 67ms/step - loss: 0.0025 - val_loss: 0.0136\n",
            "Epoch 61/500\n",
            " 1/16 [>.............................] - ETA: 0s - loss: 0.0029"
          ]
        },
        {
          "output_type": "stream",
          "name": "stderr",
          "text": [
            "WARNING:absl:Found untraced functions such as _update_step_xla while saving (showing 1 of 1). These functions will not be directly callable after loading.\n",
            "\u001b[34m\u001b[1mwandb\u001b[0m: Adding directory to artifact (/content/wandb/run-20230518_033115-7bhkfcvw/files/model-best)... Done. 0.0s\n"
          ]
        },
        {
          "output_type": "stream",
          "name": "stdout",
          "text": [
            "\b\b\b\b\b\b\b\b\b\b\b\b\b\b\b\b\b\b\b\b\b\b\b\b\b\b\b\b\b\b\b\b\b\b\b\b\b\b\b\b\b\b\b\b\b\b\b\b\b\b\b\b\b\b\b\b\b\b\b\b\b\b\b\r16/16 [==============================] - 1s 65ms/step - loss: 0.0024 - val_loss: 0.0122\n",
            "Epoch 62/500\n",
            " 1/16 [>.............................] - ETA: 0s - loss: 0.0021"
          ]
        },
        {
          "output_type": "stream",
          "name": "stderr",
          "text": [
            "WARNING:absl:Found untraced functions such as _update_step_xla while saving (showing 1 of 1). These functions will not be directly callable after loading.\n",
            "\u001b[34m\u001b[1mwandb\u001b[0m: Adding directory to artifact (/content/wandb/run-20230518_033115-7bhkfcvw/files/model-best)... Done. 0.0s\n"
          ]
        },
        {
          "output_type": "stream",
          "name": "stdout",
          "text": [
            "\b\b\b\b\b\b\b\b\b\b\b\b\b\b\b\b\b\b\b\b\b\b\b\b\b\b\b\b\b\b\b\b\b\b\b\b\b\b\b\b\b\b\b\b\b\b\b\b\b\b\b\b\b\b\b\b\b\b\b\b\b\b\b\r16/16 [==============================] - 1s 63ms/step - loss: 0.0023 - val_loss: 0.0114\n",
            "Epoch 63/500\n",
            "16/16 [==============================] - 0s 5ms/step - loss: 0.0022 - val_loss: 0.0118\n",
            "Epoch 64/500\n",
            " 1/16 [>.............................] - ETA: 0s - loss: 0.0032"
          ]
        },
        {
          "output_type": "stream",
          "name": "stderr",
          "text": [
            "WARNING:absl:Found untraced functions such as _update_step_xla while saving (showing 1 of 1). These functions will not be directly callable after loading.\n",
            "\u001b[34m\u001b[1mwandb\u001b[0m: Adding directory to artifact (/content/wandb/run-20230518_033115-7bhkfcvw/files/model-best)... Done. 0.0s\n"
          ]
        },
        {
          "output_type": "stream",
          "name": "stdout",
          "text": [
            "\b\b\b\b\b\b\b\b\b\b\b\b\b\b\b\b\b\b\b\b\b\b\b\b\b\b\b\b\b\b\b\b\b\b\b\b\b\b\b\b\b\b\b\b\b\b\b\b\b\b\b\b\b\b\b\b\b\b\b\b\b\b\b\r16/16 [==============================] - 1s 64ms/step - loss: 0.0021 - val_loss: 0.0098\n",
            "Epoch 65/500\n",
            "16/16 [==============================] - 0s 5ms/step - loss: 0.0019 - val_loss: 0.0107\n",
            "Epoch 66/500\n",
            " 1/16 [>.............................] - ETA: 0s - loss: 0.0015"
          ]
        },
        {
          "output_type": "stream",
          "name": "stderr",
          "text": [
            "WARNING:absl:Found untraced functions such as _update_step_xla while saving (showing 1 of 1). These functions will not be directly callable after loading.\n",
            "\u001b[34m\u001b[1mwandb\u001b[0m: Adding directory to artifact (/content/wandb/run-20230518_033115-7bhkfcvw/files/model-best)... Done. 0.0s\n"
          ]
        },
        {
          "output_type": "stream",
          "name": "stdout",
          "text": [
            "\b\b\b\b\b\b\b\b\b\b\b\b\b\b\b\b\b\b\b\b\b\b\b\b\b\b\b\b\b\b\b\b\b\b\b\b\b\b\b\b\b\b\b\b\b\b\b\b\b\b\b\b\b\b\b\b\b\b\b\b\b\b\b\r16/16 [==============================] - 1s 64ms/step - loss: 0.0019 - val_loss: 0.0095\n",
            "Epoch 67/500\n",
            "16/16 [==============================] - 0s 5ms/step - loss: 0.0017 - val_loss: 0.0100\n",
            "Epoch 68/500\n",
            " 1/16 [>.............................] - ETA: 0s - loss: 0.0017"
          ]
        },
        {
          "output_type": "stream",
          "name": "stderr",
          "text": [
            "WARNING:absl:Found untraced functions such as _update_step_xla while saving (showing 1 of 1). These functions will not be directly callable after loading.\n",
            "\u001b[34m\u001b[1mwandb\u001b[0m: Adding directory to artifact (/content/wandb/run-20230518_033115-7bhkfcvw/files/model-best)... Done. 0.0s\n"
          ]
        },
        {
          "output_type": "stream",
          "name": "stdout",
          "text": [
            "\b\b\b\b\b\b\b\b\b\b\b\b\b\b\b\b\b\b\b\b\b\b\b\b\b\b\b\b\b\b\b\b\b\b\b\b\b\b\b\b\b\b\b\b\b\b\b\b\b\b\b\b\b\b\b\b\b\b\b\b\b\b\b\r16/16 [==============================] - 1s 61ms/step - loss: 0.0017 - val_loss: 0.0093\n",
            "Epoch 69/500\n",
            " 1/16 [>.............................] - ETA: 0s - loss: 8.1276e-04"
          ]
        },
        {
          "output_type": "stream",
          "name": "stderr",
          "text": [
            "WARNING:absl:Found untraced functions such as _update_step_xla while saving (showing 1 of 1). These functions will not be directly callable after loading.\n",
            "\u001b[34m\u001b[1mwandb\u001b[0m: Adding directory to artifact (/content/wandb/run-20230518_033115-7bhkfcvw/files/model-best)... Done. 0.0s\n"
          ]
        },
        {
          "output_type": "stream",
          "name": "stdout",
          "text": [
            "\b\b\b\b\b\b\b\b\b\b\b\b\b\b\b\b\b\b\b\b\b\b\b\b\b\b\b\b\b\b\b\b\b\b\b\b\b\b\b\b\b\b\b\b\b\b\b\b\b\b\b\b\b\b\b\b\b\b\b\b\b\b\b\b\b\b\b\r16/16 [==============================] - 1s 63ms/step - loss: 0.0015 - val_loss: 0.0085\n",
            "Epoch 70/500\n",
            " 1/16 [>.............................] - ETA: 0s - loss: 0.0020"
          ]
        },
        {
          "output_type": "stream",
          "name": "stderr",
          "text": [
            "WARNING:absl:Found untraced functions such as _update_step_xla while saving (showing 1 of 1). These functions will not be directly callable after loading.\n",
            "\u001b[34m\u001b[1mwandb\u001b[0m: Adding directory to artifact (/content/wandb/run-20230518_033115-7bhkfcvw/files/model-best)... Done. 0.0s\n"
          ]
        },
        {
          "output_type": "stream",
          "name": "stdout",
          "text": [
            "\b\b\b\b\b\b\b\b\b\b\b\b\b\b\b\b\b\b\b\b\b\b\b\b\b\b\b\b\b\b\b\b\b\b\b\b\b\b\b\b\b\b\b\b\b\b\b\b\b\b\b\b\b\b\b\b\b\b\b\b\b\b\b\r16/16 [==============================] - 1s 60ms/step - loss: 0.0015 - val_loss: 0.0080\n",
            "Epoch 71/500\n",
            " 1/16 [>.............................] - ETA: 0s - loss: 0.0025"
          ]
        },
        {
          "output_type": "stream",
          "name": "stderr",
          "text": [
            "WARNING:absl:Found untraced functions such as _update_step_xla while saving (showing 1 of 1). These functions will not be directly callable after loading.\n",
            "\u001b[34m\u001b[1mwandb\u001b[0m: Adding directory to artifact (/content/wandb/run-20230518_033115-7bhkfcvw/files/model-best)... Done. 0.0s\n"
          ]
        },
        {
          "output_type": "stream",
          "name": "stdout",
          "text": [
            "\b\b\b\b\b\b\b\b\b\b\b\b\b\b\b\b\b\b\b\b\b\b\b\b\b\b\b\b\b\b\b\b\b\b\b\b\b\b\b\b\b\b\b\b\b\b\b\b\b\b\b\b\b\b\b\b\b\b\b\b\b\b\b\r16/16 [==============================] - 1s 65ms/step - loss: 0.0014 - val_loss: 0.0080\n",
            "Epoch 72/500\n",
            "15/16 [===========================>..] - ETA: 0s - loss: 0.0013"
          ]
        },
        {
          "output_type": "stream",
          "name": "stderr",
          "text": [
            "WARNING:absl:Found untraced functions such as _update_step_xla while saving (showing 1 of 1). These functions will not be directly callable after loading.\n",
            "\u001b[34m\u001b[1mwandb\u001b[0m: Adding directory to artifact (/content/wandb/run-20230518_033115-7bhkfcvw/files/model-best)... Done. 0.0s\n"
          ]
        },
        {
          "output_type": "stream",
          "name": "stdout",
          "text": [
            "\b\b\b\b\b\b\b\b\b\b\b\b\b\b\b\b\b\b\b\b\b\b\b\b\b\b\b\b\b\b\b\b\b\b\b\b\b\b\b\b\b\b\b\b\b\b\b\b\b\b\b\b\b\b\b\b\b\b\b\b\b\b\b\r16/16 [==============================] - 1s 85ms/step - loss: 0.0013 - val_loss: 0.0074\n",
            "Epoch 73/500\n",
            "16/16 [==============================] - 0s 6ms/step - loss: 0.0013 - val_loss: 0.0077\n",
            "Epoch 74/500\n",
            " 9/16 [===============>..............] - ETA: 0s - loss: 0.0013"
          ]
        },
        {
          "output_type": "stream",
          "name": "stderr",
          "text": [
            "WARNING:absl:Found untraced functions such as _update_step_xla while saving (showing 1 of 1). These functions will not be directly callable after loading.\n",
            "\u001b[34m\u001b[1mwandb\u001b[0m: Adding directory to artifact (/content/wandb/run-20230518_033115-7bhkfcvw/files/model-best)... Done. 0.0s\n"
          ]
        },
        {
          "output_type": "stream",
          "name": "stdout",
          "text": [
            "\b\b\b\b\b\b\b\b\b\b\b\b\b\b\b\b\b\b\b\b\b\b\b\b\b\b\b\b\b\b\b\b\b\b\b\b\b\b\b\b\b\b\b\b\b\b\b\b\b\b\b\b\b\b\b\b\b\b\b\b\b\b\b\r16/16 [==============================] - 2s 138ms/step - loss: 0.0012 - val_loss: 0.0073\n",
            "Epoch 75/500\n",
            " 1/16 [>.............................] - ETA: 0s - loss: 0.0011"
          ]
        },
        {
          "output_type": "stream",
          "name": "stderr",
          "text": [
            "WARNING:absl:Found untraced functions such as _update_step_xla while saving (showing 1 of 1). These functions will not be directly callable after loading.\n",
            "\u001b[34m\u001b[1mwandb\u001b[0m: Adding directory to artifact (/content/wandb/run-20230518_033115-7bhkfcvw/files/model-best)... Done. 0.0s\n"
          ]
        },
        {
          "output_type": "stream",
          "name": "stdout",
          "text": [
            "\b\b\b\b\b\b\b\b\b\b\b\b\b\b\b\b\b\b\b\b\b\b\b\b\b\b\b\b\b\b\b\b\b\b\b\b\b\b\b\b\b\b\b\b\b\b\b\b\b\b\b\b\b\b\b\b\b\b\b\b\b\b\b\r16/16 [==============================] - 1s 64ms/step - loss: 0.0012 - val_loss: 0.0067\n",
            "Epoch 76/500\n",
            " 1/16 [>.............................] - ETA: 0s - loss: 3.2989e-04"
          ]
        },
        {
          "output_type": "stream",
          "name": "stderr",
          "text": [
            "WARNING:absl:Found untraced functions such as _update_step_xla while saving (showing 1 of 1). These functions will not be directly callable after loading.\n",
            "\u001b[34m\u001b[1mwandb\u001b[0m: Adding directory to artifact (/content/wandb/run-20230518_033115-7bhkfcvw/files/model-best)... Done. 0.0s\n"
          ]
        },
        {
          "output_type": "stream",
          "name": "stdout",
          "text": [
            "\b\b\b\b\b\b\b\b\b\b\b\b\b\b\b\b\b\b\b\b\b\b\b\b\b\b\b\b\b\b\b\b\b\b\b\b\b\b\b\b\b\b\b\b\b\b\b\b\b\b\b\b\b\b\b\b\b\b\b\b\b\b\b\b\b\b\b\r16/16 [==============================] - 1s 67ms/step - loss: 0.0011 - val_loss: 0.0063\n",
            "Epoch 77/500\n",
            " 1/16 [>.............................] - ETA: 0s - loss: 7.3453e-04"
          ]
        },
        {
          "output_type": "stream",
          "name": "stderr",
          "text": [
            "WARNING:absl:Found untraced functions such as _update_step_xla while saving (showing 1 of 1). These functions will not be directly callable after loading.\n",
            "\u001b[34m\u001b[1mwandb\u001b[0m: Adding directory to artifact (/content/wandb/run-20230518_033115-7bhkfcvw/files/model-best)... Done. 0.0s\n"
          ]
        },
        {
          "output_type": "stream",
          "name": "stdout",
          "text": [
            "\b\b\b\b\b\b\b\b\b\b\b\b\b\b\b\b\b\b\b\b\b\b\b\b\b\b\b\b\b\b\b\b\b\b\b\b\b\b\b\b\b\b\b\b\b\b\b\b\b\b\b\b\b\b\b\b\b\b\b\b\b\b\b\b\b\b\b\r16/16 [==============================] - 1s 61ms/step - loss: 0.0011 - val_loss: 0.0056\n",
            "Epoch 78/500\n",
            "16/16 [==============================] - 0s 5ms/step - loss: 0.0010 - val_loss: 0.0057\n",
            "Epoch 79/500\n",
            "16/16 [==============================] - 0s 6ms/step - loss: 0.0010 - val_loss: 0.0057\n",
            "Epoch 80/500\n",
            " 1/16 [>.............................] - ETA: 0s - loss: 7.7023e-04"
          ]
        },
        {
          "output_type": "stream",
          "name": "stderr",
          "text": [
            "WARNING:absl:Found untraced functions such as _update_step_xla while saving (showing 1 of 1). These functions will not be directly callable after loading.\n",
            "\u001b[34m\u001b[1mwandb\u001b[0m: Adding directory to artifact (/content/wandb/run-20230518_033115-7bhkfcvw/files/model-best)... Done. 0.0s\n"
          ]
        },
        {
          "output_type": "stream",
          "name": "stdout",
          "text": [
            "\b\b\b\b\b\b\b\b\b\b\b\b\b\b\b\b\b\b\b\b\b\b\b\b\b\b\b\b\b\b\b\b\b\b\b\b\b\b\b\b\b\b\b\b\b\b\b\b\b\b\b\b\b\b\b\b\b\b\b\b\b\b\b\b\b\b\b\r16/16 [==============================] - 1s 63ms/step - loss: 9.4976e-04 - val_loss: 0.0053\n",
            "Epoch 81/500\n",
            "16/16 [==============================] - 0s 5ms/step - loss: 9.4573e-04 - val_loss: 0.0055\n",
            "Epoch 82/500\n",
            "16/16 [==============================] - 0s 4ms/step - loss: 9.4417e-04 - val_loss: 0.0059\n",
            "Epoch 83/500\n",
            " 1/16 [>.............................] - ETA: 0s - loss: 0.0012"
          ]
        },
        {
          "output_type": "stream",
          "name": "stderr",
          "text": [
            "WARNING:absl:Found untraced functions such as _update_step_xla while saving (showing 1 of 1). These functions will not be directly callable after loading.\n",
            "\u001b[34m\u001b[1mwandb\u001b[0m: Adding directory to artifact (/content/wandb/run-20230518_033115-7bhkfcvw/files/model-best)... Done. 0.0s\n"
          ]
        },
        {
          "output_type": "stream",
          "name": "stdout",
          "text": [
            "\b\b\b\b\b\b\b\b\b\b\b\b\b\b\b\b\b\b\b\b\b\b\b\b\b\b\b\b\b\b\b\b\b\b\b\b\b\b\b\b\b\b\b\b\b\b\b\b\b\b\b\b\b\b\b\b\b\b\b\b\b\b\b\r16/16 [==============================] - 1s 59ms/step - loss: 8.5221e-04 - val_loss: 0.0046\n",
            "Epoch 84/500\n",
            "16/16 [==============================] - 0s 4ms/step - loss: 8.4929e-04 - val_loss: 0.0051\n",
            "Epoch 85/500\n",
            " 1/16 [>.............................] - ETA: 0s - loss: 7.0242e-04"
          ]
        },
        {
          "output_type": "stream",
          "name": "stderr",
          "text": [
            "WARNING:absl:Found untraced functions such as _update_step_xla while saving (showing 1 of 1). These functions will not be directly callable after loading.\n",
            "\u001b[34m\u001b[1mwandb\u001b[0m: Adding directory to artifact (/content/wandb/run-20230518_033115-7bhkfcvw/files/model-best)... Done. 0.0s\n"
          ]
        },
        {
          "output_type": "stream",
          "name": "stdout",
          "text": [
            "\b\b\b\b\b\b\b\b\b\b\b\b\b\b\b\b\b\b\b\b\b\b\b\b\b\b\b\b\b\b\b\b\b\b\b\b\b\b\b\b\b\b\b\b\b\b\b\b\b\b\b\b\b\b\b\b\b\b\b\b\b\b\b\b\b\b\b\r16/16 [==============================] - 1s 60ms/step - loss: 7.6826e-04 - val_loss: 0.0042\n",
            "Epoch 86/500\n",
            "16/16 [==============================] - 0s 4ms/step - loss: 7.6002e-04 - val_loss: 0.0044\n",
            "Epoch 87/500\n",
            "16/16 [==============================] - 0s 4ms/step - loss: 7.3261e-04 - val_loss: 0.0046\n",
            "Epoch 88/500\n",
            " 1/16 [>.............................] - ETA: 0s - loss: 1.5645e-04"
          ]
        },
        {
          "output_type": "stream",
          "name": "stderr",
          "text": [
            "WARNING:absl:Found untraced functions such as _update_step_xla while saving (showing 1 of 1). These functions will not be directly callable after loading.\n",
            "\u001b[34m\u001b[1mwandb\u001b[0m: Adding directory to artifact (/content/wandb/run-20230518_033115-7bhkfcvw/files/model-best)... Done. 0.0s\n"
          ]
        },
        {
          "output_type": "stream",
          "name": "stdout",
          "text": [
            "\b\b\b\b\b\b\b\b\b\b\b\b\b\b\b\b\b\b\b\b\b\b\b\b\b\b\b\b\b\b\b\b\b\b\b\b\b\b\b\b\b\b\b\b\b\b\b\b\b\b\b\b\b\b\b\b\b\b\b\b\b\b\b\b\b\b\b\r16/16 [==============================] - 1s 58ms/step - loss: 6.7318e-04 - val_loss: 0.0040\n",
            "Epoch 89/500\n",
            " 1/16 [>.............................] - ETA: 0s - loss: 2.4953e-04"
          ]
        },
        {
          "output_type": "stream",
          "name": "stderr",
          "text": [
            "WARNING:absl:Found untraced functions such as _update_step_xla while saving (showing 1 of 1). These functions will not be directly callable after loading.\n",
            "\u001b[34m\u001b[1mwandb\u001b[0m: Adding directory to artifact (/content/wandb/run-20230518_033115-7bhkfcvw/files/model-best)... Done. 0.0s\n"
          ]
        },
        {
          "output_type": "stream",
          "name": "stdout",
          "text": [
            "\b\b\b\b\b\b\b\b\b\b\b\b\b\b\b\b\b\b\b\b\b\b\b\b\b\b\b\b\b\b\b\b\b\b\b\b\b\b\b\b\b\b\b\b\b\b\b\b\b\b\b\b\b\b\b\b\b\b\b\b\b\b\b\b\b\b\b\r16/16 [==============================] - 1s 64ms/step - loss: 6.5703e-04 - val_loss: 0.0039\n",
            "Epoch 90/500\n",
            " 1/16 [>.............................] - ETA: 0s - loss: 7.1976e-04"
          ]
        },
        {
          "output_type": "stream",
          "name": "stderr",
          "text": [
            "WARNING:absl:Found untraced functions such as _update_step_xla while saving (showing 1 of 1). These functions will not be directly callable after loading.\n",
            "\u001b[34m\u001b[1mwandb\u001b[0m: Adding directory to artifact (/content/wandb/run-20230518_033115-7bhkfcvw/files/model-best)... Done. 0.0s\n"
          ]
        },
        {
          "output_type": "stream",
          "name": "stdout",
          "text": [
            "\b\b\b\b\b\b\b\b\b\b\b\b\b\b\b\b\b\b\b\b\b\b\b\b\b\b\b\b\b\b\b\b\b\b\b\b\b\b\b\b\b\b\b\b\b\b\b\b\b\b\b\b\b\b\b\b\b\b\b\b\b\b\b\b\b\b\b\r16/16 [==============================] - 1s 61ms/step - loss: 6.4653e-04 - val_loss: 0.0037\n",
            "Epoch 91/500\n",
            "16/16 [==============================] - 0s 5ms/step - loss: 6.1661e-04 - val_loss: 0.0041\n",
            "Epoch 92/500\n",
            " 1/16 [>.............................] - ETA: 0s - loss: 0.0014"
          ]
        },
        {
          "output_type": "stream",
          "name": "stderr",
          "text": [
            "WARNING:absl:Found untraced functions such as _update_step_xla while saving (showing 1 of 1). These functions will not be directly callable after loading.\n",
            "\u001b[34m\u001b[1mwandb\u001b[0m: Adding directory to artifact (/content/wandb/run-20230518_033115-7bhkfcvw/files/model-best)... Done. 0.0s\n"
          ]
        },
        {
          "output_type": "stream",
          "name": "stdout",
          "text": [
            "\b\b\b\b\b\b\b\b\b\b\b\b\b\b\b\b\b\b\b\b\b\b\b\b\b\b\b\b\b\b\b\b\b\b\b\b\b\b\b\b\b\b\b\b\b\b\b\b\b\b\b\b\b\b\b\b\b\b\b\b\b\b\b\r16/16 [==============================] - 1s 89ms/step - loss: 5.8760e-04 - val_loss: 0.0037\n",
            "Epoch 93/500\n",
            " 1/16 [>.............................] - ETA: 0s - loss: 1.7146e-04"
          ]
        },
        {
          "output_type": "stream",
          "name": "stderr",
          "text": [
            "WARNING:absl:Found untraced functions such as _update_step_xla while saving (showing 1 of 1). These functions will not be directly callable after loading.\n",
            "\u001b[34m\u001b[1mwandb\u001b[0m: Adding directory to artifact (/content/wandb/run-20230518_033115-7bhkfcvw/files/model-best)... Done. 0.0s\n"
          ]
        },
        {
          "output_type": "stream",
          "name": "stdout",
          "text": [
            "\b\b\b\b\b\b\b\b\b\b\b\b\b\b\b\b\b\b\b\b\b\b\b\b\b\b\b\b\b\b\b\b\b\b\b\b\b\b\b\b\b\b\b\b\b\b\b\b\b\b\b\b\b\b\b\b\b\b\b\b\b\b\b\b\b\b\b\r16/16 [==============================] - 1s 95ms/step - loss: 5.8146e-04 - val_loss: 0.0031\n",
            "Epoch 94/500\n",
            "16/16 [==============================] - 0s 7ms/step - loss: 5.7127e-04 - val_loss: 0.0036\n",
            "Epoch 95/500\n",
            "16/16 [==============================] - 0s 6ms/step - loss: 5.3907e-04 - val_loss: 0.0041\n",
            "Epoch 96/500\n",
            "16/16 [==============================] - 0s 4ms/step - loss: 5.3366e-04 - val_loss: 0.0034\n",
            "Epoch 97/500\n",
            " 1/16 [>.............................] - ETA: 0s - loss: 3.6257e-04"
          ]
        },
        {
          "output_type": "stream",
          "name": "stderr",
          "text": [
            "WARNING:absl:Found untraced functions such as _update_step_xla while saving (showing 1 of 1). These functions will not be directly callable after loading.\n",
            "\u001b[34m\u001b[1mwandb\u001b[0m: Adding directory to artifact (/content/wandb/run-20230518_033115-7bhkfcvw/files/model-best)... Done. 0.0s\n"
          ]
        },
        {
          "output_type": "stream",
          "name": "stdout",
          "text": [
            "\b\b\b\b\b\b\b\b\b\b\b\b\b\b\b\b\b\b\b\b\b\b\b\b\b\b\b\b\b\b\b\b\b\b\b\b\b\b\b\b\b\b\b\b\b\b\b\b\b\b\b\b\b\b\b\b\b\b\b\b\b\b\b\b\b\b\b\r16/16 [==============================] - 1s 60ms/step - loss: 5.0840e-04 - val_loss: 0.0028\n",
            "Epoch 98/500\n",
            "16/16 [==============================] - 0s 5ms/step - loss: 4.9926e-04 - val_loss: 0.0033\n",
            "Epoch 99/500\n",
            "16/16 [==============================] - 0s 6ms/step - loss: 4.9218e-04 - val_loss: 0.0031\n",
            "Epoch 100/500\n",
            "16/16 [==============================] - 0s 5ms/step - loss: 5.3151e-04 - val_loss: 0.0032\n",
            "Epoch 101/500\n",
            "16/16 [==============================] - 0s 5ms/step - loss: 4.6645e-04 - val_loss: 0.0029\n",
            "Epoch 102/500\n",
            "16/16 [==============================] - 0s 5ms/step - loss: 4.5330e-04 - val_loss: 0.0031\n",
            "Epoch 103/500\n",
            " 1/16 [>.............................] - ETA: 0s - loss: 3.5406e-04"
          ]
        },
        {
          "output_type": "stream",
          "name": "stderr",
          "text": [
            "WARNING:absl:Found untraced functions such as _update_step_xla while saving (showing 1 of 1). These functions will not be directly callable after loading.\n",
            "\u001b[34m\u001b[1mwandb\u001b[0m: Adding directory to artifact (/content/wandb/run-20230518_033115-7bhkfcvw/files/model-best)... Done. 0.0s\n"
          ]
        },
        {
          "output_type": "stream",
          "name": "stdout",
          "text": [
            "\b\b\b\b\b\b\b\b\b\b\b\b\b\b\b\b\b\b\b\b\b\b\b\b\b\b\b\b\b\b\b\b\b\b\b\b\b\b\b\b\b\b\b\b\b\b\b\b\b\b\b\b\b\b\b\b\b\b\b\b\b\b\b\b\b\b\b\r16/16 [==============================] - 1s 62ms/step - loss: 4.3729e-04 - val_loss: 0.0025\n",
            "Epoch 104/500\n",
            " 1/16 [>.............................] - ETA: 0s - loss: 2.8412e-04"
          ]
        },
        {
          "output_type": "stream",
          "name": "stderr",
          "text": [
            "WARNING:absl:Found untraced functions such as _update_step_xla while saving (showing 1 of 1). These functions will not be directly callable after loading.\n",
            "\u001b[34m\u001b[1mwandb\u001b[0m: Adding directory to artifact (/content/wandb/run-20230518_033115-7bhkfcvw/files/model-best)... Done. 0.0s\n"
          ]
        },
        {
          "output_type": "stream",
          "name": "stdout",
          "text": [
            "\b\b\b\b\b\b\b\b\b\b\b\b\b\b\b\b\b\b\b\b\b\b\b\b\b\b\b\b\b\b\b\b\b\b\b\b\b\b\b\b\b\b\b\b\b\b\b\b\b\b\b\b\b\b\b\b\b\b\b\b\b\b\b\b\b\b\b\r16/16 [==============================] - 2s 113ms/step - loss: 3.9376e-04 - val_loss: 0.0023\n",
            "Epoch 105/500\n",
            "16/16 [==============================] - 0s 5ms/step - loss: 4.0582e-04 - val_loss: 0.0029\n",
            "Epoch 106/500\n",
            " 1/16 [>.............................] - ETA: 0s - loss: 1.3611e-04"
          ]
        },
        {
          "output_type": "stream",
          "name": "stderr",
          "text": [
            "WARNING:absl:Found untraced functions such as _update_step_xla while saving (showing 1 of 1). These functions will not be directly callable after loading.\n",
            "\u001b[34m\u001b[1mwandb\u001b[0m: Adding directory to artifact (/content/wandb/run-20230518_033115-7bhkfcvw/files/model-best)... Done. 0.0s\n"
          ]
        },
        {
          "output_type": "stream",
          "name": "stdout",
          "text": [
            "\b\b\b\b\b\b\b\b\b\b\b\b\b\b\b\b\b\b\b\b\b\b\b\b\b\b\b\b\b\b\b\b\b\b\b\b\b\b\b\b\b\b\b\b\b\b\b\b\b\b\b\b\b\b\b\b\b\b\b\b\b\b\b\b\b\b\b\r16/16 [==============================] - 1s 63ms/step - loss: 3.6763e-04 - val_loss: 0.0023\n",
            "Epoch 107/500\n",
            " 1/16 [>.............................] - ETA: 0s - loss: 2.9639e-04"
          ]
        },
        {
          "output_type": "stream",
          "name": "stderr",
          "text": [
            "WARNING:absl:Found untraced functions such as _update_step_xla while saving (showing 1 of 1). These functions will not be directly callable after loading.\n",
            "\u001b[34m\u001b[1mwandb\u001b[0m: Adding directory to artifact (/content/wandb/run-20230518_033115-7bhkfcvw/files/model-best)... Done. 0.0s\n"
          ]
        },
        {
          "output_type": "stream",
          "name": "stdout",
          "text": [
            "\b\b\b\b\b\b\b\b\b\b\b\b\b\b\b\b\b\b\b\b\b\b\b\b\b\b\b\b\b\b\b\b\b\b\b\b\b\b\b\b\b\b\b\b\b\b\b\b\b\b\b\b\b\b\b\b\b\b\b\b\b\b\b\b\b\b\b\r16/16 [==============================] - 1s 63ms/step - loss: 3.5308e-04 - val_loss: 0.0022\n",
            "Epoch 108/500\n",
            "16/16 [==============================] - 0s 5ms/step - loss: 3.6187e-04 - val_loss: 0.0025\n",
            "Epoch 109/500\n",
            " 1/16 [>.............................] - ETA: 0s - loss: 1.9225e-04"
          ]
        },
        {
          "output_type": "stream",
          "name": "stderr",
          "text": [
            "WARNING:absl:Found untraced functions such as _update_step_xla while saving (showing 1 of 1). These functions will not be directly callable after loading.\n",
            "\u001b[34m\u001b[1mwandb\u001b[0m: Adding directory to artifact (/content/wandb/run-20230518_033115-7bhkfcvw/files/model-best)... Done. 0.0s\n"
          ]
        },
        {
          "output_type": "stream",
          "name": "stdout",
          "text": [
            "\b\b\b\b\b\b\b\b\b\b\b\b\b\b\b\b\b\b\b\b\b\b\b\b\b\b\b\b\b\b\b\b\b\b\b\b\b\b\b\b\b\b\b\b\b\b\b\b\b\b\b\b\b\b\b\b\b\b\b\b\b\b\b\b\b\b\b\r16/16 [==============================] - 1s 61ms/step - loss: 3.3597e-04 - val_loss: 0.0021\n",
            "Epoch 110/500\n",
            "16/16 [==============================] - 0s 8ms/step - loss: 3.1960e-04 - val_loss: 0.0024\n",
            "Epoch 111/500\n",
            "16/16 [==============================] - 0s 4ms/step - loss: 3.1625e-04 - val_loss: 0.0022\n",
            "Epoch 112/500\n",
            " 1/16 [>.............................] - ETA: 0s - loss: 2.8343e-04"
          ]
        },
        {
          "output_type": "stream",
          "name": "stderr",
          "text": [
            "WARNING:absl:Found untraced functions such as _update_step_xla while saving (showing 1 of 1). These functions will not be directly callable after loading.\n",
            "\u001b[34m\u001b[1mwandb\u001b[0m: Adding directory to artifact (/content/wandb/run-20230518_033115-7bhkfcvw/files/model-best)... Done. 0.0s\n"
          ]
        },
        {
          "output_type": "stream",
          "name": "stdout",
          "text": [
            "\b\b\b\b\b\b\b\b\b\b\b\b\b\b\b\b\b\b\b\b\b\b\b\b\b\b\b\b\b\b\b\b\b\b\b\b\b\b\b\b\b\b\b\b\b\b\b\b\b\b\b\b\b\b\b\b\b\b\b\b\b\b\b\b\b\b\b\r16/16 [==============================] - 1s 62ms/step - loss: 3.0582e-04 - val_loss: 0.0020\n",
            "Epoch 113/500\n",
            "16/16 [==============================] - 0s 5ms/step - loss: 3.2035e-04 - val_loss: 0.0024\n",
            "Epoch 114/500\n",
            "16/16 [==============================] - 0s 4ms/step - loss: 3.2527e-04 - val_loss: 0.0020\n",
            "Epoch 115/500\n",
            " 1/16 [>.............................] - ETA: 0s - loss: 5.3010e-04"
          ]
        },
        {
          "output_type": "stream",
          "name": "stderr",
          "text": [
            "WARNING:absl:Found untraced functions such as _update_step_xla while saving (showing 1 of 1). These functions will not be directly callable after loading.\n",
            "\u001b[34m\u001b[1mwandb\u001b[0m: Adding directory to artifact (/content/wandb/run-20230518_033115-7bhkfcvw/files/model-best)... Done. 0.0s\n"
          ]
        },
        {
          "output_type": "stream",
          "name": "stdout",
          "text": [
            "\b\b\b\b\b\b\b\b\b\b\b\b\b\b\b\b\b\b\b\b\b\b\b\b\b\b\b\b\b\b\b\b\b\b\b\b\b\b\b\b\b\b\b\b\b\b\b\b\b\b\b\b\b\b\b\b\b\b\b\b\b\b\b\b\b\b\b\r16/16 [==============================] - 1s 69ms/step - loss: 2.9400e-04 - val_loss: 0.0020\n",
            "Epoch 116/500\n",
            " 1/16 [>.............................] - ETA: 0s - loss: 1.6372e-04"
          ]
        },
        {
          "output_type": "stream",
          "name": "stderr",
          "text": [
            "WARNING:absl:Found untraced functions such as _update_step_xla while saving (showing 1 of 1). These functions will not be directly callable after loading.\n",
            "\u001b[34m\u001b[1mwandb\u001b[0m: Adding directory to artifact (/content/wandb/run-20230518_033115-7bhkfcvw/files/model-best)... Done. 0.0s\n"
          ]
        },
        {
          "output_type": "stream",
          "name": "stdout",
          "text": [
            "\b\b\b\b\b\b\b\b\b\b\b\b\b\b\b\b\b\b\b\b\b\b\b\b\b\b\b\b\b\b\b\b\b\b\b\b\b\b\b\b\b\b\b\b\b\b\b\b\b\b\b\b\b\b\b\b\b\b\b\b\b\b\b\b\b\b\b\r16/16 [==============================] - 1s 82ms/step - loss: 2.9610e-04 - val_loss: 0.0017\n",
            "Epoch 117/500\n",
            "16/16 [==============================] - 0s 8ms/step - loss: 3.0297e-04 - val_loss: 0.0020\n",
            "Epoch 118/500\n",
            "16/16 [==============================] - 0s 8ms/step - loss: 2.9143e-04 - val_loss: 0.0022\n",
            "Epoch 119/500\n",
            "15/16 [===========================>..] - ETA: 0s - loss: 2.5121e-04"
          ]
        },
        {
          "output_type": "stream",
          "name": "stderr",
          "text": [
            "WARNING:absl:Found untraced functions such as _update_step_xla while saving (showing 1 of 1). These functions will not be directly callable after loading.\n",
            "\u001b[34m\u001b[1mwandb\u001b[0m: Adding directory to artifact (/content/wandb/run-20230518_033115-7bhkfcvw/files/model-best)... Done. 0.0s\n"
          ]
        },
        {
          "output_type": "stream",
          "name": "stdout",
          "text": [
            "\b\b\b\b\b\b\b\b\b\b\b\b\b\b\b\b\b\b\b\b\b\b\b\b\b\b\b\b\b\b\b\b\b\b\b\b\b\b\b\b\b\b\b\b\b\b\b\b\b\b\b\b\b\b\b\b\b\b\b\b\b\b\b\b\b\b\b\r16/16 [==============================] - 1s 99ms/step - loss: 2.4866e-04 - val_loss: 0.0016\n",
            "Epoch 120/500\n",
            "16/16 [==============================] - 0s 9ms/step - loss: 2.4910e-04 - val_loss: 0.0016\n",
            "Epoch 121/500\n",
            "16/16 [==============================] - 0s 8ms/step - loss: 2.5934e-04 - val_loss: 0.0018\n",
            "Epoch 122/500\n",
            "16/16 [==============================] - 0s 6ms/step - loss: 2.5497e-04 - val_loss: 0.0020\n",
            "Epoch 123/500\n",
            "16/16 [==============================] - 0s 6ms/step - loss: 2.6225e-04 - val_loss: 0.0018\n",
            "Epoch 124/500\n",
            " 1/16 [>.............................] - ETA: 0s - loss: 7.9895e-05"
          ]
        },
        {
          "output_type": "stream",
          "name": "stderr",
          "text": [
            "WARNING:absl:Found untraced functions such as _update_step_xla while saving (showing 1 of 1). These functions will not be directly callable after loading.\n",
            "\u001b[34m\u001b[1mwandb\u001b[0m: Adding directory to artifact (/content/wandb/run-20230518_033115-7bhkfcvw/files/model-best)... Done. 0.0s\n"
          ]
        },
        {
          "output_type": "stream",
          "name": "stdout",
          "text": [
            "\b\b\b\b\b\b\b\b\b\b\b\b\b\b\b\b\b\b\b\b\b\b\b\b\b\b\b\b\b\b\b\b\b\b\b\b\b\b\b\b\b\b\b\b\b\b\b\b\b\b\b\b\b\b\b\b\b\b\b\b\b\b\b\b\b\b\b\r16/16 [==============================] - 1s 58ms/step - loss: 2.4308e-04 - val_loss: 0.0015\n",
            "Epoch 125/500\n",
            "16/16 [==============================] - 0s 5ms/step - loss: 2.2236e-04 - val_loss: 0.0016\n",
            "Epoch 126/500\n",
            " 1/16 [>.............................] - ETA: 0s - loss: 1.3694e-04"
          ]
        },
        {
          "output_type": "stream",
          "name": "stderr",
          "text": [
            "WARNING:absl:Found untraced functions such as _update_step_xla while saving (showing 1 of 1). These functions will not be directly callable after loading.\n",
            "\u001b[34m\u001b[1mwandb\u001b[0m: Adding directory to artifact (/content/wandb/run-20230518_033115-7bhkfcvw/files/model-best)... Done. 0.0s\n"
          ]
        },
        {
          "output_type": "stream",
          "name": "stdout",
          "text": [
            "\b\b\b\b\b\b\b\b\b\b\b\b\b\b\b\b\b\b\b\b\b\b\b\b\b\b\b\b\b\b\b\b\b\b\b\b\b\b\b\b\b\b\b\b\b\b\b\b\b\b\b\b\b\b\b\b\b\b\b\b\b\b\b\b\b\b\b\r16/16 [==============================] - 1s 59ms/step - loss: 2.0479e-04 - val_loss: 0.0014\n",
            "Epoch 127/500\n",
            "16/16 [==============================] - 0s 5ms/step - loss: 2.0348e-04 - val_loss: 0.0015\n",
            "Epoch 128/500\n",
            "16/16 [==============================] - 0s 5ms/step - loss: 1.9199e-04 - val_loss: 0.0014\n",
            "Epoch 129/500\n",
            " 1/16 [>.............................] - ETA: 0s - loss: 7.7309e-05"
          ]
        },
        {
          "output_type": "stream",
          "name": "stderr",
          "text": [
            "WARNING:absl:Found untraced functions such as _update_step_xla while saving (showing 1 of 1). These functions will not be directly callable after loading.\n",
            "\u001b[34m\u001b[1mwandb\u001b[0m: Adding directory to artifact (/content/wandb/run-20230518_033115-7bhkfcvw/files/model-best)... Done. 0.0s\n"
          ]
        },
        {
          "output_type": "stream",
          "name": "stdout",
          "text": [
            "\b\b\b\b\b\b\b\b\b\b\b\b\b\b\b\b\b\b\b\b\b\b\b\b\b\b\b\b\b\b\b\b\b\b\b\b\b\b\b\b\b\b\b\b\b\b\b\b\b\b\b\b\b\b\b\b\b\b\b\b\b\b\b\b\b\b\b\r16/16 [==============================] - 1s 65ms/step - loss: 2.0422e-04 - val_loss: 0.0013\n",
            "Epoch 130/500\n",
            "16/16 [==============================] - 0s 5ms/step - loss: 2.0322e-04 - val_loss: 0.0015\n",
            "Epoch 131/500\n",
            "16/16 [==============================] - 0s 6ms/step - loss: 1.8278e-04 - val_loss: 0.0015\n",
            "Epoch 132/500\n",
            " 1/16 [>.............................] - ETA: 0s - loss: 6.7580e-05"
          ]
        },
        {
          "output_type": "stream",
          "name": "stderr",
          "text": [
            "WARNING:absl:Found untraced functions such as _update_step_xla while saving (showing 1 of 1). These functions will not be directly callable after loading.\n",
            "\u001b[34m\u001b[1mwandb\u001b[0m: Adding directory to artifact (/content/wandb/run-20230518_033115-7bhkfcvw/files/model-best)... Done. 0.0s\n"
          ]
        },
        {
          "output_type": "stream",
          "name": "stdout",
          "text": [
            "\b\b\b\b\b\b\b\b\b\b\b\b\b\b\b\b\b\b\b\b\b\b\b\b\b\b\b\b\b\b\b\b\b\b\b\b\b\b\b\b\b\b\b\b\b\b\b\b\b\b\b\b\b\b\b\b\b\b\b\b\b\b\b\b\b\b\b\r16/16 [==============================] - 1s 63ms/step - loss: 1.9233e-04 - val_loss: 0.0013\n",
            "Epoch 133/500\n",
            "16/16 [==============================] - 0s 5ms/step - loss: 1.8283e-04 - val_loss: 0.0013\n",
            "Epoch 134/500\n",
            "16/16 [==============================] - 0s 5ms/step - loss: 1.9952e-04 - val_loss: 0.0014\n",
            "Epoch 135/500\n",
            "16/16 [==============================] - 0s 5ms/step - loss: 1.9776e-04 - val_loss: 0.0016\n",
            "Epoch 136/500\n",
            "16/16 [==============================] - 0s 5ms/step - loss: 1.8767e-04 - val_loss: 0.0014\n",
            "Epoch 137/500\n",
            "16/16 [==============================] - 0s 6ms/step - loss: 1.9175e-04 - val_loss: 0.0013\n",
            "Epoch 138/500\n",
            "14/16 [=========================>....] - ETA: 0s - loss: 1.5537e-04"
          ]
        },
        {
          "output_type": "stream",
          "name": "stderr",
          "text": [
            "WARNING:absl:Found untraced functions such as _update_step_xla while saving (showing 1 of 1). These functions will not be directly callable after loading.\n",
            "\u001b[34m\u001b[1mwandb\u001b[0m: Adding directory to artifact (/content/wandb/run-20230518_033115-7bhkfcvw/files/model-best)... Done. 0.0s\n"
          ]
        },
        {
          "output_type": "stream",
          "name": "stdout",
          "text": [
            "\b\b\b\b\b\b\b\b\b\b\b\b\b\b\b\b\b\b\b\b\b\b\b\b\b\b\b\b\b\b\b\b\b\b\b\b\b\b\b\b\b\b\b\b\b\b\b\b\b\b\b\b\b\b\b\b\b\b\b\b\b\b\b\b\b\b\b\r16/16 [==============================] - 1s 63ms/step - loss: 1.6924e-04 - val_loss: 0.0011\n",
            "Epoch 139/500\n",
            "16/16 [==============================] - 0s 5ms/step - loss: 1.6088e-04 - val_loss: 0.0012\n",
            "Epoch 140/500\n",
            "16/16 [==============================] - 0s 4ms/step - loss: 1.5208e-04 - val_loss: 0.0011\n",
            "Epoch 141/500\n",
            "16/16 [==============================] - 0s 5ms/step - loss: 1.5504e-04 - val_loss: 0.0011\n",
            "Epoch 142/500\n",
            " 1/16 [>.............................] - ETA: 0s - loss: 6.2434e-05"
          ]
        },
        {
          "output_type": "stream",
          "name": "stderr",
          "text": [
            "WARNING:absl:Found untraced functions such as _update_step_xla while saving (showing 1 of 1). These functions will not be directly callable after loading.\n",
            "\u001b[34m\u001b[1mwandb\u001b[0m: Adding directory to artifact (/content/wandb/run-20230518_033115-7bhkfcvw/files/model-best)... Done. 0.0s\n"
          ]
        },
        {
          "output_type": "stream",
          "name": "stdout",
          "text": [
            "\b\b\b\b\b\b\b\b\b\b\b\b\b\b\b\b\b\b\b\b\b\b\b\b\b\b\b\b\b\b\b\b\b\b\b\b\b\b\b\b\b\b\b\b\b\b\b\b\b\b\b\b\b\b\b\b\b\b\b\b\b\b\b\b\b\b\b\r16/16 [==============================] - 1s 59ms/step - loss: 1.3945e-04 - val_loss: 9.7804e-04\n",
            "Epoch 143/500\n",
            "16/16 [==============================] - 0s 6ms/step - loss: 1.5323e-04 - val_loss: 0.0011\n",
            "Epoch 144/500\n",
            "16/16 [==============================] - 0s 5ms/step - loss: 1.7250e-04 - val_loss: 0.0014\n",
            "Epoch 145/500\n",
            "16/16 [==============================] - 0s 6ms/step - loss: 1.7834e-04 - val_loss: 0.0013\n",
            "Epoch 146/500\n",
            " 1/16 [>.............................] - ETA: 0s - loss: 1.2639e-04"
          ]
        },
        {
          "output_type": "stream",
          "name": "stderr",
          "text": [
            "WARNING:absl:Found untraced functions such as _update_step_xla while saving (showing 1 of 1). These functions will not be directly callable after loading.\n",
            "\u001b[34m\u001b[1mwandb\u001b[0m: Adding directory to artifact (/content/wandb/run-20230518_033115-7bhkfcvw/files/model-best)... Done. 0.0s\n"
          ]
        },
        {
          "output_type": "stream",
          "name": "stdout",
          "text": [
            "\b\b\b\b\b\b\b\b\b\b\b\b\b\b\b\b\b\b\b\b\b\b\b\b\b\b\b\b\b\b\b\b\b\b\b\b\b\b\b\b\b\b\b\b\b\b\b\b\b\b\b\b\b\b\b\b\b\b\b\b\b\b\b\b\b\b\b\r16/16 [==============================] - 2s 104ms/step - loss: 1.4135e-04 - val_loss: 8.9288e-04\n",
            "Epoch 147/500\n",
            " 1/16 [>.............................] - ETA: 0s - loss: 1.4771e-04"
          ]
        },
        {
          "output_type": "stream",
          "name": "stderr",
          "text": [
            "WARNING:absl:Found untraced functions such as _update_step_xla while saving (showing 1 of 1). These functions will not be directly callable after loading.\n",
            "\u001b[34m\u001b[1mwandb\u001b[0m: Adding directory to artifact (/content/wandb/run-20230518_033115-7bhkfcvw/files/model-best)... Done. 0.0s\n"
          ]
        },
        {
          "output_type": "stream",
          "name": "stdout",
          "text": [
            "\b\b\b\b\b\b\b\b\b\b\b\b\b\b\b\b\b\b\b\b\b\b\b\b\b\b\b\b\b\b\b\b\b\b\b\b\b\b\b\b\b\b\b\b\b\b\b\b\b\b\b\b\b\b\b\b\b\b\b\b\b\b\b\b\b\b\b\r16/16 [==============================] - 1s 67ms/step - loss: 1.3860e-04 - val_loss: 8.7078e-04\n",
            "Epoch 148/500\n",
            "16/16 [==============================] - 0s 6ms/step - loss: 1.3418e-04 - val_loss: 9.2077e-04\n",
            "Epoch 149/500\n",
            "16/16 [==============================] - 0s 5ms/step - loss: 1.2526e-04 - val_loss: 8.8349e-04\n",
            "Epoch 150/500\n",
            "16/16 [==============================] - 0s 9ms/step - loss: 1.3114e-04 - val_loss: 0.0011\n",
            "Epoch 151/500\n",
            "16/16 [==============================] - 0s 10ms/step - loss: 1.2711e-04 - val_loss: 9.1870e-04\n",
            "Epoch 152/500\n",
            "16/16 [==============================] - 0s 8ms/step - loss: 1.1903e-04 - val_loss: 0.0010\n",
            "Epoch 153/500\n",
            "12/16 [=====================>........] - ETA: 0s - loss: 9.1102e-05"
          ]
        },
        {
          "output_type": "stream",
          "name": "stderr",
          "text": [
            "WARNING:absl:Found untraced functions such as _update_step_xla while saving (showing 1 of 1). These functions will not be directly callable after loading.\n",
            "\u001b[34m\u001b[1mwandb\u001b[0m: Adding directory to artifact (/content/wandb/run-20230518_033115-7bhkfcvw/files/model-best)... Done. 0.0s\n"
          ]
        },
        {
          "output_type": "stream",
          "name": "stdout",
          "text": [
            "\b\b\b\b\b\b\b\b\b\b\b\b\b\b\b\b\b\b\b\b\b\b\b\b\b\b\b\b\b\b\b\b\b\b\b\b\b\b\b\b\b\b\b\b\b\b\b\b\b\b\b\b\b\b\b\b\b\b\b\b\b\b\b\b\b\b\b\r16/16 [==============================] - 1s 95ms/step - loss: 1.1175e-04 - val_loss: 7.2871e-04\n",
            "Epoch 154/500\n",
            "16/16 [==============================] - 0s 6ms/step - loss: 1.1084e-04 - val_loss: 8.8824e-04\n",
            "Epoch 155/500\n",
            "13/16 [=======================>......] - ETA: 0s - loss: 1.1066e-04"
          ]
        },
        {
          "output_type": "stream",
          "name": "stderr",
          "text": [
            "WARNING:absl:Found untraced functions such as _update_step_xla while saving (showing 1 of 1). These functions will not be directly callable after loading.\n",
            "\u001b[34m\u001b[1mwandb\u001b[0m: Adding directory to artifact (/content/wandb/run-20230518_033115-7bhkfcvw/files/model-best)... Done. 0.0s\n"
          ]
        },
        {
          "output_type": "stream",
          "name": "stdout",
          "text": [
            "\b\b\b\b\b\b\b\b\b\b\b\b\b\b\b\b\b\b\b\b\b\b\b\b\b\b\b\b\b\b\b\b\b\b\b\b\b\b\b\b\b\b\b\b\b\b\b\b\b\b\b\b\b\b\b\b\b\b\b\b\b\b\b\b\b\b\b\r16/16 [==============================] - 1s 90ms/step - loss: 1.1389e-04 - val_loss: 7.1606e-04\n",
            "Epoch 156/500\n",
            "16/16 [==============================] - 0s 5ms/step - loss: 1.5276e-04 - val_loss: 8.5258e-04\n",
            "Epoch 157/500\n",
            "16/16 [==============================] - 0s 5ms/step - loss: 1.2988e-04 - val_loss: 7.6950e-04\n",
            "Epoch 158/500\n",
            "16/16 [==============================] - 0s 5ms/step - loss: 1.0293e-04 - val_loss: 7.2690e-04\n",
            "Epoch 159/500\n",
            "16/16 [==============================] - 0s 5ms/step - loss: 1.0443e-04 - val_loss: 8.9917e-04\n",
            "Epoch 160/500\n",
            "16/16 [==============================] - 0s 5ms/step - loss: 9.9629e-05 - val_loss: 7.6374e-04\n",
            "Epoch 161/500\n",
            " 1/16 [>.............................] - ETA: 0s - loss: 2.0592e-04"
          ]
        },
        {
          "output_type": "stream",
          "name": "stderr",
          "text": [
            "WARNING:absl:Found untraced functions such as _update_step_xla while saving (showing 1 of 1). These functions will not be directly callable after loading.\n",
            "\u001b[34m\u001b[1mwandb\u001b[0m: Adding directory to artifact (/content/wandb/run-20230518_033115-7bhkfcvw/files/model-best)... Done. 0.0s\n"
          ]
        },
        {
          "output_type": "stream",
          "name": "stdout",
          "text": [
            "\b\b\b\b\b\b\b\b\b\b\b\b\b\b\b\b\b\b\b\b\b\b\b\b\b\b\b\b\b\b\b\b\b\b\b\b\b\b\b\b\b\b\b\b\b\b\b\b\b\b\b\b\b\b\b\b\b\b\b\b\b\b\b\b\b\b\b\r16/16 [==============================] - 1s 64ms/step - loss: 9.8128e-05 - val_loss: 6.6502e-04\n",
            "Epoch 162/500\n",
            " 1/16 [>.............................] - ETA: 0s - loss: 1.1812e-04"
          ]
        },
        {
          "output_type": "stream",
          "name": "stderr",
          "text": [
            "WARNING:absl:Found untraced functions such as _update_step_xla while saving (showing 1 of 1). These functions will not be directly callable after loading.\n",
            "\u001b[34m\u001b[1mwandb\u001b[0m: Adding directory to artifact (/content/wandb/run-20230518_033115-7bhkfcvw/files/model-best)... Done. 0.0s\n"
          ]
        },
        {
          "output_type": "stream",
          "name": "stdout",
          "text": [
            "\b\b\b\b\b\b\b\b\b\b\b\b\b\b\b\b\b\b\b\b\b\b\b\b\b\b\b\b\b\b\b\b\b\b\b\b\b\b\b\b\b\b\b\b\b\b\b\b\b\b\b\b\b\b\b\b\b\b\b\b\b\b\b\b\b\b\b\r16/16 [==============================] - 1s 62ms/step - loss: 1.1316e-04 - val_loss: 6.0789e-04\n",
            "Epoch 163/500\n",
            " 1/16 [>.............................] - ETA: 0s - loss: 1.4213e-04"
          ]
        },
        {
          "output_type": "stream",
          "name": "stderr",
          "text": [
            "WARNING:absl:Found untraced functions such as _update_step_xla while saving (showing 1 of 1). These functions will not be directly callable after loading.\n",
            "\u001b[34m\u001b[1mwandb\u001b[0m: Adding directory to artifact (/content/wandb/run-20230518_033115-7bhkfcvw/files/model-best)... Done. 0.0s\n"
          ]
        },
        {
          "output_type": "stream",
          "name": "stdout",
          "text": [
            "\b\b\b\b\b\b\b\b\b\b\b\b\b\b\b\b\b\b\b\b\b\b\b\b\b\b\b\b\b\b\b\b\b\b\b\b\b\b\b\b\b\b\b\b\b\b\b\b\b\b\b\b\b\b\b\b\b\b\b\b\b\b\b\b\b\b\b\r16/16 [==============================] - 1s 65ms/step - loss: 1.2928e-04 - val_loss: 5.6158e-04\n",
            "Epoch 164/500\n",
            "16/16 [==============================] - 0s 5ms/step - loss: 1.0590e-04 - val_loss: 6.4296e-04\n",
            "Epoch 165/500\n",
            " 1/16 [>.............................] - ETA: 0s - loss: 1.3517e-04"
          ]
        },
        {
          "output_type": "stream",
          "name": "stderr",
          "text": [
            "WARNING:absl:Found untraced functions such as _update_step_xla while saving (showing 1 of 1). These functions will not be directly callable after loading.\n",
            "\u001b[34m\u001b[1mwandb\u001b[0m: Adding directory to artifact (/content/wandb/run-20230518_033115-7bhkfcvw/files/model-best)... Done. 0.0s\n"
          ]
        },
        {
          "output_type": "stream",
          "name": "stdout",
          "text": [
            "\b\b\b\b\b\b\b\b\b\b\b\b\b\b\b\b\b\b\b\b\b\b\b\b\b\b\b\b\b\b\b\b\b\b\b\b\b\b\b\b\b\b\b\b\b\b\b\b\b\b\b\b\b\b\b\b\b\b\b\b\b\b\b\b\b\b\b\r16/16 [==============================] - 1s 63ms/step - loss: 1.1398e-04 - val_loss: 5.2469e-04\n",
            "Epoch 166/500\n",
            "16/16 [==============================] - 0s 6ms/step - loss: 9.6783e-05 - val_loss: 8.2007e-04\n",
            "Epoch 167/500\n",
            "16/16 [==============================] - 0s 5ms/step - loss: 8.9451e-05 - val_loss: 6.9214e-04\n",
            "Epoch 168/500\n",
            "16/16 [==============================] - 0s 4ms/step - loss: 1.0186e-04 - val_loss: 8.2561e-04\n",
            "Epoch 169/500\n",
            "16/16 [==============================] - 0s 6ms/step - loss: 8.9964e-05 - val_loss: 7.7083e-04\n",
            "Epoch 170/500\n",
            "16/16 [==============================] - 0s 5ms/step - loss: 8.6560e-05 - val_loss: 7.4115e-04\n",
            "Epoch 171/500\n",
            "16/16 [==============================] - 0s 5ms/step - loss: 8.5603e-05 - val_loss: 6.6380e-04\n",
            "Epoch 172/500\n",
            "16/16 [==============================] - 0s 7ms/step - loss: 8.0036e-05 - val_loss: 5.7297e-04\n",
            "Epoch 173/500\n",
            "16/16 [==============================] - 0s 4ms/step - loss: 8.7969e-05 - val_loss: 5.6458e-04\n",
            "Epoch 174/500\n",
            "16/16 [==============================] - 0s 5ms/step - loss: 8.6670e-05 - val_loss: 5.3670e-04\n",
            "Epoch 175/500\n",
            "16/16 [==============================] - 0s 4ms/step - loss: 7.6806e-05 - val_loss: 6.5854e-04\n",
            "Epoch 176/500\n",
            "16/16 [==============================] - 0s 5ms/step - loss: 7.3158e-05 - val_loss: 6.7639e-04\n",
            "Epoch 177/500\n",
            "16/16 [==============================] - 0s 4ms/step - loss: 8.8171e-05 - val_loss: 5.9631e-04\n",
            "Epoch 178/500\n",
            " 6/16 [==========>...................] - ETA: 0s - loss: 6.0830e-05"
          ]
        },
        {
          "output_type": "stream",
          "name": "stderr",
          "text": [
            "WARNING:absl:Found untraced functions such as _update_step_xla while saving (showing 1 of 1). These functions will not be directly callable after loading.\n",
            "\u001b[34m\u001b[1mwandb\u001b[0m: Adding directory to artifact (/content/wandb/run-20230518_033115-7bhkfcvw/files/model-best)... Done. 0.0s\n"
          ]
        },
        {
          "output_type": "stream",
          "name": "stdout",
          "text": [
            "\b\b\b\b\b\b\b\b\b\b\b\b\b\b\b\b\b\b\b\b\b\b\b\b\b\b\b\b\b\b\b\b\b\b\b\b\b\b\b\b\b\b\b\b\b\b\b\b\b\b\b\b\b\b\b\b\b\b\b\b\b\b\b\b\b\b\b\r16/16 [==============================] - 1s 65ms/step - loss: 9.5728e-05 - val_loss: 4.7856e-04\n",
            "Epoch 179/500\n",
            "16/16 [==============================] - 0s 5ms/step - loss: 7.4173e-05 - val_loss: 5.3504e-04\n",
            "Epoch 180/500\n",
            " 1/16 [>.............................] - ETA: 0s - loss: 3.2152e-05"
          ]
        },
        {
          "output_type": "stream",
          "name": "stderr",
          "text": [
            "WARNING:absl:Found untraced functions such as _update_step_xla while saving (showing 1 of 1). These functions will not be directly callable after loading.\n",
            "\u001b[34m\u001b[1mwandb\u001b[0m: Adding directory to artifact (/content/wandb/run-20230518_033115-7bhkfcvw/files/model-best)... Done. 0.0s\n"
          ]
        },
        {
          "output_type": "stream",
          "name": "stdout",
          "text": [
            "\b\b\b\b\b\b\b\b\b\b\b\b\b\b\b\b\b\b\b\b\b\b\b\b\b\b\b\b\b\b\b\b\b\b\b\b\b\b\b\b\b\b\b\b\b\b\b\b\b\b\b\b\b\b\b\b\b\b\b\b\b\b\b\b\b\b\b\r16/16 [==============================] - 1s 63ms/step - loss: 9.4323e-05 - val_loss: 4.6943e-04\n",
            "Epoch 181/500\n",
            "16/16 [==============================] - 0s 6ms/step - loss: 7.3291e-05 - val_loss: 5.4742e-04\n",
            "Epoch 182/500\n",
            "16/16 [==============================] - 0s 4ms/step - loss: 6.6409e-05 - val_loss: 5.5104e-04\n",
            "Epoch 183/500\n",
            " 1/16 [>.............................] - ETA: 0s - loss: 2.3399e-05"
          ]
        },
        {
          "output_type": "stream",
          "name": "stderr",
          "text": [
            "WARNING:absl:Found untraced functions such as _update_step_xla while saving (showing 1 of 1). These functions will not be directly callable after loading.\n",
            "\u001b[34m\u001b[1mwandb\u001b[0m: Adding directory to artifact (/content/wandb/run-20230518_033115-7bhkfcvw/files/model-best)... Done. 0.0s\n"
          ]
        },
        {
          "output_type": "stream",
          "name": "stdout",
          "text": [
            "\b\b\b\b\b\b\b\b\b\b\b\b\b\b\b\b\b\b\b\b\b\b\b\b\b\b\b\b\b\b\b\b\b\b\b\b\b\b\b\b\b\b\b\b\b\b\b\b\b\b\b\b\b\b\b\b\b\b\b\b\b\b\b\b\b\b\b\r16/16 [==============================] - 1s 58ms/step - loss: 7.0626e-05 - val_loss: 4.5964e-04\n",
            "Epoch 184/500\n",
            "16/16 [==============================] - 0s 5ms/step - loss: 7.2300e-05 - val_loss: 5.6494e-04\n",
            "Epoch 185/500\n",
            " 1/16 [>.............................] - ETA: 0s - loss: 1.9780e-05"
          ]
        },
        {
          "output_type": "stream",
          "name": "stderr",
          "text": [
            "WARNING:absl:Found untraced functions such as _update_step_xla while saving (showing 1 of 1). These functions will not be directly callable after loading.\n",
            "\u001b[34m\u001b[1mwandb\u001b[0m: Adding directory to artifact (/content/wandb/run-20230518_033115-7bhkfcvw/files/model-best)... Done. 0.0s\n"
          ]
        },
        {
          "output_type": "stream",
          "name": "stdout",
          "text": [
            "\b\b\b\b\b\b\b\b\b\b\b\b\b\b\b\b\b\b\b\b\b\b\b\b\b\b\b\b\b\b\b\b\b\b\b\b\b\b\b\b\b\b\b\b\b\b\b\b\b\b\b\b\b\b\b\b\b\b\b\b\b\b\b\b\b\b\b\r16/16 [==============================] - 1s 63ms/step - loss: 6.2332e-05 - val_loss: 3.5104e-04\n",
            "Epoch 186/500\n",
            "16/16 [==============================] - 0s 9ms/step - loss: 7.0821e-05 - val_loss: 4.8616e-04\n",
            "Epoch 187/500\n",
            "16/16 [==============================] - 0s 9ms/step - loss: 6.7360e-05 - val_loss: 5.0114e-04\n",
            "Epoch 188/500\n",
            "16/16 [==============================] - 0s 10ms/step - loss: 7.0882e-05 - val_loss: 3.8009e-04\n",
            "Epoch 189/500\n",
            "16/16 [==============================] - 0s 10ms/step - loss: 6.7025e-05 - val_loss: 4.0250e-04\n",
            "Epoch 190/500\n",
            "16/16 [==============================] - 0s 7ms/step - loss: 5.6725e-05 - val_loss: 4.3181e-04\n",
            "Epoch 191/500\n",
            "16/16 [==============================] - 0s 15ms/step - loss: 6.8308e-05 - val_loss: 4.9725e-04\n",
            "Epoch 192/500\n",
            "16/16 [==============================] - 0s 10ms/step - loss: 5.9197e-05 - val_loss: 5.8675e-04\n",
            "Epoch 193/500\n",
            "16/16 [==============================] - 0s 10ms/step - loss: 8.2003e-05 - val_loss: 4.6947e-04\n",
            "Epoch 194/500\n",
            "16/16 [==============================] - 0s 8ms/step - loss: 7.0884e-05 - val_loss: 4.0739e-04\n",
            "Epoch 195/500\n",
            "16/16 [==============================] - 0s 10ms/step - loss: 6.1543e-05 - val_loss: 4.4306e-04\n",
            "Epoch 196/500\n",
            "16/16 [==============================] - 0s 10ms/step - loss: 4.8211e-05 - val_loss: 4.2454e-04\n",
            "Epoch 197/500\n",
            "16/16 [==============================] - 0s 10ms/step - loss: 5.5233e-05 - val_loss: 3.5990e-04\n",
            "Epoch 198/500\n",
            "16/16 [==============================] - 0s 12ms/step - loss: 6.3133e-05 - val_loss: 4.4746e-04\n",
            "Epoch 199/500\n",
            "16/16 [==============================] - 0s 11ms/step - loss: 6.9891e-05 - val_loss: 3.5566e-04\n",
            "Epoch 200/500\n",
            "16/16 [==============================] - 0s 10ms/step - loss: 5.0732e-05 - val_loss: 4.5294e-04\n",
            "Epoch 201/500\n",
            "11/16 [===================>..........] - ETA: 0s - loss: 5.7908e-05"
          ]
        },
        {
          "output_type": "stream",
          "name": "stderr",
          "text": [
            "WARNING:absl:Found untraced functions such as _update_step_xla while saving (showing 1 of 1). These functions will not be directly callable after loading.\n",
            "\u001b[34m\u001b[1mwandb\u001b[0m: Adding directory to artifact (/content/wandb/run-20230518_033115-7bhkfcvw/files/model-best)... Done. 0.0s\n"
          ]
        },
        {
          "output_type": "stream",
          "name": "stdout",
          "text": [
            "\b\b\b\b\b\b\b\b\b\b\b\b\b\b\b\b\b\b\b\b\b\b\b\b\b\b\b\b\b\b\b\b\b\b\b\b\b\b\b\b\b\b\b\b\b\b\b\b\b\b\b\b\b\b\b\b\b\b\b\b\b\b\b\b\b\b\b\r16/16 [==============================] - 2s 118ms/step - loss: 5.2799e-05 - val_loss: 3.3816e-04\n",
            "Epoch 202/500\n",
            "16/16 [==============================] - 0s 15ms/step - loss: 5.8470e-05 - val_loss: 3.4364e-04\n",
            "Epoch 203/500\n",
            "16/16 [==============================] - 0s 9ms/step - loss: 5.4369e-05 - val_loss: 4.6108e-04\n",
            "Epoch 204/500\n",
            "16/16 [==============================] - 0s 8ms/step - loss: 5.8569e-05 - val_loss: 3.4858e-04\n",
            "Epoch 205/500\n",
            "16/16 [==============================] - 0s 9ms/step - loss: 5.8373e-05 - val_loss: 4.1784e-04\n",
            "Epoch 206/500\n",
            "16/16 [==============================] - 0s 8ms/step - loss: 7.6321e-05 - val_loss: 5.8732e-04\n",
            "Epoch 207/500\n",
            "16/16 [==============================] - 0s 8ms/step - loss: 5.9964e-05 - val_loss: 3.6811e-04\n",
            "Epoch 208/500\n",
            "14/16 [=========================>....] - ETA: 0s - loss: 6.8816e-05"
          ]
        },
        {
          "output_type": "stream",
          "name": "stderr",
          "text": [
            "WARNING:absl:Found untraced functions such as _update_step_xla while saving (showing 1 of 1). These functions will not be directly callable after loading.\n",
            "\u001b[34m\u001b[1mwandb\u001b[0m: Adding directory to artifact (/content/wandb/run-20230518_033115-7bhkfcvw/files/model-best)... Done. 0.0s\n"
          ]
        },
        {
          "output_type": "stream",
          "name": "stdout",
          "text": [
            "\b\b\b\b\b\b\b\b\b\b\b\b\b\b\b\b\b\b\b\b\b\b\b\b\b\b\b\b\b\b\b\b\b\b\b\b\b\b\b\b\b\b\b\b\b\b\b\b\b\b\b\b\b\b\b\b\b\b\b\b\b\b\b\b\b\b\b\r16/16 [==============================] - 2s 122ms/step - loss: 7.8548e-05 - val_loss: 2.2698e-04\n",
            "Epoch 209/500\n",
            "16/16 [==============================] - 0s 5ms/step - loss: 9.8129e-05 - val_loss: 4.7364e-04\n",
            "Epoch 210/500\n",
            "16/16 [==============================] - 0s 5ms/step - loss: 6.6360e-05 - val_loss: 4.4464e-04\n",
            "Epoch 211/500\n",
            "16/16 [==============================] - 0s 6ms/step - loss: 1.0624e-04 - val_loss: 2.4737e-04\n",
            "Epoch 212/500\n",
            "16/16 [==============================] - 0s 7ms/step - loss: 5.8178e-05 - val_loss: 4.2875e-04\n",
            "Epoch 213/500\n",
            "16/16 [==============================] - 0s 6ms/step - loss: 5.1532e-05 - val_loss: 2.8238e-04\n",
            "Epoch 214/500\n",
            "16/16 [==============================] - 0s 5ms/step - loss: 5.4057e-05 - val_loss: 4.2607e-04\n",
            "Epoch 215/500\n",
            "16/16 [==============================] - 0s 6ms/step - loss: 5.8792e-05 - val_loss: 3.1962e-04\n",
            "Epoch 216/500\n",
            "16/16 [==============================] - 0s 5ms/step - loss: 5.2272e-05 - val_loss: 3.8406e-04\n",
            "Epoch 217/500\n",
            "16/16 [==============================] - 0s 5ms/step - loss: 4.7917e-05 - val_loss: 3.4395e-04\n",
            "Epoch 218/500\n",
            "16/16 [==============================] - 0s 6ms/step - loss: 5.7694e-05 - val_loss: 2.7957e-04\n",
            "Epoch 219/500\n",
            "16/16 [==============================] - 0s 5ms/step - loss: 3.9599e-05 - val_loss: 3.6373e-04\n",
            "Epoch 220/500\n",
            "16/16 [==============================] - 0s 6ms/step - loss: 4.5112e-05 - val_loss: 3.3651e-04\n",
            "Epoch 221/500\n",
            "16/16 [==============================] - 0s 5ms/step - loss: 4.4965e-05 - val_loss: 3.9969e-04\n",
            "Epoch 222/500\n",
            "16/16 [==============================] - 0s 5ms/step - loss: 4.5894e-05 - val_loss: 2.7660e-04\n",
            "Epoch 223/500\n",
            "16/16 [==============================] - 0s 5ms/step - loss: 4.1803e-05 - val_loss: 3.7000e-04\n",
            "Epoch 224/500\n",
            "16/16 [==============================] - 0s 5ms/step - loss: 4.0812e-05 - val_loss: 3.3319e-04\n",
            "Epoch 225/500\n",
            " 1/16 [>.............................] - ETA: 0s - loss: 2.7162e-05"
          ]
        },
        {
          "output_type": "stream",
          "name": "stderr",
          "text": [
            "WARNING:absl:Found untraced functions such as _update_step_xla while saving (showing 1 of 1). These functions will not be directly callable after loading.\n",
            "\u001b[34m\u001b[1mwandb\u001b[0m: Adding directory to artifact (/content/wandb/run-20230518_033115-7bhkfcvw/files/model-best)... Done. 0.0s\n"
          ]
        },
        {
          "output_type": "stream",
          "name": "stdout",
          "text": [
            "\b\b\b\b\b\b\b\b\b\b\b\b\b\b\b\b\b\b\b\b\b\b\b\b\b\b\b\b\b\b\b\b\b\b\b\b\b\b\b\b\b\b\b\b\b\b\b\b\b\b\b\b\b\b\b\b\b\b\b\b\b\b\b\b\b\b\b\r16/16 [==============================] - 1s 67ms/step - loss: 3.7455e-05 - val_loss: 1.9076e-04\n",
            "Epoch 226/500\n",
            "16/16 [==============================] - 0s 5ms/step - loss: 4.2798e-05 - val_loss: 3.9025e-04\n",
            "Epoch 227/500\n",
            "16/16 [==============================] - 0s 4ms/step - loss: 4.5233e-05 - val_loss: 2.5628e-04\n",
            "Epoch 228/500\n",
            "16/16 [==============================] - 0s 4ms/step - loss: 3.6500e-05 - val_loss: 3.1482e-04\n",
            "Epoch 229/500\n",
            "16/16 [==============================] - 0s 5ms/step - loss: 5.3042e-05 - val_loss: 3.9596e-04\n",
            "Epoch 230/500\n",
            "16/16 [==============================] - 0s 5ms/step - loss: 5.2802e-05 - val_loss: 2.7311e-04\n",
            "Epoch 231/500\n",
            "16/16 [==============================] - 0s 4ms/step - loss: 4.5243e-05 - val_loss: 2.6881e-04\n",
            "Epoch 232/500\n",
            "16/16 [==============================] - 0s 5ms/step - loss: 4.4461e-05 - val_loss: 2.1904e-04\n",
            "Epoch 233/500\n",
            "16/16 [==============================] - 0s 5ms/step - loss: 4.7945e-05 - val_loss: 2.0233e-04\n",
            "Epoch 234/500\n",
            "16/16 [==============================] - 0s 5ms/step - loss: 3.7430e-05 - val_loss: 2.6800e-04\n",
            "Epoch 235/500\n",
            "16/16 [==============================] - 0s 5ms/step - loss: 4.3739e-05 - val_loss: 2.8981e-04\n",
            "Epoch 236/500\n",
            "16/16 [==============================] - 0s 5ms/step - loss: 3.9384e-05 - val_loss: 1.9258e-04\n",
            "Epoch 237/500\n",
            "16/16 [==============================] - 0s 5ms/step - loss: 3.8733e-05 - val_loss: 3.7766e-04\n",
            "Epoch 238/500\n",
            "16/16 [==============================] - 0s 5ms/step - loss: 3.8481e-05 - val_loss: 3.2951e-04\n",
            "Epoch 239/500\n",
            "16/16 [==============================] - 0s 7ms/step - loss: 4.6673e-05 - val_loss: 2.4155e-04\n",
            "Epoch 240/500\n",
            "16/16 [==============================] - 0s 5ms/step - loss: 2.8531e-05 - val_loss: 2.0711e-04\n",
            "Epoch 241/500\n",
            "16/16 [==============================] - 0s 5ms/step - loss: 3.2860e-05 - val_loss: 2.1874e-04\n",
            "Epoch 242/500\n",
            "16/16 [==============================] - 0s 6ms/step - loss: 3.5905e-05 - val_loss: 2.2137e-04\n",
            "Epoch 243/500\n",
            "16/16 [==============================] - 0s 6ms/step - loss: 3.6134e-05 - val_loss: 1.9377e-04\n",
            "Epoch 244/500\n",
            "16/16 [==============================] - 0s 5ms/step - loss: 4.2626e-05 - val_loss: 2.1625e-04\n",
            "Epoch 245/500\n",
            "16/16 [==============================] - 0s 5ms/step - loss: 4.5614e-05 - val_loss: 2.6625e-04\n",
            "Epoch 246/500\n",
            "16/16 [==============================] - 0s 5ms/step - loss: 3.1728e-05 - val_loss: 2.0104e-04\n",
            "Epoch 247/500\n",
            " 1/16 [>.............................] - ETA: 0s - loss: 4.1179e-05"
          ]
        },
        {
          "output_type": "stream",
          "name": "stderr",
          "text": [
            "WARNING:absl:Found untraced functions such as _update_step_xla while saving (showing 1 of 1). These functions will not be directly callable after loading.\n",
            "\u001b[34m\u001b[1mwandb\u001b[0m: Adding directory to artifact (/content/wandb/run-20230518_033115-7bhkfcvw/files/model-best)... Done. 0.0s\n"
          ]
        },
        {
          "output_type": "stream",
          "name": "stdout",
          "text": [
            "\b\b\b\b\b\b\b\b\b\b\b\b\b\b\b\b\b\b\b\b\b\b\b\b\b\b\b\b\b\b\b\b\b\b\b\b\b\b\b\b\b\b\b\b\b\b\b\b\b\b\b\b\b\b\b\b\b\b\b\b\b\b\b\b\b\b\b\r16/16 [==============================] - 1s 63ms/step - loss: 3.6286e-05 - val_loss: 1.3690e-04\n",
            "Epoch 248/500\n",
            "16/16 [==============================] - 0s 7ms/step - loss: 3.7260e-05 - val_loss: 1.7518e-04\n",
            "Epoch 249/500\n",
            "16/16 [==============================] - 0s 4ms/step - loss: 3.8171e-05 - val_loss: 2.5391e-04\n",
            "Epoch 250/500\n",
            "16/16 [==============================] - 0s 6ms/step - loss: 3.1027e-05 - val_loss: 1.9706e-04\n",
            "Epoch 251/500\n",
            "16/16 [==============================] - 0s 4ms/step - loss: 2.9693e-05 - val_loss: 1.6018e-04\n",
            "Epoch 252/500\n",
            "16/16 [==============================] - 0s 6ms/step - loss: 2.8096e-05 - val_loss: 1.9526e-04\n",
            "Epoch 253/500\n",
            " 1/16 [>.............................] - ETA: 0s - loss: 2.8849e-05"
          ]
        },
        {
          "output_type": "stream",
          "name": "stderr",
          "text": [
            "WARNING:absl:Found untraced functions such as _update_step_xla while saving (showing 1 of 1). These functions will not be directly callable after loading.\n",
            "\u001b[34m\u001b[1mwandb\u001b[0m: Adding directory to artifact (/content/wandb/run-20230518_033115-7bhkfcvw/files/model-best)... Done. 0.0s\n"
          ]
        },
        {
          "output_type": "stream",
          "name": "stdout",
          "text": [
            "\b\b\b\b\b\b\b\b\b\b\b\b\b\b\b\b\b\b\b\b\b\b\b\b\b\b\b\b\b\b\b\b\b\b\b\b\b\b\b\b\b\b\b\b\b\b\b\b\b\b\b\b\b\b\b\b\b\b\b\b\b\b\b\b\b\b\b\r16/16 [==============================] - 1s 63ms/step - loss: 3.0823e-05 - val_loss: 1.3678e-04\n",
            "Epoch 254/500\n",
            "16/16 [==============================] - 0s 6ms/step - loss: 3.9524e-05 - val_loss: 2.1947e-04\n",
            "Epoch 255/500\n",
            "16/16 [==============================] - 0s 6ms/step - loss: 3.4936e-05 - val_loss: 2.5827e-04\n",
            "Epoch 256/500\n",
            "16/16 [==============================] - 0s 5ms/step - loss: 2.7518e-05 - val_loss: 2.2898e-04\n",
            "Epoch 257/500\n",
            "16/16 [==============================] - 0s 5ms/step - loss: 2.8705e-05 - val_loss: 2.3060e-04\n",
            "Epoch 258/500\n",
            "16/16 [==============================] - 0s 5ms/step - loss: 3.2692e-05 - val_loss: 1.6329e-04\n",
            "Epoch 259/500\n",
            "16/16 [==============================] - 0s 8ms/step - loss: 2.9492e-05 - val_loss: 1.6336e-04\n",
            "Epoch 260/500\n",
            "16/16 [==============================] - 0s 4ms/step - loss: 3.7469e-05 - val_loss: 3.7335e-04\n",
            "Epoch 261/500\n",
            "16/16 [==============================] - 0s 5ms/step - loss: 3.2496e-05 - val_loss: 3.0768e-04\n",
            "Epoch 262/500\n",
            "16/16 [==============================] - 0s 4ms/step - loss: 2.7422e-05 - val_loss: 2.3051e-04\n",
            "Epoch 263/500\n",
            "16/16 [==============================] - 0s 5ms/step - loss: 3.4722e-05 - val_loss: 3.0633e-04\n",
            "Epoch 264/500\n",
            "16/16 [==============================] - 0s 5ms/step - loss: 4.7527e-05 - val_loss: 1.4797e-04\n",
            "Epoch 265/500\n",
            "16/16 [==============================] - 0s 6ms/step - loss: 3.1344e-05 - val_loss: 1.4563e-04\n",
            "Epoch 266/500\n",
            "16/16 [==============================] - 0s 5ms/step - loss: 2.8688e-05 - val_loss: 1.4160e-04\n",
            "Epoch 267/500\n",
            "16/16 [==============================] - 0s 5ms/step - loss: 2.9650e-05 - val_loss: 2.1704e-04\n",
            "Epoch 268/500\n",
            "16/16 [==============================] - 0s 4ms/step - loss: 3.7263e-05 - val_loss: 1.7967e-04\n",
            "Epoch 269/500\n",
            "16/16 [==============================] - 0s 5ms/step - loss: 3.1986e-05 - val_loss: 2.0961e-04\n",
            "Epoch 270/500\n",
            " 1/16 [>.............................] - ETA: 0s - loss: 3.2491e-05"
          ]
        },
        {
          "output_type": "stream",
          "name": "stderr",
          "text": [
            "WARNING:absl:Found untraced functions such as _update_step_xla while saving (showing 1 of 1). These functions will not be directly callable after loading.\n",
            "\u001b[34m\u001b[1mwandb\u001b[0m: Adding directory to artifact (/content/wandb/run-20230518_033115-7bhkfcvw/files/model-best)... Done. 0.0s\n"
          ]
        },
        {
          "output_type": "stream",
          "name": "stdout",
          "text": [
            "\b\b\b\b\b\b\b\b\b\b\b\b\b\b\b\b\b\b\b\b\b\b\b\b\b\b\b\b\b\b\b\b\b\b\b\b\b\b\b\b\b\b\b\b\b\b\b\b\b\b\b\b\b\b\b\b\b\b\b\b\b\b\b\b\b\b\b\r16/16 [==============================] - 1s 81ms/step - loss: 3.7141e-05 - val_loss: 1.0893e-04\n",
            "Epoch 271/500\n",
            "16/16 [==============================] - 0s 6ms/step - loss: 2.9980e-05 - val_loss: 1.1460e-04\n",
            "Epoch 272/500\n",
            "16/16 [==============================] - 0s 6ms/step - loss: 2.2421e-05 - val_loss: 1.2012e-04\n",
            "Epoch 273/500\n",
            "16/16 [==============================] - 0s 6ms/step - loss: 3.8125e-05 - val_loss: 1.3865e-04\n",
            "Epoch 274/500\n",
            "16/16 [==============================] - 0s 7ms/step - loss: 2.7870e-05 - val_loss: 1.5740e-04\n",
            "Epoch 275/500\n",
            "16/16 [==============================] - 0s 11ms/step - loss: 4.0929e-05 - val_loss: 2.1121e-04\n",
            "Epoch 276/500\n",
            "16/16 [==============================] - 0s 7ms/step - loss: 7.2326e-05 - val_loss: 3.0822e-04\n",
            "Epoch 277/500\n",
            "16/16 [==============================] - 0s 8ms/step - loss: 7.2517e-05 - val_loss: 4.0346e-04\n",
            "Epoch 278/500\n",
            "16/16 [==============================] - 0s 6ms/step - loss: 1.0266e-04 - val_loss: 1.9158e-04\n",
            "Epoch 279/500\n",
            "16/16 [==============================] - 0s 10ms/step - loss: 4.6955e-05 - val_loss: 2.5330e-04\n",
            "Epoch 280/500\n",
            "16/16 [==============================] - 0s 8ms/step - loss: 3.1758e-05 - val_loss: 1.6881e-04\n",
            "Epoch 281/500\n",
            "16/16 [==============================] - 0s 9ms/step - loss: 5.0770e-05 - val_loss: 2.3625e-04\n",
            "Epoch 282/500\n",
            "16/16 [==============================] - 0s 8ms/step - loss: 5.8823e-05 - val_loss: 1.7011e-04\n",
            "Epoch 283/500\n",
            " 1/16 [>.............................] - ETA: 0s - loss: 3.4409e-05"
          ]
        },
        {
          "output_type": "stream",
          "name": "stderr",
          "text": [
            "WARNING:absl:Found untraced functions such as _update_step_xla while saving (showing 1 of 1). These functions will not be directly callable after loading.\n",
            "\u001b[34m\u001b[1mwandb\u001b[0m: Adding directory to artifact (/content/wandb/run-20230518_033115-7bhkfcvw/files/model-best)... Done. 0.0s\n"
          ]
        },
        {
          "output_type": "stream",
          "name": "stdout",
          "text": [
            "\b\b\b\b\b\b\b\b\b\b\b\b\b\b\b\b\b\b\b\b\b\b\b\b\b\b\b\b\b\b\b\b\b\b\b\b\b\b\b\b\b\b\b\b\b\b\b\b\b\b\b\b\b\b\b\b\b\b\b\b\b\b\b\b\b\b\b\r16/16 [==============================] - 1s 84ms/step - loss: 3.8252e-05 - val_loss: 1.0448e-04\n",
            "Epoch 284/500\n",
            "16/16 [==============================] - 0s 6ms/step - loss: 6.6542e-05 - val_loss: 1.2526e-04\n",
            "Epoch 285/500\n",
            "16/16 [==============================] - 0s 4ms/step - loss: 4.0830e-05 - val_loss: 1.4012e-04\n",
            "Epoch 286/500\n",
            "16/16 [==============================] - 0s 5ms/step - loss: 3.7068e-05 - val_loss: 1.4122e-04\n",
            "Epoch 287/500\n",
            "16/16 [==============================] - 0s 4ms/step - loss: 2.6596e-05 - val_loss: 1.7412e-04\n",
            "Epoch 288/500\n",
            "16/16 [==============================] - 0s 4ms/step - loss: 2.7450e-05 - val_loss: 2.2301e-04\n",
            "Epoch 289/500\n",
            "16/16 [==============================] - 0s 4ms/step - loss: 3.6902e-05 - val_loss: 1.6910e-04\n",
            "Epoch 290/500\n",
            "16/16 [==============================] - 0s 5ms/step - loss: 2.6573e-05 - val_loss: 1.3213e-04\n",
            "Epoch 291/500\n",
            "16/16 [==============================] - 0s 6ms/step - loss: 2.9082e-05 - val_loss: 1.5494e-04\n",
            "Epoch 292/500\n",
            "16/16 [==============================] - 0s 6ms/step - loss: 3.2342e-05 - val_loss: 1.2784e-04\n",
            "Epoch 293/500\n",
            "16/16 [==============================] - 0s 5ms/step - loss: 2.6181e-05 - val_loss: 2.3075e-04\n",
            "Epoch 294/500\n",
            "16/16 [==============================] - 0s 5ms/step - loss: 4.0314e-05 - val_loss: 1.7437e-04\n",
            "Epoch 295/500\n",
            "16/16 [==============================] - 0s 5ms/step - loss: 3.1610e-05 - val_loss: 1.0540e-04\n",
            "Epoch 296/500\n",
            "16/16 [==============================] - 0s 5ms/step - loss: 3.4456e-05 - val_loss: 1.4423e-04\n",
            "Epoch 297/500\n",
            "16/16 [==============================] - 0s 4ms/step - loss: 2.1916e-05 - val_loss: 1.7516e-04\n",
            "Epoch 298/500\n",
            "16/16 [==============================] - 0s 5ms/step - loss: 2.3383e-05 - val_loss: 1.8218e-04\n",
            "Epoch 299/500\n",
            "16/16 [==============================] - 0s 8ms/step - loss: 2.7862e-05 - val_loss: 1.4634e-04\n",
            "Epoch 300/500\n",
            "16/16 [==============================] - 0s 5ms/step - loss: 2.6495e-05 - val_loss: 1.1799e-04\n",
            "Epoch 301/500\n",
            "16/16 [==============================] - 0s 6ms/step - loss: 2.0939e-05 - val_loss: 1.3900e-04\n",
            "Epoch 302/500\n",
            "16/16 [==============================] - 0s 4ms/step - loss: 1.9787e-05 - val_loss: 1.6778e-04\n",
            "Epoch 303/500\n",
            "16/16 [==============================] - 0s 7ms/step - loss: 2.4995e-05 - val_loss: 1.6505e-04\n",
            "Epoch 304/500\n",
            "16/16 [==============================] - 0s 4ms/step - loss: 3.8296e-05 - val_loss: 1.3144e-04\n",
            "Epoch 305/500\n",
            "16/16 [==============================] - 0s 5ms/step - loss: 2.6771e-05 - val_loss: 1.6682e-04\n",
            "Epoch 306/500\n",
            "16/16 [==============================] - 0s 4ms/step - loss: 2.3466e-05 - val_loss: 1.3634e-04\n",
            "Epoch 307/500\n",
            " 1/16 [>.............................] - ETA: 0s - loss: 3.0457e-05"
          ]
        },
        {
          "output_type": "stream",
          "name": "stderr",
          "text": [
            "WARNING:absl:Found untraced functions such as _update_step_xla while saving (showing 1 of 1). These functions will not be directly callable after loading.\n",
            "\u001b[34m\u001b[1mwandb\u001b[0m: Adding directory to artifact (/content/wandb/run-20230518_033115-7bhkfcvw/files/model-best)... Done. 0.0s\n"
          ]
        },
        {
          "output_type": "stream",
          "name": "stdout",
          "text": [
            "\b\b\b\b\b\b\b\b\b\b\b\b\b\b\b\b\b\b\b\b\b\b\b\b\b\b\b\b\b\b\b\b\b\b\b\b\b\b\b\b\b\b\b\b\b\b\b\b\b\b\b\b\b\b\b\b\b\b\b\b\b\b\b\b\b\b\b\r16/16 [==============================] - 1s 61ms/step - loss: 2.0812e-05 - val_loss: 8.9905e-05\n",
            "Epoch 308/500\n",
            "16/16 [==============================] - 0s 5ms/step - loss: 2.6101e-05 - val_loss: 8.9945e-05\n",
            "Epoch 309/500\n",
            " 1/16 [>.............................] - ETA: 0s - loss: 2.1697e-05"
          ]
        },
        {
          "output_type": "stream",
          "name": "stderr",
          "text": [
            "WARNING:absl:Found untraced functions such as _update_step_xla while saving (showing 1 of 1). These functions will not be directly callable after loading.\n",
            "\u001b[34m\u001b[1mwandb\u001b[0m: Adding directory to artifact (/content/wandb/run-20230518_033115-7bhkfcvw/files/model-best)... Done. 0.0s\n"
          ]
        },
        {
          "output_type": "stream",
          "name": "stdout",
          "text": [
            "\b\b\b\b\b\b\b\b\b\b\b\b\b\b\b\b\b\b\b\b\b\b\b\b\b\b\b\b\b\b\b\b\b\b\b\b\b\b\b\b\b\b\b\b\b\b\b\b\b\b\b\b\b\b\b\b\b\b\b\b\b\b\b\b\b\b\b\r16/16 [==============================] - 1s 63ms/step - loss: 3.0264e-05 - val_loss: 7.7564e-05\n",
            "Epoch 310/500\n",
            "16/16 [==============================] - 0s 5ms/step - loss: 3.4989e-05 - val_loss: 2.5444e-04\n",
            "Epoch 311/500\n",
            "16/16 [==============================] - 0s 4ms/step - loss: 3.8186e-05 - val_loss: 8.5509e-05\n",
            "Epoch 312/500\n",
            " 1/16 [>.............................] - ETA: 0s - loss: 1.6252e-05"
          ]
        },
        {
          "output_type": "stream",
          "name": "stderr",
          "text": [
            "WARNING:absl:Found untraced functions such as _update_step_xla while saving (showing 1 of 1). These functions will not be directly callable after loading.\n",
            "\u001b[34m\u001b[1mwandb\u001b[0m: Adding directory to artifact (/content/wandb/run-20230518_033115-7bhkfcvw/files/model-best)... Done. 0.0s\n"
          ]
        },
        {
          "output_type": "stream",
          "name": "stdout",
          "text": [
            "\b\b\b\b\b\b\b\b\b\b\b\b\b\b\b\b\b\b\b\b\b\b\b\b\b\b\b\b\b\b\b\b\b\b\b\b\b\b\b\b\b\b\b\b\b\b\b\b\b\b\b\b\b\b\b\b\b\b\b\b\b\b\b\b\b\b\b\r16/16 [==============================] - 1s 61ms/step - loss: 1.5529e-05 - val_loss: 6.5756e-05\n",
            "Epoch 313/500\n",
            "16/16 [==============================] - 0s 5ms/step - loss: 1.7036e-05 - val_loss: 1.2142e-04\n",
            "Epoch 314/500\n",
            "16/16 [==============================] - 0s 6ms/step - loss: 2.7659e-05 - val_loss: 7.4381e-05\n",
            "Epoch 315/500\n",
            "16/16 [==============================] - 0s 5ms/step - loss: 2.0866e-05 - val_loss: 1.0066e-04\n",
            "Epoch 316/500\n",
            "16/16 [==============================] - 0s 5ms/step - loss: 1.5855e-05 - val_loss: 1.1757e-04\n",
            "Epoch 317/500\n",
            "16/16 [==============================] - 0s 4ms/step - loss: 2.0439e-05 - val_loss: 1.1173e-04\n",
            "Epoch 318/500\n",
            "16/16 [==============================] - 0s 6ms/step - loss: 6.6552e-05 - val_loss: 2.0387e-04\n",
            "Epoch 319/500\n",
            "16/16 [==============================] - 0s 7ms/step - loss: 5.7817e-05 - val_loss: 9.6784e-05\n",
            "Epoch 320/500\n",
            "16/16 [==============================] - 0s 5ms/step - loss: 3.1696e-05 - val_loss: 1.1655e-04\n",
            "Epoch 321/500\n",
            "16/16 [==============================] - 0s 4ms/step - loss: 1.6566e-05 - val_loss: 1.0683e-04\n",
            "Epoch 322/500\n",
            "16/16 [==============================] - 0s 5ms/step - loss: 1.7246e-05 - val_loss: 1.1279e-04\n",
            "Epoch 323/500\n",
            "16/16 [==============================] - 0s 5ms/step - loss: 1.8281e-05 - val_loss: 9.9642e-05\n",
            "Epoch 324/500\n",
            " 1/16 [>.............................] - ETA: 0s - loss: 1.3450e-05"
          ]
        },
        {
          "output_type": "stream",
          "name": "stderr",
          "text": [
            "WARNING:absl:Found untraced functions such as _update_step_xla while saving (showing 1 of 1). These functions will not be directly callable after loading.\n",
            "\u001b[34m\u001b[1mwandb\u001b[0m: Adding directory to artifact (/content/wandb/run-20230518_033115-7bhkfcvw/files/model-best)... Done. 0.0s\n"
          ]
        },
        {
          "output_type": "stream",
          "name": "stdout",
          "text": [
            "\b\b\b\b\b\b\b\b\b\b\b\b\b\b\b\b\b\b\b\b\b\b\b\b\b\b\b\b\b\b\b\b\b\b\b\b\b\b\b\b\b\b\b\b\b\b\b\b\b\b\b\b\b\b\b\b\b\b\b\b\b\b\b\b\b\b\b\r16/16 [==============================] - 1s 65ms/step - loss: 1.4909e-05 - val_loss: 4.8048e-05\n",
            "Epoch 325/500\n",
            "16/16 [==============================] - 0s 5ms/step - loss: 1.7255e-05 - val_loss: 7.2807e-05\n",
            "Epoch 326/500\n",
            "16/16 [==============================] - 0s 5ms/step - loss: 3.6836e-05 - val_loss: 1.7353e-04\n",
            "Epoch 327/500\n",
            "16/16 [==============================] - 0s 4ms/step - loss: 2.0894e-05 - val_loss: 7.5462e-05\n",
            "Epoch 328/500\n",
            "16/16 [==============================] - 0s 4ms/step - loss: 1.9996e-05 - val_loss: 1.1511e-04\n",
            "Epoch 329/500\n",
            "16/16 [==============================] - 0s 5ms/step - loss: 2.3732e-05 - val_loss: 1.1024e-04\n",
            "Epoch 330/500\n",
            "16/16 [==============================] - 0s 5ms/step - loss: 1.3073e-05 - val_loss: 7.6189e-05\n",
            "Epoch 331/500\n",
            "16/16 [==============================] - 0s 5ms/step - loss: 2.4078e-05 - val_loss: 1.0375e-04\n",
            "Epoch 332/500\n",
            "16/16 [==============================] - 0s 5ms/step - loss: 3.3275e-05 - val_loss: 7.4274e-05\n",
            "Epoch 333/500\n",
            "16/16 [==============================] - 0s 7ms/step - loss: 2.0620e-05 - val_loss: 9.2565e-05\n",
            "Epoch 334/500\n",
            "16/16 [==============================] - 0s 5ms/step - loss: 6.1809e-05 - val_loss: 2.1907e-04\n",
            "Epoch 335/500\n",
            "16/16 [==============================] - 0s 5ms/step - loss: 4.5651e-05 - val_loss: 1.0442e-04\n",
            "Epoch 336/500\n",
            "16/16 [==============================] - 0s 5ms/step - loss: 8.0046e-05 - val_loss: 1.8914e-04\n",
            "Epoch 337/500\n",
            "16/16 [==============================] - 0s 5ms/step - loss: 7.1913e-05 - val_loss: 1.4851e-04\n",
            "Epoch 338/500\n",
            "16/16 [==============================] - 0s 5ms/step - loss: 7.0611e-05 - val_loss: 1.4542e-04\n",
            "Epoch 339/500\n",
            "16/16 [==============================] - 0s 7ms/step - loss: 7.7642e-05 - val_loss: 2.1196e-04\n",
            "Epoch 340/500\n",
            "16/16 [==============================] - 0s 4ms/step - loss: 3.8791e-05 - val_loss: 6.2819e-05\n",
            "Epoch 341/500\n",
            "16/16 [==============================] - 0s 5ms/step - loss: 1.9338e-05 - val_loss: 1.1988e-04\n",
            "Epoch 342/500\n",
            "16/16 [==============================] - 0s 5ms/step - loss: 4.5111e-05 - val_loss: 6.8506e-05\n",
            "Epoch 343/500\n",
            "16/16 [==============================] - 0s 6ms/step - loss: 6.0013e-05 - val_loss: 5.2742e-05\n",
            "Epoch 344/500\n",
            "16/16 [==============================] - 0s 5ms/step - loss: 2.8076e-05 - val_loss: 8.1616e-05\n",
            "Epoch 345/500\n",
            "16/16 [==============================] - 0s 5ms/step - loss: 2.2025e-05 - val_loss: 9.4718e-05\n",
            "Epoch 346/500\n",
            "16/16 [==============================] - 0s 5ms/step - loss: 2.1347e-05 - val_loss: 7.5697e-05\n",
            "Epoch 347/500\n",
            "16/16 [==============================] - 0s 5ms/step - loss: 1.9963e-05 - val_loss: 1.2866e-04\n",
            "Epoch 348/500\n",
            "16/16 [==============================] - 0s 4ms/step - loss: 5.8309e-05 - val_loss: 9.5476e-05\n",
            "Epoch 349/500\n",
            "16/16 [==============================] - 0s 6ms/step - loss: 8.7710e-05 - val_loss: 1.8972e-04\n",
            "Epoch 350/500\n",
            "16/16 [==============================] - 0s 5ms/step - loss: 5.7395e-05 - val_loss: 1.7095e-04\n",
            "Epoch 351/500\n",
            "16/16 [==============================] - 0s 5ms/step - loss: 7.4051e-05 - val_loss: 1.2616e-04\n",
            "Epoch 352/500\n",
            "16/16 [==============================] - 0s 6ms/step - loss: 4.0519e-05 - val_loss: 1.5488e-04\n",
            "Epoch 353/500\n",
            "16/16 [==============================] - 0s 8ms/step - loss: 3.2149e-05 - val_loss: 1.4816e-04\n",
            "Epoch 354/500\n",
            "16/16 [==============================] - 0s 10ms/step - loss: 1.7167e-05 - val_loss: 7.7676e-05\n",
            "Epoch 355/500\n",
            "16/16 [==============================] - 0s 8ms/step - loss: 4.3210e-05 - val_loss: 2.0203e-04\n",
            "Epoch 356/500\n",
            "16/16 [==============================] - 0s 10ms/step - loss: 5.8701e-05 - val_loss: 5.4745e-05\n",
            "Epoch 357/500\n",
            "16/16 [==============================] - 0s 10ms/step - loss: 2.6999e-05 - val_loss: 8.4186e-05\n",
            "Epoch 358/500\n",
            "16/16 [==============================] - 0s 12ms/step - loss: 2.4022e-05 - val_loss: 6.7330e-05\n",
            "Epoch 359/500\n",
            "12/16 [=====================>........] - ETA: 0s - loss: 1.8858e-05"
          ]
        },
        {
          "output_type": "stream",
          "name": "stderr",
          "text": [
            "WARNING:absl:Found untraced functions such as _update_step_xla while saving (showing 1 of 1). These functions will not be directly callable after loading.\n",
            "\u001b[34m\u001b[1mwandb\u001b[0m: Adding directory to artifact (/content/wandb/run-20230518_033115-7bhkfcvw/files/model-best)... Done. 0.0s\n"
          ]
        },
        {
          "output_type": "stream",
          "name": "stdout",
          "text": [
            "\b\b\b\b\b\b\b\b\b\b\b\b\b\b\b\b\b\b\b\b\b\b\b\b\b\b\b\b\b\b\b\b\b\b\b\b\b\b\b\b\b\b\b\b\b\b\b\b\b\b\b\b\b\b\b\b\b\b\b\b\b\b\b\b\b\b\b\r16/16 [==============================] - 1s 91ms/step - loss: 1.8454e-05 - val_loss: 4.5155e-05\n",
            "Epoch 360/500\n",
            "16/16 [==============================] - 0s 8ms/step - loss: 1.9059e-05 - val_loss: 7.4007e-05\n",
            "Epoch 361/500\n",
            "16/16 [==============================] - 0s 10ms/step - loss: 1.9145e-05 - val_loss: 5.1788e-05\n",
            "Epoch 362/500\n",
            "16/16 [==============================] - 0s 10ms/step - loss: 2.6521e-05 - val_loss: 4.8129e-05\n",
            "Epoch 363/500\n",
            "16/16 [==============================] - 0s 7ms/step - loss: 3.1893e-05 - val_loss: 5.3025e-05\n",
            "Epoch 364/500\n",
            "16/16 [==============================] - 0s 10ms/step - loss: 1.8485e-05 - val_loss: 8.3360e-05\n",
            "Epoch 365/500\n",
            "16/16 [==============================] - 0s 8ms/step - loss: 1.4693e-05 - val_loss: 1.0549e-04\n",
            "Epoch 366/500\n",
            "16/16 [==============================] - 0s 7ms/step - loss: 1.9059e-05 - val_loss: 8.3978e-05\n",
            "Epoch 367/500\n",
            "16/16 [==============================] - 0s 5ms/step - loss: 2.0621e-05 - val_loss: 1.1294e-04\n",
            "Epoch 368/500\n",
            "16/16 [==============================] - 0s 4ms/step - loss: 3.4939e-05 - val_loss: 1.0765e-04\n",
            "Epoch 369/500\n",
            "16/16 [==============================] - 0s 4ms/step - loss: 5.1266e-05 - val_loss: 1.6707e-04\n",
            "Epoch 370/500\n",
            "16/16 [==============================] - 0s 6ms/step - loss: 3.5858e-05 - val_loss: 1.0893e-04\n",
            "Epoch 371/500\n",
            "16/16 [==============================] - 0s 4ms/step - loss: 5.7498e-05 - val_loss: 2.3138e-04\n",
            "Epoch 372/500\n",
            "16/16 [==============================] - 0s 5ms/step - loss: 7.1333e-05 - val_loss: 1.7477e-04\n",
            "Epoch 373/500\n",
            "16/16 [==============================] - 0s 6ms/step - loss: 6.2646e-05 - val_loss: 8.7376e-05\n",
            "Epoch 374/500\n",
            "16/16 [==============================] - 0s 5ms/step - loss: 7.3086e-05 - val_loss: 1.8275e-04\n",
            "Epoch 375/500\n",
            "16/16 [==============================] - 0s 5ms/step - loss: 2.2441e-05 - val_loss: 1.1251e-04\n",
            "Epoch 376/500\n",
            "16/16 [==============================] - 0s 5ms/step - loss: 1.9427e-05 - val_loss: 5.1327e-05\n",
            "Epoch 377/500\n",
            "16/16 [==============================] - 0s 9ms/step - loss: 1.4421e-05 - val_loss: 1.0443e-04\n",
            "Epoch 378/500\n",
            "16/16 [==============================] - 0s 5ms/step - loss: 2.9085e-05 - val_loss: 8.7963e-05\n",
            "Epoch 379/500\n",
            "16/16 [==============================] - 0s 4ms/step - loss: 4.5443e-05 - val_loss: 1.0090e-04\n",
            "Epoch 380/500\n",
            "16/16 [==============================] - 0s 6ms/step - loss: 3.7689e-05 - val_loss: 4.8974e-05\n",
            "Epoch 381/500\n",
            "16/16 [==============================] - 0s 4ms/step - loss: 4.0449e-05 - val_loss: 6.2917e-05\n",
            "Epoch 382/500\n",
            "16/16 [==============================] - 0s 5ms/step - loss: 1.7455e-05 - val_loss: 8.6721e-05\n",
            "Epoch 383/500\n",
            "16/16 [==============================] - 0s 5ms/step - loss: 1.4193e-05 - val_loss: 6.7238e-05\n",
            "Epoch 384/500\n",
            "16/16 [==============================] - 0s 5ms/step - loss: 3.1630e-05 - val_loss: 1.3147e-04\n",
            "Epoch 385/500\n",
            "16/16 [==============================] - 0s 5ms/step - loss: 1.1502e-04 - val_loss: 2.9769e-04\n",
            "Epoch 386/500\n",
            "16/16 [==============================] - 0s 5ms/step - loss: 1.1684e-04 - val_loss: 1.5848e-04\n",
            "Epoch 387/500\n",
            "16/16 [==============================] - 0s 6ms/step - loss: 4.6522e-05 - val_loss: 6.3656e-05\n",
            "Epoch 388/500\n",
            "16/16 [==============================] - 0s 6ms/step - loss: 3.3704e-05 - val_loss: 1.2439e-04\n",
            "Epoch 389/500\n",
            " 1/16 [>.............................] - ETA: 0s - loss: 3.0673e-05"
          ]
        },
        {
          "output_type": "stream",
          "name": "stderr",
          "text": [
            "WARNING:absl:Found untraced functions such as _update_step_xla while saving (showing 1 of 1). These functions will not be directly callable after loading.\n",
            "\u001b[34m\u001b[1mwandb\u001b[0m: Adding directory to artifact (/content/wandb/run-20230518_033115-7bhkfcvw/files/model-best)... Done. 0.0s\n"
          ]
        },
        {
          "output_type": "stream",
          "name": "stdout",
          "text": [
            "\b\b\b\b\b\b\b\b\b\b\b\b\b\b\b\b\b\b\b\b\b\b\b\b\b\b\b\b\b\b\b\b\b\b\b\b\b\b\b\b\b\b\b\b\b\b\b\b\b\b\b\b\b\b\b\b\b\b\b\b\b\b\b\b\b\b\b\r16/16 [==============================] - 1s 65ms/step - loss: 2.1722e-05 - val_loss: 4.4735e-05\n",
            "Epoch 390/500\n",
            " 1/16 [>.............................] - ETA: 0s - loss: 1.9097e-05"
          ]
        },
        {
          "output_type": "stream",
          "name": "stderr",
          "text": [
            "WARNING:absl:Found untraced functions such as _update_step_xla while saving (showing 1 of 1). These functions will not be directly callable after loading.\n",
            "\u001b[34m\u001b[1mwandb\u001b[0m: Adding directory to artifact (/content/wandb/run-20230518_033115-7bhkfcvw/files/model-best)... Done. 0.0s\n"
          ]
        },
        {
          "output_type": "stream",
          "name": "stdout",
          "text": [
            "\b\b\b\b\b\b\b\b\b\b\b\b\b\b\b\b\b\b\b\b\b\b\b\b\b\b\b\b\b\b\b\b\b\b\b\b\b\b\b\b\b\b\b\b\b\b\b\b\b\b\b\b\b\b\b\b\b\b\b\b\b\b\b\b\b\b\b\r16/16 [==============================] - 1s 60ms/step - loss: 3.0151e-05 - val_loss: 4.0398e-05\n",
            "Epoch 391/500\n",
            "16/16 [==============================] - 0s 7ms/step - loss: 2.3379e-05 - val_loss: 9.5997e-05\n",
            "Epoch 392/500\n",
            "16/16 [==============================] - 0s 5ms/step - loss: 2.7079e-05 - val_loss: 5.3782e-05\n",
            "Epoch 393/500\n",
            "16/16 [==============================] - 0s 5ms/step - loss: 1.8809e-05 - val_loss: 1.2780e-04\n",
            "Epoch 394/500\n",
            "16/16 [==============================] - 0s 5ms/step - loss: 2.8467e-05 - val_loss: 8.9528e-05\n",
            "Epoch 395/500\n",
            "16/16 [==============================] - 0s 4ms/step - loss: 5.8954e-05 - val_loss: 4.2612e-04\n",
            "Epoch 396/500\n",
            "16/16 [==============================] - 0s 5ms/step - loss: 1.4163e-04 - val_loss: 6.5064e-05\n",
            "Epoch 397/500\n",
            "16/16 [==============================] - 0s 6ms/step - loss: 5.1739e-05 - val_loss: 4.3916e-05\n",
            "Epoch 398/500\n",
            "16/16 [==============================] - 0s 5ms/step - loss: 4.6893e-05 - val_loss: 1.4704e-04\n",
            "Epoch 399/500\n",
            "16/16 [==============================] - 0s 5ms/step - loss: 7.0436e-05 - val_loss: 9.4612e-05\n",
            "Epoch 400/500\n",
            "16/16 [==============================] - 0s 5ms/step - loss: 6.1269e-05 - val_loss: 2.6684e-04\n",
            "Epoch 401/500\n",
            " 1/16 [>.............................] - ETA: 0s - loss: 8.7496e-05"
          ]
        },
        {
          "output_type": "stream",
          "name": "stderr",
          "text": [
            "WARNING:absl:Found untraced functions such as _update_step_xla while saving (showing 1 of 1). These functions will not be directly callable after loading.\n",
            "\u001b[34m\u001b[1mwandb\u001b[0m: Adding directory to artifact (/content/wandb/run-20230518_033115-7bhkfcvw/files/model-best)... Done. 0.0s\n"
          ]
        },
        {
          "output_type": "stream",
          "name": "stdout",
          "text": [
            "\b\b\b\b\b\b\b\b\b\b\b\b\b\b\b\b\b\b\b\b\b\b\b\b\b\b\b\b\b\b\b\b\b\b\b\b\b\b\b\b\b\b\b\b\b\b\b\b\b\b\b\b\b\b\b\b\b\b\b\b\b\b\b\b\b\b\b\r16/16 [==============================] - 1s 58ms/step - loss: 4.0612e-05 - val_loss: 2.0041e-05\n",
            "Epoch 402/500\n",
            "16/16 [==============================] - 0s 5ms/step - loss: 4.2777e-05 - val_loss: 1.9766e-04\n",
            "Epoch 403/500\n",
            "16/16 [==============================] - 0s 5ms/step - loss: 5.0904e-05 - val_loss: 1.4583e-04\n",
            "Epoch 404/500\n",
            "16/16 [==============================] - 0s 5ms/step - loss: 4.1536e-05 - val_loss: 1.0919e-04\n",
            "Epoch 405/500\n",
            "16/16 [==============================] - 0s 5ms/step - loss: 3.3619e-05 - val_loss: 4.7362e-05\n",
            "Epoch 406/500\n",
            "16/16 [==============================] - 0s 6ms/step - loss: 3.3001e-05 - val_loss: 1.6558e-04\n",
            "Epoch 407/500\n",
            "16/16 [==============================] - 0s 5ms/step - loss: 3.7022e-05 - val_loss: 1.0990e-04\n",
            "Epoch 408/500\n",
            "16/16 [==============================] - 0s 4ms/step - loss: 1.7780e-05 - val_loss: 9.3018e-05\n",
            "Epoch 409/500\n",
            "16/16 [==============================] - 0s 7ms/step - loss: 1.9231e-05 - val_loss: 7.4940e-05\n",
            "Epoch 410/500\n",
            "16/16 [==============================] - 0s 5ms/step - loss: 3.9960e-05 - val_loss: 1.1894e-04\n",
            "Epoch 411/500\n",
            "16/16 [==============================] - 0s 5ms/step - loss: 4.8456e-05 - val_loss: 7.1431e-05\n",
            "Epoch 412/500\n",
            "16/16 [==============================] - 0s 6ms/step - loss: 3.0680e-05 - val_loss: 1.0649e-04\n",
            "Epoch 413/500\n",
            "16/16 [==============================] - 0s 5ms/step - loss: 2.1942e-05 - val_loss: 4.4148e-05\n",
            "Epoch 414/500\n",
            "16/16 [==============================] - 0s 4ms/step - loss: 3.1753e-05 - val_loss: 7.8135e-05\n",
            "Epoch 415/500\n",
            "16/16 [==============================] - 0s 5ms/step - loss: 3.9173e-05 - val_loss: 4.3655e-05\n",
            "Epoch 416/500\n",
            "16/16 [==============================] - 0s 5ms/step - loss: 5.0308e-05 - val_loss: 7.8973e-05\n",
            "Epoch 417/500\n",
            "16/16 [==============================] - 0s 5ms/step - loss: 3.0356e-05 - val_loss: 1.1289e-04\n",
            "Epoch 418/500\n",
            "16/16 [==============================] - 0s 4ms/step - loss: 4.2417e-05 - val_loss: 1.4461e-04\n",
            "Epoch 419/500\n",
            "16/16 [==============================] - 0s 5ms/step - loss: 4.2890e-05 - val_loss: 2.0997e-04\n",
            "Epoch 420/500\n",
            "16/16 [==============================] - 0s 6ms/step - loss: 3.8289e-05 - val_loss: 1.3113e-04\n",
            "Epoch 421/500\n",
            "16/16 [==============================] - 0s 6ms/step - loss: 3.2398e-05 - val_loss: 4.8680e-05\n",
            "Epoch 422/500\n",
            "16/16 [==============================] - 0s 6ms/step - loss: 1.9951e-05 - val_loss: 8.4711e-05\n",
            "Epoch 423/500\n",
            "16/16 [==============================] - 0s 5ms/step - loss: 3.0792e-05 - val_loss: 1.1664e-04\n",
            "Epoch 424/500\n",
            "16/16 [==============================] - 0s 5ms/step - loss: 5.9488e-05 - val_loss: 6.1878e-05\n",
            "Epoch 425/500\n",
            "16/16 [==============================] - 0s 5ms/step - loss: 1.0806e-04 - val_loss: 1.2800e-04\n",
            "Epoch 426/500\n",
            "16/16 [==============================] - 0s 5ms/step - loss: 8.3697e-05 - val_loss: 1.7192e-04\n",
            "Epoch 427/500\n",
            "16/16 [==============================] - 0s 6ms/step - loss: 6.6564e-05 - val_loss: 1.8995e-04\n",
            "Epoch 428/500\n",
            "16/16 [==============================] - 0s 9ms/step - loss: 4.2762e-05 - val_loss: 6.9230e-05\n",
            "Epoch 429/500\n",
            "16/16 [==============================] - 0s 5ms/step - loss: 2.3251e-05 - val_loss: 3.7237e-05\n",
            "Epoch 430/500\n",
            "16/16 [==============================] - 0s 5ms/step - loss: 2.7289e-05 - val_loss: 1.6662e-04\n",
            "Epoch 431/500\n",
            "16/16 [==============================] - 0s 6ms/step - loss: 5.5087e-05 - val_loss: 1.1933e-04\n",
            "Epoch 432/500\n",
            "16/16 [==============================] - 0s 7ms/step - loss: 8.2550e-05 - val_loss: 1.9243e-04\n",
            "Epoch 433/500\n",
            "16/16 [==============================] - 0s 5ms/step - loss: 9.5081e-05 - val_loss: 8.4602e-05\n",
            "Epoch 434/500\n",
            "16/16 [==============================] - 0s 5ms/step - loss: 3.8715e-05 - val_loss: 5.1478e-05\n",
            "Epoch 435/500\n",
            "16/16 [==============================] - 0s 5ms/step - loss: 4.1483e-05 - val_loss: 1.0763e-04\n",
            "Epoch 436/500\n",
            "16/16 [==============================] - 0s 6ms/step - loss: 1.7726e-05 - val_loss: 8.1651e-05\n",
            "Epoch 437/500\n",
            "16/16 [==============================] - 0s 8ms/step - loss: 1.6963e-05 - val_loss: 5.1116e-05\n",
            "Epoch 438/500\n",
            "16/16 [==============================] - 0s 5ms/step - loss: 2.1229e-05 - val_loss: 2.8265e-05\n",
            "Epoch 439/500\n",
            "16/16 [==============================] - 0s 5ms/step - loss: 1.0170e-04 - val_loss: 1.1224e-04\n",
            "Epoch 440/500\n",
            "16/16 [==============================] - 0s 5ms/step - loss: 7.7322e-05 - val_loss: 1.6511e-04\n",
            "Epoch 441/500\n",
            "16/16 [==============================] - 0s 5ms/step - loss: 1.7713e-04 - val_loss: 1.3125e-04\n",
            "Epoch 442/500\n",
            "16/16 [==============================] - 0s 5ms/step - loss: 8.1163e-05 - val_loss: 1.3443e-04\n",
            "Epoch 443/500\n",
            "16/16 [==============================] - 0s 8ms/step - loss: 3.4024e-04 - val_loss: 9.5785e-04\n",
            "Epoch 444/500\n",
            "16/16 [==============================] - 0s 9ms/step - loss: 2.9165e-04 - val_loss: 8.4217e-05\n",
            "Epoch 445/500\n",
            "16/16 [==============================] - 0s 7ms/step - loss: 1.3270e-04 - val_loss: 9.9466e-05\n",
            "Epoch 446/500\n",
            "16/16 [==============================] - 0s 8ms/step - loss: 5.4596e-05 - val_loss: 3.5834e-05\n",
            "Epoch 447/500\n",
            "16/16 [==============================] - 0s 7ms/step - loss: 3.2644e-05 - val_loss: 4.2415e-05\n",
            "Epoch 448/500\n",
            "16/16 [==============================] - 0s 7ms/step - loss: 2.5004e-05 - val_loss: 1.4495e-04\n",
            "Epoch 449/500\n",
            "16/16 [==============================] - 0s 6ms/step - loss: 2.7947e-05 - val_loss: 5.2424e-05\n",
            "Epoch 450/500\n",
            "16/16 [==============================] - 0s 7ms/step - loss: 3.6229e-05 - val_loss: 6.6649e-05\n",
            "Epoch 451/500\n",
            "16/16 [==============================] - 0s 6ms/step - loss: 2.7948e-05 - val_loss: 1.2229e-04\n",
            "Epoch 452/500\n",
            "16/16 [==============================] - 0s 8ms/step - loss: 1.7666e-05 - val_loss: 3.0233e-05\n",
            "Epoch 453/500\n",
            "16/16 [==============================] - 0s 9ms/step - loss: 1.5945e-05 - val_loss: 4.0929e-05\n",
            "Epoch 454/500\n",
            "16/16 [==============================] - 0s 7ms/step - loss: 2.7236e-05 - val_loss: 4.6352e-05\n",
            "Epoch 455/500\n",
            "16/16 [==============================] - 0s 8ms/step - loss: 2.1935e-05 - val_loss: 1.0491e-04\n",
            "Epoch 456/500\n",
            "16/16 [==============================] - 0s 9ms/step - loss: 4.4329e-05 - val_loss: 1.4471e-04\n",
            "Epoch 457/500\n",
            "16/16 [==============================] - 0s 12ms/step - loss: 4.6931e-05 - val_loss: 2.2626e-05\n",
            "Epoch 458/500\n",
            "16/16 [==============================] - 0s 9ms/step - loss: 2.1652e-05 - val_loss: 3.9789e-05\n",
            "Epoch 459/500\n",
            "16/16 [==============================] - 0s 7ms/step - loss: 2.8683e-05 - val_loss: 1.1762e-04\n",
            "Epoch 460/500\n",
            "16/16 [==============================] - 0s 8ms/step - loss: 2.3151e-05 - val_loss: 9.4491e-05\n",
            "Epoch 461/500\n",
            "16/16 [==============================] - 0s 8ms/step - loss: 1.8083e-05 - val_loss: 7.0315e-05\n",
            "Epoch 462/500\n",
            "16/16 [==============================] - 0s 9ms/step - loss: 6.7804e-05 - val_loss: 1.9391e-04\n",
            "Epoch 463/500\n",
            "16/16 [==============================] - 0s 6ms/step - loss: 2.3577e-05 - val_loss: 1.2653e-04\n",
            "Epoch 464/500\n",
            "16/16 [==============================] - 0s 6ms/step - loss: 2.7672e-05 - val_loss: 4.6773e-05\n",
            "Epoch 465/500\n",
            "16/16 [==============================] - 0s 8ms/step - loss: 2.0434e-05 - val_loss: 2.5836e-05\n",
            "Epoch 466/500\n",
            "16/16 [==============================] - 0s 9ms/step - loss: 2.8260e-05 - val_loss: 1.1070e-04\n",
            "Epoch 467/500\n",
            "16/16 [==============================] - 0s 10ms/step - loss: 3.8632e-05 - val_loss: 7.3812e-05\n",
            "Epoch 468/500\n",
            "16/16 [==============================] - 0s 9ms/step - loss: 3.4240e-05 - val_loss: 6.1401e-05\n",
            "Epoch 469/500\n",
            "16/16 [==============================] - 0s 8ms/step - loss: 2.0110e-05 - val_loss: 5.8802e-05\n",
            "Epoch 470/500\n",
            "16/16 [==============================] - 0s 8ms/step - loss: 2.1275e-05 - val_loss: 8.3149e-05\n",
            "Epoch 471/500\n",
            "16/16 [==============================] - 0s 12ms/step - loss: 2.4443e-05 - val_loss: 9.1402e-05\n",
            "Epoch 472/500\n",
            "16/16 [==============================] - 0s 7ms/step - loss: 9.4100e-05 - val_loss: 1.6079e-04\n",
            "Epoch 473/500\n",
            "16/16 [==============================] - 0s 9ms/step - loss: 1.0791e-04 - val_loss: 5.9389e-05\n",
            "Epoch 474/500\n",
            "16/16 [==============================] - 0s 5ms/step - loss: 1.1145e-04 - val_loss: 7.8985e-05\n",
            "Epoch 475/500\n",
            "16/16 [==============================] - 0s 5ms/step - loss: 1.2071e-04 - val_loss: 2.0958e-04\n",
            "Epoch 476/500\n",
            "16/16 [==============================] - 0s 5ms/step - loss: 1.3420e-04 - val_loss: 3.1433e-04\n",
            "Epoch 477/500\n",
            "16/16 [==============================] - 0s 6ms/step - loss: 4.7413e-05 - val_loss: 5.3111e-05\n",
            "Epoch 478/500\n",
            "16/16 [==============================] - 0s 5ms/step - loss: 9.2336e-05 - val_loss: 2.4066e-04\n",
            "Epoch 479/500\n",
            "16/16 [==============================] - 0s 4ms/step - loss: 1.4789e-04 - val_loss: 1.3845e-04\n",
            "Epoch 480/500\n",
            "16/16 [==============================] - 0s 5ms/step - loss: 4.6886e-05 - val_loss: 8.9724e-05\n",
            "Epoch 481/500\n",
            "16/16 [==============================] - 0s 5ms/step - loss: 4.3612e-05 - val_loss: 7.7758e-05\n",
            "Epoch 482/500\n",
            "16/16 [==============================] - 0s 5ms/step - loss: 1.8583e-05 - val_loss: 4.6784e-05\n",
            "Epoch 483/500\n",
            "16/16 [==============================] - 0s 4ms/step - loss: 2.9270e-05 - val_loss: 6.1875e-05\n",
            "Epoch 484/500\n",
            "16/16 [==============================] - 0s 5ms/step - loss: 1.9355e-05 - val_loss: 4.1984e-05\n",
            "Epoch 485/500\n",
            "16/16 [==============================] - 0s 5ms/step - loss: 1.7734e-05 - val_loss: 5.8747e-05\n",
            "Epoch 486/500\n",
            "16/16 [==============================] - 0s 5ms/step - loss: 2.1719e-05 - val_loss: 3.7527e-05\n",
            "Epoch 487/500\n",
            "16/16 [==============================] - 0s 5ms/step - loss: 1.0681e-05 - val_loss: 4.6228e-05\n",
            "Epoch 488/500\n",
            "16/16 [==============================] - 0s 5ms/step - loss: 1.3406e-05 - val_loss: 4.0766e-05\n",
            "Epoch 489/500\n",
            "16/16 [==============================] - 0s 6ms/step - loss: 2.2422e-05 - val_loss: 3.5183e-05\n",
            "Epoch 490/500\n",
            "16/16 [==============================] - 0s 8ms/step - loss: 1.2766e-05 - val_loss: 5.3121e-05\n",
            "Epoch 491/500\n",
            "16/16 [==============================] - 0s 5ms/step - loss: 1.0933e-05 - val_loss: 4.6122e-05\n",
            "Epoch 492/500\n",
            "16/16 [==============================] - 0s 7ms/step - loss: 2.0391e-05 - val_loss: 2.3882e-05\n",
            "Epoch 493/500\n",
            " 1/16 [>.............................] - ETA: 0s - loss: 1.5824e-05"
          ]
        },
        {
          "output_type": "stream",
          "name": "stderr",
          "text": [
            "WARNING:absl:Found untraced functions such as _update_step_xla while saving (showing 1 of 1). These functions will not be directly callable after loading.\n",
            "\u001b[34m\u001b[1mwandb\u001b[0m: Adding directory to artifact (/content/wandb/run-20230518_033115-7bhkfcvw/files/model-best)... Done. 0.0s\n"
          ]
        },
        {
          "output_type": "stream",
          "name": "stdout",
          "text": [
            "\b\b\b\b\b\b\b\b\b\b\b\b\b\b\b\b\b\b\b\b\b\b\b\b\b\b\b\b\b\b\b\b\b\b\b\b\b\b\b\b\b\b\b\b\b\b\b\b\b\b\b\b\b\b\b\b\b\b\b\b\b\b\b\b\b\b\b\r16/16 [==============================] - 2s 104ms/step - loss: 2.7791e-05 - val_loss: 1.7763e-05\n",
            "Epoch 494/500\n",
            "16/16 [==============================] - 0s 10ms/step - loss: 3.2745e-05 - val_loss: 7.1222e-05\n",
            "Epoch 495/500\n",
            "16/16 [==============================] - 0s 5ms/step - loss: 2.1516e-05 - val_loss: 9.3519e-05\n",
            "Epoch 496/500\n",
            "16/16 [==============================] - 0s 5ms/step - loss: 1.5060e-05 - val_loss: 5.8909e-05\n",
            "Epoch 497/500\n",
            "16/16 [==============================] - 0s 6ms/step - loss: 2.3516e-05 - val_loss: 6.3720e-05\n",
            "Epoch 498/500\n",
            "16/16 [==============================] - 0s 5ms/step - loss: 8.7257e-05 - val_loss: 7.9973e-05\n",
            "Epoch 499/500\n",
            "16/16 [==============================] - 0s 5ms/step - loss: 4.4546e-05 - val_loss: 6.9380e-05\n",
            "Epoch 500/500\n",
            "16/16 [==============================] - 0s 5ms/step - loss: 3.4409e-05 - val_loss: 1.8892e-05\n"
          ]
        }
      ]
    },
    {
      "cell_type": "code",
      "source": [
        "# Evaluar modelo\n",
        "x_test_b = np.linspace(-1, 1, 10)\n",
        "y_test_b = 1 + 2 * x_test_b + 4 * x_test_b**3\n",
        "loss_b = model_b.evaluate(x_test_b, y_test_b, verbose=1)"
      ],
      "metadata": {
        "id": "XOHDgccmkEee",
        "colab": {
          "base_uri": "https://localhost:8080/"
        },
        "outputId": "79971d85-6bac-4493-cfc8-0292f7a7e8a1"
      },
      "execution_count": 98,
      "outputs": [
        {
          "output_type": "stream",
          "name": "stdout",
          "text": [
            "1/1 [==============================] - 0s 44ms/step - loss: 1.8892e-05\n"
          ]
        }
      ]
    },
    {
      "cell_type": "code",
      "source": [
        "# Graficar función original y solución de la red\n",
        "plt.plot(x_test_b, y_test_b, label='Función original')\n",
        "plt.plot(x_test_b, model_b.predict(x_test), label='Red neuronal')\n",
        "plt.legend()\n",
        "plt.title('Función b) 1+2x+4x^3')\n",
        "plt.show()"
      ],
      "metadata": {
        "id": "ZX2Va87eq-7L",
        "colab": {
          "base_uri": "https://localhost:8080/",
          "height": 469
        },
        "outputId": "4427524e-f18a-4c94-eb24-36e033aa6aa9"
      },
      "execution_count": 100,
      "outputs": [
        {
          "output_type": "stream",
          "name": "stdout",
          "text": [
            "1/1 [==============================] - 0s 27ms/step\n"
          ]
        },
        {
          "output_type": "display_data",
          "data": {
            "text/plain": [
              "<Figure size 640x480 with 1 Axes>"
            ],
            "image/png": "[encoded data removed]"
          },
          "metadata": {}
        }
      ]
    }
  ]
}